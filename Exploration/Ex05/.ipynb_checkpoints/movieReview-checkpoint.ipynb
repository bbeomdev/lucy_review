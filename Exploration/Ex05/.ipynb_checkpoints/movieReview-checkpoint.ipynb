{
 "cells": [
  {
   "cell_type": "markdown",
   "id": "52db8b13",
   "metadata": {},
   "source": [
    "# 1) 데이터 준비와 확인"
   ]
  },
  {
   "cell_type": "code",
   "execution_count": 56,
   "id": "68f68222",
   "metadata": {
    "scrolled": true
   },
   "outputs": [
    {
     "data": {
      "text/html": [
       "<div>\n",
       "<style scoped>\n",
       "    .dataframe tbody tr th:only-of-type {\n",
       "        vertical-align: middle;\n",
       "    }\n",
       "\n",
       "    .dataframe tbody tr th {\n",
       "        vertical-align: top;\n",
       "    }\n",
       "\n",
       "    .dataframe thead th {\n",
       "        text-align: right;\n",
       "    }\n",
       "</style>\n",
       "<table border=\"1\" class=\"dataframe\">\n",
       "  <thead>\n",
       "    <tr style=\"text-align: right;\">\n",
       "      <th></th>\n",
       "      <th>id</th>\n",
       "      <th>document</th>\n",
       "      <th>label</th>\n",
       "    </tr>\n",
       "  </thead>\n",
       "  <tbody>\n",
       "    <tr>\n",
       "      <th>0</th>\n",
       "      <td>9976970</td>\n",
       "      <td>아 더빙.. 진짜 짜증나네요 목소리</td>\n",
       "      <td>0</td>\n",
       "    </tr>\n",
       "    <tr>\n",
       "      <th>1</th>\n",
       "      <td>3819312</td>\n",
       "      <td>흠...포스터보고 초딩영화줄....오버연기조차 가볍지 않구나</td>\n",
       "      <td>1</td>\n",
       "    </tr>\n",
       "    <tr>\n",
       "      <th>2</th>\n",
       "      <td>10265843</td>\n",
       "      <td>너무재밓었다그래서보는것을추천한다</td>\n",
       "      <td>0</td>\n",
       "    </tr>\n",
       "    <tr>\n",
       "      <th>3</th>\n",
       "      <td>9045019</td>\n",
       "      <td>교도소 이야기구먼 ..솔직히 재미는 없다..평점 조정</td>\n",
       "      <td>0</td>\n",
       "    </tr>\n",
       "    <tr>\n",
       "      <th>4</th>\n",
       "      <td>6483659</td>\n",
       "      <td>사이몬페그의 익살스런 연기가 돋보였던 영화!스파이더맨에서 늙어보이기만 했던 커스틴 ...</td>\n",
       "      <td>1</td>\n",
       "    </tr>\n",
       "  </tbody>\n",
       "</table>\n",
       "</div>"
      ],
      "text/plain": [
       "         id                                           document  label\n",
       "0   9976970                                아 더빙.. 진짜 짜증나네요 목소리      0\n",
       "1   3819312                  흠...포스터보고 초딩영화줄....오버연기조차 가볍지 않구나      1\n",
       "2  10265843                                  너무재밓었다그래서보는것을추천한다      0\n",
       "3   9045019                      교도소 이야기구먼 ..솔직히 재미는 없다..평점 조정      0\n",
       "4   6483659  사이몬페그의 익살스런 연기가 돋보였던 영화!스파이더맨에서 늙어보이기만 했던 커스틴 ...      1"
      ]
     },
     "execution_count": 56,
     "metadata": {},
     "output_type": "execute_result"
    }
   ],
   "source": [
    "import pandas as pd\n",
    "\n",
    "# 데이터를 읽어봅시다. \n",
    "train_data = pd.read_table('~/aiffel/sentiment_classification/data/ratings_train.txt')\n",
    "test_data = pd.read_table('~/aiffel/sentiment_classification/data/ratings_test.txt')\n",
    "\n",
    "train_data.head()"
   ]
  },
  {
   "cell_type": "markdown",
   "id": "53b39d73",
   "metadata": {},
   "source": [
    "# 2) 데이터로더 구성"
   ]
  },
  {
   "cell_type": "code",
   "execution_count": 57,
   "id": "9a97219e",
   "metadata": {},
   "outputs": [],
   "source": [
    "from konlpy.tag import Mecab\n",
    "import numpy as np\n",
    "from collections import Counter\n",
    "\n",
    "tokenizer = Mecab()\n",
    "stopwords = ['의','가','이','은','들','는','좀','잘','걍','과','도','를','으로','자','에','와','한','하다']\n",
    "\n",
    "def load_data(train_data, test_data, num_words=10000):\n",
    "    # 데이터의 중복 제거 + NaN 결측치 제거\n",
    "    train_data.drop_duplicates(subset=['document'], inplace=True)\n",
    "    train_data = train_data.dropna(how = 'any') \n",
    "    test_data.drop_duplicates(subset=['document'], inplace=True)\n",
    "    test_data = test_data.dropna(how = 'any') \n",
    "    \n",
    "    X_train = []\n",
    "    for sentence in train_data['document']:\n",
    "        temp_X = tokenizer.morphs(sentence) # 토큰화\n",
    "        temp_X = [word for word in temp_X if not word in stopwords] # 불용어 제거\n",
    "        X_train.append(temp_X)\n",
    "\n",
    "    X_test = []\n",
    "    for sentence in test_data['document']:\n",
    "        temp_X = tokenizer.morphs(sentence) # 토큰화\n",
    "        temp_X = [word for word in temp_X if not word in stopwords] # 불용어 제거\n",
    "        X_test.append(temp_X)\n",
    "    \n",
    "    words = np.concatenate(X_train).tolist()\n",
    "    counter = Counter(words)\n",
    "    counter = counter.most_common(10000-4)\n",
    "    vocab = ['<PAD>', '<BOS>', '<UNK>', '<UNUSED>'] + [key for key, _ in counter]\n",
    "    # 사전 word_to_index 구성\n",
    "    word_to_index = {word:index for index, word in enumerate(vocab)}\n",
    "    \n",
    "    # 텍스트 스트링을 사전 인덱스 스트링으로 변환\n",
    "    def wordlist_to_indexlist(wordlist):\n",
    "        return [word_to_index[word] if word in word_to_index else word_to_index['<UNK>'] for word in wordlist]\n",
    "        \n",
    "    X_train = list(map(wordlist_to_indexlist, X_train))\n",
    "    X_test = list(map(wordlist_to_indexlist, X_test))\n",
    "    \n",
    "    # X_train, y_train, X_test, y_test, word_to_index 리턴\n",
    "    return X_train, np.array(list(train_data['label'])), X_test, np.array(list(test_data['label'])), word_to_index\n",
    "    \n",
    "X_train, y_train, X_test, y_test, word_to_index = load_data(train_data, test_data)"
   ]
  },
  {
   "cell_type": "code",
   "execution_count": 58,
   "id": "c97fbd91",
   "metadata": {},
   "outputs": [],
   "source": [
    "index_to_word = {index:word for word, index in word_to_index.items()}"
   ]
  },
  {
   "cell_type": "code",
   "execution_count": 59,
   "id": "984bfda9",
   "metadata": {},
   "outputs": [],
   "source": [
    "# 문장 1개를 활용할 딕셔너리와 함께 주면, 단어 인덱스 리스트 벡터로 변환해 주는 함수입니다. \n",
    "# 단, 모든 문장은 <BOS>로 시작하는 것으로 합니다. \n",
    "def get_encoded_sentence(sentence, word_to_index):\n",
    "    return [word_to_index['<BOS>']]+[word_to_index[word] if word in word_to_index else word_to_index['<UNK>'] for word in sentence.split()]\n",
    "\n",
    "# 여러 개의 문장 리스트를 한꺼번에 단어 인덱스 리스트 벡터로 encode해 주는 함수입니다. \n",
    "def get_encoded_sentences(sentences, word_to_index):\n",
    "    return [get_encoded_sentence(sentence, word_to_index) for sentence in sentences]\n",
    "\n",
    "# 숫자 벡터로 encode된 문장을 원래대로 decode하는 함수입니다. \n",
    "def get_decoded_sentence(encoded_sentence, index_to_word):\n",
    "    return ' '.join(index_to_word[index] if index in index_to_word else '<UNK>' for index in encoded_sentence[1:])  #[1:]를 통해 <BOS>를 제외\n",
    "\n",
    "# 여러 개의 숫자 벡터로 encode된 문장을 한꺼번에 원래대로 decode하는 함수입니다. \n",
    "def get_decoded_sentences(encoded_sentences, index_to_word):\n",
    "    return [get_decoded_sentence(encoded_sentence, index_to_word) for encoded_sentence in encoded_sentences]"
   ]
  },
  {
   "cell_type": "markdown",
   "id": "bac274e3",
   "metadata": {},
   "source": [
    "# 3) 모델 구성을 위한 데이터 분석 및 가공"
   ]
  },
  {
   "cell_type": "code",
   "execution_count": 60,
   "id": "1d0a8e53",
   "metadata": {},
   "outputs": [
    {
     "name": "stderr",
     "output_type": "stream",
     "text": [
      "/opt/conda/lib/python3.9/site-packages/matplotlib/backends/backend_agg.py:240: RuntimeWarning: Glyph 54984 missing from current font.\n",
      "  font.set_text(s, 0.0, flags=flags)\n",
      "/opt/conda/lib/python3.9/site-packages/matplotlib/backends/backend_agg.py:240: RuntimeWarning: Glyph 47144 missing from current font.\n",
      "  font.set_text(s, 0.0, flags=flags)\n",
      "/opt/conda/lib/python3.9/site-packages/matplotlib/backends/backend_agg.py:240: RuntimeWarning: Glyph 45936 missing from current font.\n",
      "  font.set_text(s, 0.0, flags=flags)\n",
      "/opt/conda/lib/python3.9/site-packages/matplotlib/backends/backend_agg.py:240: RuntimeWarning: Glyph 51060 missing from current font.\n",
      "  font.set_text(s, 0.0, flags=flags)\n",
      "/opt/conda/lib/python3.9/site-packages/matplotlib/backends/backend_agg.py:240: RuntimeWarning: Glyph 53552 missing from current font.\n",
      "  font.set_text(s, 0.0, flags=flags)\n",
      "/opt/conda/lib/python3.9/site-packages/matplotlib/backends/backend_agg.py:240: RuntimeWarning: Glyph 47928 missing from current font.\n",
      "  font.set_text(s, 0.0, flags=flags)\n",
      "/opt/conda/lib/python3.9/site-packages/matplotlib/backends/backend_agg.py:240: RuntimeWarning: Glyph 51109 missing from current font.\n",
      "  font.set_text(s, 0.0, flags=flags)\n",
      "/opt/conda/lib/python3.9/site-packages/matplotlib/backends/backend_agg.py:240: RuntimeWarning: Glyph 44600 missing from current font.\n",
      "  font.set_text(s, 0.0, flags=flags)\n",
      "/opt/conda/lib/python3.9/site-packages/matplotlib/backends/backend_agg.py:240: RuntimeWarning: Glyph 48516 missing from current font.\n",
      "  font.set_text(s, 0.0, flags=flags)\n",
      "/opt/conda/lib/python3.9/site-packages/matplotlib/backends/backend_agg.py:240: RuntimeWarning: Glyph 54252 missing from current font.\n",
      "  font.set_text(s, 0.0, flags=flags)\n",
      "/opt/conda/lib/python3.9/site-packages/matplotlib/backends/backend_agg.py:240: RuntimeWarning: Glyph 48712 missing from current font.\n",
      "  font.set_text(s, 0.0, flags=flags)\n",
      "/opt/conda/lib/python3.9/site-packages/matplotlib/backends/backend_agg.py:240: RuntimeWarning: Glyph 46020 missing from current font.\n",
      "  font.set_text(s, 0.0, flags=flags)\n",
      "/opt/conda/lib/python3.9/site-packages/matplotlib/backends/backend_agg.py:240: RuntimeWarning: Glyph 49688 missing from current font.\n",
      "  font.set_text(s, 0.0, flags=flags)\n",
      "/opt/conda/lib/python3.9/site-packages/matplotlib/backends/backend_agg.py:203: RuntimeWarning: Glyph 47928 missing from current font.\n",
      "  font.set_text(s, 0, flags=flags)\n",
      "/opt/conda/lib/python3.9/site-packages/matplotlib/backends/backend_agg.py:203: RuntimeWarning: Glyph 51109 missing from current font.\n",
      "  font.set_text(s, 0, flags=flags)\n",
      "/opt/conda/lib/python3.9/site-packages/matplotlib/backends/backend_agg.py:203: RuntimeWarning: Glyph 44600 missing from current font.\n",
      "  font.set_text(s, 0, flags=flags)\n",
      "/opt/conda/lib/python3.9/site-packages/matplotlib/backends/backend_agg.py:203: RuntimeWarning: Glyph 51060 missing from current font.\n",
      "  font.set_text(s, 0, flags=flags)\n",
      "/opt/conda/lib/python3.9/site-packages/matplotlib/backends/backend_agg.py:203: RuntimeWarning: Glyph 48712 missing from current font.\n",
      "  font.set_text(s, 0, flags=flags)\n",
      "/opt/conda/lib/python3.9/site-packages/matplotlib/backends/backend_agg.py:203: RuntimeWarning: Glyph 46020 missing from current font.\n",
      "  font.set_text(s, 0, flags=flags)\n",
      "/opt/conda/lib/python3.9/site-packages/matplotlib/backends/backend_agg.py:203: RuntimeWarning: Glyph 49688 missing from current font.\n",
      "  font.set_text(s, 0, flags=flags)\n",
      "/opt/conda/lib/python3.9/site-packages/matplotlib/backends/backend_agg.py:203: RuntimeWarning: Glyph 54984 missing from current font.\n",
      "  font.set_text(s, 0, flags=flags)\n",
      "/opt/conda/lib/python3.9/site-packages/matplotlib/backends/backend_agg.py:203: RuntimeWarning: Glyph 47144 missing from current font.\n",
      "  font.set_text(s, 0, flags=flags)\n",
      "/opt/conda/lib/python3.9/site-packages/matplotlib/backends/backend_agg.py:203: RuntimeWarning: Glyph 45936 missing from current font.\n",
      "  font.set_text(s, 0, flags=flags)\n",
      "/opt/conda/lib/python3.9/site-packages/matplotlib/backends/backend_agg.py:203: RuntimeWarning: Glyph 53552 missing from current font.\n",
      "  font.set_text(s, 0, flags=flags)\n",
      "/opt/conda/lib/python3.9/site-packages/matplotlib/backends/backend_agg.py:203: RuntimeWarning: Glyph 48516 missing from current font.\n",
      "  font.set_text(s, 0, flags=flags)\n",
      "/opt/conda/lib/python3.9/site-packages/matplotlib/backends/backend_agg.py:203: RuntimeWarning: Glyph 54252 missing from current font.\n",
      "  font.set_text(s, 0, flags=flags)\n"
     ]
    },
    {
     "data": {
      "image/png": "[encoded data removed]",
      "text/plain": [
       "<Figure size 432x288 with 1 Axes>"
      ]
     },
     "metadata": {
      "needs_background": "light"
     },
     "output_type": "display_data"
    },
    {
     "name": "stdout",
     "output_type": "stream",
     "text": [
      "문장 길이 최대값: 116\n",
      "문장 길이 평균값: 15.98170773419436\n",
      "문장 길이 중간값: 12.0\n",
      "95% 문장 포함 최대 길이: 47\n",
      "패딩 후 X_train shape: (146182, 47)\n",
      "패딩 후 X_test shape: (49157, 47)\n"
     ]
    }
   ],
   "source": [
    "# 데이터셋 내 문장 길이 분포\n",
    "import matplotlib.pyplot as plt\n",
    "\n",
    "# 문장 길이 리스트 만들기\n",
    "lengths = [len(sentence) for sentence in X_train]\n",
    "\n",
    "# 히스토그램 그리기\n",
    "plt.hist(lengths, bins=50)\n",
    "plt.xlabel('문장 길이')\n",
    "plt.ylabel('빈도수')\n",
    "plt.title('훈련 데이터 문장 길이 분포')\n",
    "plt.show()\n",
    "\n",
    "# 문장 길이에 대한 통계\n",
    "print('문장 길이 최대값:', np.max(lengths))\n",
    "print('문장 길이 평균값:', np.mean(lengths))\n",
    "print('문장 길이 중간값:', np.median(lengths))\n",
    "\n",
    "# 적절한 최대 문장 길이 지정\n",
    "# 95% 문장들이 포함되는 길이 구하기\n",
    "maxlen = int(np.percentile(lengths, 95))\n",
    "print(f\"95% 문장 포함 최대 길이: {maxlen}\")\n",
    "\n",
    "# keras.preprocessing.sequence.pad_sequences을 활용한 패딩 추가\n",
    "from keras.preprocessing.sequence import pad_sequences\n",
    "\n",
    "# max_len이 위에서 지정한 최대 문장 길이 값\n",
    "X_train = tf.keras.preprocessing.sequence.pad_sequences(X_train,\n",
    "                                                        value=word_to_index[\"<PAD>\"],\n",
    "                                                        padding='pre', # 혹은 'pre'\n",
    "                                                        maxlen=maxlen)\n",
    "\n",
    "X_test = tf.keras.preprocessing.sequence.pad_sequences(X_test,\n",
    "                                                       value=word_to_index[\"<PAD>\"],\n",
    "                                                       padding='pre', # 혹은 'pre'\n",
    "                                                       maxlen=maxlen)\n",
    "\n",
    "\n",
    "print(\"패딩 후 X_train shape:\", X_train.shape)\n",
    "print(\"패딩 후 X_test shape:\", X_test.shape)\n"
   ]
  },
  {
   "cell_type": "markdown",
   "id": "78c8b504",
   "metadata": {},
   "source": [
    "# 4-1) 모델 구성 및 validation set 구성\n",
    "- LSTM 기반의 RNN 모델\n",
    "- 하이퍼파라미터를 설정하는 데에 있어서 chatGPT의 도움을 받음"
   ]
  },
  {
   "cell_type": "code",
   "execution_count": 61,
   "id": "b08dbabb",
   "metadata": {},
   "outputs": [
    {
     "name": "stdout",
     "output_type": "stream",
     "text": [
      "Model: \"sequential_16\"\n",
      "_________________________________________________________________\n",
      "Layer (type)                 Output Shape              Param #   \n",
      "=================================================================\n",
      "embedding_18 (Embedding)     (None, None, 16)          160000    \n",
      "_________________________________________________________________\n",
      "lstm_7 (LSTM)                (None, 64)                20736     \n",
      "_________________________________________________________________\n",
      "dense_30 (Dense)             (None, 8)                 520       \n",
      "_________________________________________________________________\n",
      "dense_31 (Dense)             (None, 1)                 9         \n",
      "=================================================================\n",
      "Total params: 181,265\n",
      "Trainable params: 181,265\n",
      "Non-trainable params: 0\n",
      "_________________________________________________________________\n",
      "(116182, 47)\n",
      "(116182,)\n"
     ]
    }
   ],
   "source": [
    "vocab_size = 10000    # 어휘 사전의 크기입니다(10,000개의 단어)\n",
    "word_vector_dim = 16  # 워드 벡터의 차원 수 (변경 가능한 하이퍼파라미터)\n",
    "\n",
    "model = tf.keras.Sequential()\n",
    "model.add(tf.keras.layers.Embedding(vocab_size, word_vector_dim, input_shape=(None,)))\n",
    "model.add(tf.keras.layers.LSTM(64))   # 가장 널리 쓰이는 RNN인 LSTM 레이어를 사용하였습니다.\n",
    "model.add(tf.keras.layers.Dense(8, activation='relu'))\n",
    "model.add(tf.keras.layers.Dense(1, activation='sigmoid'))  # 최종 출력은 긍정/부정을 나타내는 1dim 입니다.\n",
    "\n",
    "model.summary()\n",
    "\n",
    "# validation set는 약 20%인 30000건 분리\n",
    "X_val = X_train[:30000]   \n",
    "y_val = y_train[:30000]\n",
    "\n",
    "# validation set을 제외한 나머지\n",
    "partial_X_train = X_train[30000:]  \n",
    "partial_y_train = y_train[30000:]\n",
    "\n",
    "print(partial_X_train.shape)\n",
    "print(partial_y_train.shape)"
   ]
  },
  {
   "cell_type": "markdown",
   "id": "12b3fc71",
   "metadata": {},
   "source": [
    "# 5-1) 모델 훈련 개시"
   ]
  },
  {
   "cell_type": "code",
   "execution_count": 62,
   "id": "be5659e8",
   "metadata": {},
   "outputs": [
    {
     "name": "stdout",
     "output_type": "stream",
     "text": [
      "Epoch 1/20\n",
      "908/908 [==============================] - 8s 7ms/step - loss: 0.4080 - accuracy: 0.8125 - val_loss: 0.3434 - val_accuracy: 0.8504\n",
      "Epoch 2/20\n",
      "908/908 [==============================] - 6s 6ms/step - loss: 0.3258 - accuracy: 0.8615 - val_loss: 0.3383 - val_accuracy: 0.8540\n",
      "Epoch 3/20\n",
      "908/908 [==============================] - 6s 6ms/step - loss: 0.2993 - accuracy: 0.8740 - val_loss: 0.3277 - val_accuracy: 0.8570\n",
      "Epoch 4/20\n",
      "908/908 [==============================] - 6s 6ms/step - loss: 0.2716 - accuracy: 0.8867 - val_loss: 0.3362 - val_accuracy: 0.8579\n",
      "Epoch 5/20\n",
      "908/908 [==============================] - 6s 6ms/step - loss: 0.2469 - accuracy: 0.8976 - val_loss: 0.3423 - val_accuracy: 0.8610\n",
      "Epoch 6/20\n",
      "908/908 [==============================] - 6s 6ms/step - loss: 0.2249 - accuracy: 0.9075 - val_loss: 0.3516 - val_accuracy: 0.8567\n",
      "Epoch 7/20\n",
      "908/908 [==============================] - 6s 6ms/step - loss: 0.2059 - accuracy: 0.9164 - val_loss: 0.3686 - val_accuracy: 0.8555\n",
      "Epoch 8/20\n",
      "908/908 [==============================] - 6s 6ms/step - loss: 0.1893 - accuracy: 0.9232 - val_loss: 0.3995 - val_accuracy: 0.8515\n",
      "Epoch 9/20\n",
      "908/908 [==============================] - 6s 7ms/step - loss: 0.1736 - accuracy: 0.9301 - val_loss: 0.4263 - val_accuracy: 0.8501\n",
      "Epoch 10/20\n",
      "908/908 [==============================] - 6s 6ms/step - loss: 0.1583 - accuracy: 0.9368 - val_loss: 0.4648 - val_accuracy: 0.8496\n",
      "Epoch 11/20\n",
      "908/908 [==============================] - 6s 6ms/step - loss: 0.1456 - accuracy: 0.9424 - val_loss: 0.4576 - val_accuracy: 0.8468\n",
      "Epoch 12/20\n",
      "908/908 [==============================] - 6s 6ms/step - loss: 0.1337 - accuracy: 0.9474 - val_loss: 0.5045 - val_accuracy: 0.8471\n",
      "Epoch 13/20\n",
      "908/908 [==============================] - 6s 6ms/step - loss: 0.1225 - accuracy: 0.9512 - val_loss: 0.5771 - val_accuracy: 0.8401\n",
      "Epoch 14/20\n",
      "908/908 [==============================] - 6s 6ms/step - loss: 0.1146 - accuracy: 0.9543 - val_loss: 0.6140 - val_accuracy: 0.8399\n",
      "Epoch 15/20\n",
      "908/908 [==============================] - 6s 6ms/step - loss: 0.1043 - accuracy: 0.9584 - val_loss: 0.6555 - val_accuracy: 0.8437\n",
      "Epoch 16/20\n",
      "908/908 [==============================] - 6s 6ms/step - loss: 0.0986 - accuracy: 0.9604 - val_loss: 0.6727 - val_accuracy: 0.8425\n",
      "Epoch 17/20\n",
      "908/908 [==============================] - 6s 6ms/step - loss: 0.0922 - accuracy: 0.9626 - val_loss: 0.7205 - val_accuracy: 0.8398\n",
      "Epoch 18/20\n",
      "908/908 [==============================] - 6s 6ms/step - loss: 0.0842 - accuracy: 0.9658 - val_loss: 0.8074 - val_accuracy: 0.8389\n",
      "Epoch 19/20\n",
      "908/908 [==============================] - 6s 6ms/step - loss: 0.0838 - accuracy: 0.9658 - val_loss: 0.7996 - val_accuracy: 0.8403\n",
      "Epoch 20/20\n",
      "908/908 [==============================] - 6s 6ms/step - loss: 0.0766 - accuracy: 0.9687 - val_loss: 0.7777 - val_accuracy: 0.8394\n",
      "1537/1537 - 3s - loss: 0.7722 - accuracy: 0.8380\n",
      "[0.7722135782241821, 0.8380495309829712]\n"
     ]
    }
   ],
   "source": [
    "model.compile(optimizer='adam',\n",
    "              loss='binary_crossentropy',\n",
    "              metrics=['accuracy'])\n",
    "              \n",
    "epochs=20\n",
    "\n",
    "history = model.fit(partial_X_train,\n",
    "                    partial_y_train,\n",
    "                    epochs=epochs,\n",
    "                    batch_size=128,\n",
    "                    validation_data=(X_val, y_val),\n",
    "                    verbose=1)\n",
    "\n",
    "results = model.evaluate(X_test,  y_test, verbose=2)\n",
    "\n",
    "print(results)"
   ]
  },
  {
   "cell_type": "markdown",
   "id": "a6be6ff5",
   "metadata": {},
   "source": [
    "# 6-1) Loss, Accuracy 그래프 시각화"
   ]
  },
  {
   "cell_type": "code",
   "execution_count": 63,
   "id": "6b0d21de",
   "metadata": {},
   "outputs": [
    {
     "name": "stdout",
     "output_type": "stream",
     "text": [
      "dict_keys(['loss', 'accuracy', 'val_loss', 'val_accuracy'])\n"
     ]
    },
    {
     "data": {
      "image/png": "[encoded data removed]",
      "text/plain": [
       "<Figure size 432x288 with 1 Axes>"
      ]
     },
     "metadata": {
      "needs_background": "light"
     },
     "output_type": "display_data"
    },
    {
     "data": {
      "image/png": "[encoded data removed]",
      "text/plain": [
       "<Figure size 432x288 with 1 Axes>"
      ]
     },
     "metadata": {
      "needs_background": "light"
     },
     "output_type": "display_data"
    }
   ],
   "source": [
    "history_dict = history.history\n",
    "print(history_dict.keys()) # epoch에 따른 그래프를 그려볼 수 있는 항목들\n",
    "\n",
    "import matplotlib.pyplot as plt\n",
    "\n",
    "acc = history_dict['accuracy']\n",
    "val_acc = history_dict['val_accuracy']\n",
    "loss = history_dict['loss']\n",
    "val_loss = history_dict['val_loss']\n",
    "\n",
    "epochs = range(1, len(acc) + 1)\n",
    "\n",
    "# \"bo\"는 \"파란색 점\"입니다\n",
    "plt.plot(epochs, loss, 'bo', label='Training loss')\n",
    "# b는 \"파란 실선\"입니다\n",
    "plt.plot(epochs, val_loss, 'b', label='Validation loss')\n",
    "plt.title('Training and validation loss')\n",
    "plt.xlabel('Epochs')\n",
    "plt.ylabel('Loss')\n",
    "plt.legend()\n",
    "\n",
    "plt.show()\n",
    "\n",
    "plt.clf()   # 그림을 초기화합니다\n",
    "\n",
    "plt.plot(epochs, acc, 'bo', label='Training acc')\n",
    "plt.plot(epochs, val_acc, 'b', label='Validation acc')\n",
    "plt.title('Training and validation accuracy')\n",
    "plt.xlabel('Epochs')\n",
    "plt.ylabel('Accuracy')\n",
    "plt.legend()\n",
    "\n",
    "plt.show()"
   ]
  },
  {
   "cell_type": "markdown",
   "id": "fed00531",
   "metadata": {},
   "source": [
    "- 약 3 epoch 이후로 과대적합이 일어남"
   ]
  },
  {
   "cell_type": "markdown",
   "id": "9562779c",
   "metadata": {},
   "source": [
    "# 4-2) 모델 구성\n",
    "- 1D Convolutional Neural Network (1D CNN) 모델"
   ]
  },
  {
   "cell_type": "code",
   "execution_count": 64,
   "id": "94c9acdb",
   "metadata": {},
   "outputs": [
    {
     "name": "stdout",
     "output_type": "stream",
     "text": [
      "Model: \"sequential_17\"\n",
      "_________________________________________________________________\n",
      "Layer (type)                 Output Shape              Param #   \n",
      "=================================================================\n",
      "embedding_19 (Embedding)     (None, None, 16)          160000    \n",
      "_________________________________________________________________\n",
      "conv1d_8 (Conv1D)            (None, None, 16)          1808      \n",
      "_________________________________________________________________\n",
      "max_pooling1d_4 (MaxPooling1 (None, None, 16)          0         \n",
      "_________________________________________________________________\n",
      "conv1d_9 (Conv1D)            (None, None, 16)          1808      \n",
      "_________________________________________________________________\n",
      "global_max_pooling1d_8 (Glob (None, 16)                0         \n",
      "_________________________________________________________________\n",
      "dense_32 (Dense)             (None, 8)                 136       \n",
      "_________________________________________________________________\n",
      "dense_33 (Dense)             (None, 1)                 9         \n",
      "=================================================================\n",
      "Total params: 163,761\n",
      "Trainable params: 163,761\n",
      "Non-trainable params: 0\n",
      "_________________________________________________________________\n"
     ]
    }
   ],
   "source": [
    "vocab_size = 10000  # 어휘 사전의 크기입니다(10개의 단어)\n",
    "word_vector_dim = 16   # 단어 하나를 표현하는 임베딩 벡터의 차원 수입니다. \n",
    "\n",
    "model = tf.keras.Sequential()\n",
    "model.add(tf.keras.layers.Embedding(vocab_size, word_vector_dim, input_shape=(None,)))\n",
    "model.add(tf.keras.layers.Conv1D(16, 7, activation='relu'))\n",
    "model.add(tf.keras.layers.MaxPooling1D(5))\n",
    "model.add(tf.keras.layers.Conv1D(16, 7, activation='relu'))\n",
    "model.add(tf.keras.layers.GlobalMaxPooling1D())\n",
    "model.add(tf.keras.layers.Dense(8, activation='relu'))\n",
    "model.add(tf.keras.layers.Dense(1, activation='sigmoid'))  # 최종 출력은 긍정/부정을 나타내는 1dim 입니다.\n",
    "\n",
    "model.summary()"
   ]
  },
  {
   "cell_type": "markdown",
   "id": "c1786e20",
   "metadata": {},
   "source": [
    "# 5-2) 모델 훈련 개시"
   ]
  },
  {
   "cell_type": "code",
   "execution_count": 65,
   "id": "5dff370e",
   "metadata": {},
   "outputs": [
    {
     "name": "stdout",
     "output_type": "stream",
     "text": [
      "Epoch 1/20\n",
      "908/908 [==============================] - 5s 5ms/step - loss: 0.4309 - accuracy: 0.7915 - val_loss: 0.3510 - val_accuracy: 0.8440\n",
      "Epoch 2/20\n",
      "908/908 [==============================] - 4s 5ms/step - loss: 0.3192 - accuracy: 0.8628 - val_loss: 0.3434 - val_accuracy: 0.8477\n",
      "Epoch 3/20\n",
      "908/908 [==============================] - 4s 5ms/step - loss: 0.2749 - accuracy: 0.8847 - val_loss: 0.3556 - val_accuracy: 0.8470\n",
      "Epoch 4/20\n",
      "908/908 [==============================] - 4s 5ms/step - loss: 0.2296 - accuracy: 0.9081 - val_loss: 0.3755 - val_accuracy: 0.8436\n",
      "Epoch 5/20\n",
      "908/908 [==============================] - 4s 5ms/step - loss: 0.1867 - accuracy: 0.9283 - val_loss: 0.4181 - val_accuracy: 0.8372\n",
      "Epoch 6/20\n",
      "908/908 [==============================] - 4s 5ms/step - loss: 0.1508 - accuracy: 0.9440 - val_loss: 0.4749 - val_accuracy: 0.8283\n",
      "Epoch 7/20\n",
      "908/908 [==============================] - 4s 5ms/step - loss: 0.1242 - accuracy: 0.9548 - val_loss: 0.5391 - val_accuracy: 0.8279\n",
      "Epoch 8/20\n",
      "908/908 [==============================] - 4s 5ms/step - loss: 0.1057 - accuracy: 0.9618 - val_loss: 0.5992 - val_accuracy: 0.8253\n",
      "Epoch 9/20\n",
      "908/908 [==============================] - 4s 5ms/step - loss: 0.0929 - accuracy: 0.9665 - val_loss: 0.6889 - val_accuracy: 0.8235\n",
      "Epoch 10/20\n",
      "908/908 [==============================] - 4s 5ms/step - loss: 0.0832 - accuracy: 0.9701 - val_loss: 0.7406 - val_accuracy: 0.8174\n",
      "Epoch 11/20\n",
      "908/908 [==============================] - 4s 5ms/step - loss: 0.0770 - accuracy: 0.9718 - val_loss: 0.8167 - val_accuracy: 0.8184\n",
      "Epoch 12/20\n",
      "908/908 [==============================] - 4s 5ms/step - loss: 0.0701 - accuracy: 0.9745 - val_loss: 0.8540 - val_accuracy: 0.8115\n",
      "Epoch 13/20\n",
      "908/908 [==============================] - 4s 5ms/step - loss: 0.0654 - accuracy: 0.9757 - val_loss: 0.9232 - val_accuracy: 0.8161\n",
      "Epoch 14/20\n",
      "908/908 [==============================] - 4s 5ms/step - loss: 0.0618 - accuracy: 0.9773 - val_loss: 0.9707 - val_accuracy: 0.8150\n",
      "Epoch 15/20\n",
      "908/908 [==============================] - 4s 5ms/step - loss: 0.0583 - accuracy: 0.9781 - val_loss: 1.0788 - val_accuracy: 0.8168\n",
      "Epoch 16/20\n",
      "908/908 [==============================] - 4s 5ms/step - loss: 0.0554 - accuracy: 0.9792 - val_loss: 1.0995 - val_accuracy: 0.8128\n",
      "Epoch 17/20\n",
      "908/908 [==============================] - 4s 5ms/step - loss: 0.0535 - accuracy: 0.9798 - val_loss: 1.0907 - val_accuracy: 0.8092\n",
      "Epoch 18/20\n",
      "908/908 [==============================] - 4s 5ms/step - loss: 0.0505 - accuracy: 0.9811 - val_loss: 1.1667 - val_accuracy: 0.8130\n",
      "Epoch 19/20\n",
      "908/908 [==============================] - 4s 5ms/step - loss: 0.0478 - accuracy: 0.9816 - val_loss: 1.2633 - val_accuracy: 0.8132\n",
      "Epoch 20/20\n",
      "908/908 [==============================] - 4s 5ms/step - loss: 0.0483 - accuracy: 0.9818 - val_loss: 1.2588 - val_accuracy: 0.8115\n",
      "1537/1537 - 3s - loss: 1.2688 - accuracy: 0.8076\n",
      "[1.2687979936599731, 0.8075960874557495]\n"
     ]
    }
   ],
   "source": [
    "model.compile(optimizer='adam',\n",
    "              loss='binary_crossentropy',\n",
    "              metrics=['accuracy'])\n",
    "              \n",
    "epochs=20\n",
    "\n",
    "history = model.fit(partial_X_train,\n",
    "                    partial_y_train,\n",
    "                    epochs=epochs,\n",
    "                    batch_size=128,\n",
    "                    validation_data=(X_val, y_val),\n",
    "                    verbose=1)\n",
    "\n",
    "results = model.evaluate(X_test,  y_test, verbose=2)\n",
    "\n",
    "print(results)"
   ]
  },
  {
   "cell_type": "markdown",
   "id": "f8f14019",
   "metadata": {},
   "source": [
    "# 6-2) Loss, Accuracy 그래프 시각화"
   ]
  },
  {
   "cell_type": "code",
   "execution_count": 66,
   "id": "369d0cf1",
   "metadata": {},
   "outputs": [
    {
     "name": "stdout",
     "output_type": "stream",
     "text": [
      "dict_keys(['loss', 'accuracy', 'val_loss', 'val_accuracy'])\n"
     ]
    },
    {
     "data": {
      "image/png": "[encoded data removed]",
      "text/plain": [
       "<Figure size 432x288 with 1 Axes>"
      ]
     },
     "metadata": {
      "needs_background": "light"
     },
     "output_type": "display_data"
    },
    {
     "data": {
      "image/png": "[encoded data removed]",
      "text/plain": [
       "<Figure size 432x288 with 1 Axes>"
      ]
     },
     "metadata": {
      "needs_background": "light"
     },
     "output_type": "display_data"
    }
   ],
   "source": [
    "history_dict = history.history\n",
    "print(history_dict.keys()) # epoch에 따른 그래프를 그려볼 수 있는 항목들\n",
    "\n",
    "import matplotlib.pyplot as plt\n",
    "\n",
    "acc = history_dict['accuracy']\n",
    "val_acc = history_dict['val_accuracy']\n",
    "loss = history_dict['loss']\n",
    "val_loss = history_dict['val_loss']\n",
    "\n",
    "epochs = range(1, len(acc) + 1)\n",
    "\n",
    "# \"bo\"는 \"파란색 점\"입니다\n",
    "plt.plot(epochs, loss, 'bo', label='Training loss')\n",
    "# b는 \"파란 실선\"입니다\n",
    "plt.plot(epochs, val_loss, 'b', label='Validation loss')\n",
    "plt.title('Training and validation loss')\n",
    "plt.xlabel('Epochs')\n",
    "plt.ylabel('Loss')\n",
    "plt.legend()\n",
    "\n",
    "plt.show()\n",
    "\n",
    "plt.clf()   # 그림을 초기화합니다\n",
    "\n",
    "plt.plot(epochs, acc, 'bo', label='Training acc')\n",
    "plt.plot(epochs, val_acc, 'b', label='Validation acc')\n",
    "plt.title('Training and validation accuracy')\n",
    "plt.xlabel('Epochs')\n",
    "plt.ylabel('Accuracy')\n",
    "plt.legend()\n",
    "\n",
    "plt.show()"
   ]
  },
  {
   "cell_type": "markdown",
   "id": "8c8b0f35",
   "metadata": {},
   "source": [
    "- 약 2 epoch 이후로 과대적합이 일어남"
   ]
  },
  {
   "cell_type": "markdown",
   "id": "c6f7cf54",
   "metadata": {},
   "source": [
    "# 4-3) 모델 구성\n",
    "- Embedding + GlobalMaxPooling + Dense 모델"
   ]
  },
  {
   "cell_type": "code",
   "execution_count": 67,
   "id": "9c022d9e",
   "metadata": {},
   "outputs": [
    {
     "name": "stdout",
     "output_type": "stream",
     "text": [
      "Model: \"sequential_18\"\n",
      "_________________________________________________________________\n",
      "Layer (type)                 Output Shape              Param #   \n",
      "=================================================================\n",
      "embedding_20 (Embedding)     (None, None, 16)          160000    \n",
      "_________________________________________________________________\n",
      "global_max_pooling1d_9 (Glob (None, 16)                0         \n",
      "_________________________________________________________________\n",
      "dense_34 (Dense)             (None, 8)                 136       \n",
      "_________________________________________________________________\n",
      "dense_35 (Dense)             (None, 1)                 9         \n",
      "=================================================================\n",
      "Total params: 160,145\n",
      "Trainable params: 160,145\n",
      "Non-trainable params: 0\n",
      "_________________________________________________________________\n"
     ]
    }
   ],
   "source": [
    "vocab_size = 10000  # 어휘 사전의 크기입니다(10개의 단어)\n",
    "word_vector_dim = 16   # 단어 하나를 표현하는 임베딩 벡터의 차원 수입니다. \n",
    "\n",
    "model = tf.keras.Sequential()\n",
    "model.add(tf.keras.layers.Embedding(vocab_size, word_vector_dim, input_shape=(None,)))\n",
    "model.add(tf.keras.layers.GlobalMaxPooling1D())\n",
    "model.add(tf.keras.layers.Dense(8, activation='relu'))\n",
    "model.add(tf.keras.layers.Dense(1, activation='sigmoid'))  # 최종 출력은 긍정/부정을 나타내는 1dim 입니다.\n",
    "\n",
    "model.summary()"
   ]
  },
  {
   "cell_type": "markdown",
   "id": "a9b6e525",
   "metadata": {},
   "source": [
    "# 5-3) 모델 훈련 개시"
   ]
  },
  {
   "cell_type": "code",
   "execution_count": 68,
   "id": "b2dbedfc",
   "metadata": {},
   "outputs": [
    {
     "name": "stdout",
     "output_type": "stream",
     "text": [
      "Epoch 1/20\n",
      "908/908 [==============================] - 4s 4ms/step - loss: 0.4649 - accuracy: 0.7824 - val_loss: 0.3603 - val_accuracy: 0.8384\n",
      "Epoch 2/20\n",
      "908/908 [==============================] - 3s 4ms/step - loss: 0.3338 - accuracy: 0.8577 - val_loss: 0.3495 - val_accuracy: 0.8448\n",
      "Epoch 3/20\n",
      "908/908 [==============================] - 3s 4ms/step - loss: 0.2991 - accuracy: 0.8749 - val_loss: 0.3535 - val_accuracy: 0.8480\n",
      "Epoch 4/20\n",
      "908/908 [==============================] - 3s 4ms/step - loss: 0.2754 - accuracy: 0.8861 - val_loss: 0.3620 - val_accuracy: 0.8466\n",
      "Epoch 5/20\n",
      "908/908 [==============================] - 3s 3ms/step - loss: 0.2575 - accuracy: 0.8948 - val_loss: 0.3758 - val_accuracy: 0.8436\n",
      "Epoch 6/20\n",
      "908/908 [==============================] - 3s 4ms/step - loss: 0.2426 - accuracy: 0.9023 - val_loss: 0.3874 - val_accuracy: 0.8426\n",
      "Epoch 7/20\n",
      "908/908 [==============================] - 3s 4ms/step - loss: 0.2305 - accuracy: 0.9081 - val_loss: 0.4003 - val_accuracy: 0.8415\n",
      "Epoch 8/20\n",
      "908/908 [==============================] - 3s 4ms/step - loss: 0.2199 - accuracy: 0.9132 - val_loss: 0.4140 - val_accuracy: 0.8397\n",
      "Epoch 9/20\n",
      "908/908 [==============================] - 3s 4ms/step - loss: 0.2107 - accuracy: 0.9176 - val_loss: 0.4289 - val_accuracy: 0.8371\n",
      "Epoch 10/20\n",
      "908/908 [==============================] - 3s 4ms/step - loss: 0.2022 - accuracy: 0.9215 - val_loss: 0.4442 - val_accuracy: 0.8339\n",
      "Epoch 11/20\n",
      "908/908 [==============================] - 3s 4ms/step - loss: 0.1949 - accuracy: 0.9249 - val_loss: 0.4585 - val_accuracy: 0.8339\n",
      "Epoch 12/20\n",
      "908/908 [==============================] - 3s 4ms/step - loss: 0.1887 - accuracy: 0.9278 - val_loss: 0.4680 - val_accuracy: 0.8302\n",
      "Epoch 13/20\n",
      "908/908 [==============================] - 3s 4ms/step - loss: 0.1822 - accuracy: 0.9312 - val_loss: 0.4840 - val_accuracy: 0.8307\n",
      "Epoch 14/20\n",
      "908/908 [==============================] - 3s 4ms/step - loss: 0.1767 - accuracy: 0.9332 - val_loss: 0.4956 - val_accuracy: 0.8307\n",
      "Epoch 15/20\n",
      "908/908 [==============================] - 3s 4ms/step - loss: 0.1714 - accuracy: 0.9355 - val_loss: 0.5143 - val_accuracy: 0.8274\n",
      "Epoch 16/20\n",
      "908/908 [==============================] - 3s 4ms/step - loss: 0.1668 - accuracy: 0.9382 - val_loss: 0.5203 - val_accuracy: 0.8263\n",
      "Epoch 17/20\n",
      "908/908 [==============================] - 3s 4ms/step - loss: 0.1621 - accuracy: 0.9398 - val_loss: 0.5337 - val_accuracy: 0.8251\n",
      "Epoch 18/20\n",
      "908/908 [==============================] - 3s 4ms/step - loss: 0.1583 - accuracy: 0.9415 - val_loss: 0.5489 - val_accuracy: 0.8252\n",
      "Epoch 19/20\n",
      "908/908 [==============================] - 3s 4ms/step - loss: 0.1541 - accuracy: 0.9433 - val_loss: 0.5635 - val_accuracy: 0.8237\n",
      "Epoch 20/20\n",
      "908/908 [==============================] - 3s 4ms/step - loss: 0.1505 - accuracy: 0.9449 - val_loss: 0.5751 - val_accuracy: 0.8236\n",
      "1537/1537 - 2s - loss: 0.5808 - accuracy: 0.8209\n",
      "[0.5807991623878479, 0.8209410905838013]\n"
     ]
    }
   ],
   "source": [
    "model.compile(optimizer='adam',\n",
    "              loss='binary_crossentropy',\n",
    "              metrics=['accuracy'])\n",
    "              \n",
    "epochs=20\n",
    "\n",
    "history = model.fit(partial_X_train,\n",
    "                    partial_y_train,\n",
    "                    epochs=epochs,\n",
    "                    batch_size=128,\n",
    "                    validation_data=(X_val, y_val),\n",
    "                    verbose=1)\n",
    "\n",
    "results = model.evaluate(X_test,  y_test, verbose=2)\n",
    "\n",
    "print(results)"
   ]
  },
  {
   "cell_type": "markdown",
   "id": "d5c1ae7f",
   "metadata": {},
   "source": [
    "# 6-3) Loss, Accuracy 그래프 시각화"
   ]
  },
  {
   "cell_type": "code",
   "execution_count": 69,
   "id": "fb6b5ffb",
   "metadata": {},
   "outputs": [
    {
     "name": "stdout",
     "output_type": "stream",
     "text": [
      "dict_keys(['loss', 'accuracy', 'val_loss', 'val_accuracy'])\n"
     ]
    },
    {
     "data": {
      "image/png": "[encoded data removed]",
      "text/plain": [
       "<Figure size 432x288 with 1 Axes>"
      ]
     },
     "metadata": {
      "needs_background": "light"
     },
     "output_type": "display_data"
    },
    {
     "data": {
      "image/png": "[encoded data removed]",
      "text/plain": [
       "<Figure size 432x288 with 1 Axes>"
      ]
     },
     "metadata": {
      "needs_background": "light"
     },
     "output_type": "display_data"
    }
   ],
   "source": [
    "history_dict = history.history\n",
    "print(history_dict.keys()) # epoch에 따른 그래프를 그려볼 수 있는 항목들\n",
    "\n",
    "import matplotlib.pyplot as plt\n",
    "\n",
    "acc = history_dict['accuracy']\n",
    "val_acc = history_dict['val_accuracy']\n",
    "loss = history_dict['loss']\n",
    "val_loss = history_dict['val_loss']\n",
    "\n",
    "epochs = range(1, len(acc) + 1)\n",
    "\n",
    "# \"bo\"는 \"파란색 점\"입니다\n",
    "plt.plot(epochs, loss, 'bo', label='Training loss')\n",
    "# b는 \"파란 실선\"입니다\n",
    "plt.plot(epochs, val_loss, 'b', label='Validation loss')\n",
    "plt.title('Training and validation loss')\n",
    "plt.xlabel('Epochs')\n",
    "plt.ylabel('Loss')\n",
    "plt.legend()\n",
    "\n",
    "plt.show()\n",
    "\n",
    "plt.clf()   # 그림을 초기화합니다\n",
    "\n",
    "plt.plot(epochs, acc, 'bo', label='Training acc')\n",
    "plt.plot(epochs, val_acc, 'b', label='Validation acc')\n",
    "plt.title('Training and validation accuracy')\n",
    "plt.xlabel('Epochs')\n",
    "plt.ylabel('Accuracy')\n",
    "plt.legend()\n",
    "\n",
    "plt.show()"
   ]
  },
  {
   "cell_type": "markdown",
   "id": "b8cceafd",
   "metadata": {},
   "source": [
    "- 약 2 epoch 이후로 과대적합이 일어남"
   ]
  },
  {
   "cell_type": "markdown",
   "id": "0355bf5f",
   "metadata": {},
   "source": [
    "# 7) 학습된 Embedding 레이어 분석"
   ]
  },
  {
   "cell_type": "code",
   "execution_count": 72,
   "id": "6bfef4c2",
   "metadata": {},
   "outputs": [
    {
     "name": "stdout",
     "output_type": "stream",
     "text": [
      "(10000, 16)\n"
     ]
    },
    {
     "data": {
      "text/plain": [
       "[('스릴', 0.9125194549560547),\n",
       " ('커서', 0.9084177613258362),\n",
       " ('주말', 0.9043386578559875),\n",
       " ('이민기', 0.8953099846839905),\n",
       " ('예능', 0.8899567127227783),\n",
       " ('이번', 0.8859927654266357),\n",
       " ('페이지', 0.8842325210571289),\n",
       " ('세우', 0.8841087222099304),\n",
       " ('보고', 0.8800855875015259),\n",
       " ('란', 0.8792849183082581)]"
      ]
     },
     "execution_count": 72,
     "metadata": {},
     "output_type": "execute_result"
    }
   ],
   "source": [
    "embedding_layer = model.layers[0]\n",
    "weights = embedding_layer.get_weights()[0]\n",
    "print(weights.shape)    # shape: (vocab_size, embedding_dim)\n",
    "\n",
    "# 학습한 Embedding 파라미터를 파일에 써서 저장합니다. \n",
    "word2vec_file_path = os.getenv('HOME')+'/aiffel/sentiment_classification/data/word2vec.txt'\n",
    "f = open(word2vec_file_path, 'w')\n",
    "f.write('{} {}\\n'.format(vocab_size-4, word_vector_dim))  # 몇개의 벡터를 얼마 사이즈로 기재할지 타이틀을 씁니다.\n",
    "\n",
    "# 단어 개수(에서 특수문자 4개는 제외하고)만큼의 워드 벡터를 파일에 기록합니다. \n",
    "vectors = model.get_weights()[0]\n",
    "for i in range(4,vocab_size):\n",
    "    f.write('{} {}\\n'.format(index_to_word[i], ' '.join(map(str, list(vectors[i, :])))))\n",
    "f.close()\n",
    "\n",
    "from gensim.models.keyedvectors import Word2VecKeyedVectors\n",
    "\n",
    "word_vectors = Word2VecKeyedVectors.load_word2vec_format(word2vec_file_path, binary=False)\n",
    "vector = word_vectors['재미']\n",
    "vector\n",
    "\n",
    "word_vectors.similar_by_word(\"재미\")"
   ]
  },
  {
   "cell_type": "markdown",
   "id": "130f4cc2",
   "metadata": {},
   "source": [
    "# 8) 한국어 Word2Vec 임베딩 활용하여 성능 개선"
   ]
  },
  {
   "cell_type": "code",
   "execution_count": null,
   "id": "b2283dd3",
   "metadata": {},
   "outputs": [],
   "source": []
  }
 ],
 "metadata": {
  "kernelspec": {
   "display_name": "Python 3 (ipykernel)",
   "language": "python",
   "name": "python3"
  },
  "language_info": {
   "codemirror_mode": {
    "name": "ipython",
    "version": 3
   },
   "file_extension": ".py",
   "mimetype": "text/x-python",
   "name": "python",
   "nbconvert_exporter": "python",
   "pygments_lexer": "ipython3",
   "version": "3.9.7"
  }
 },
 "nbformat": 4,
 "nbformat_minor": 5
}
