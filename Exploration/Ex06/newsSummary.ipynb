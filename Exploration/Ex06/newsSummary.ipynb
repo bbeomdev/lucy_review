{
 "cells": [
  {
   "cell_type": "code",
   "execution_count": 1,
   "id": "4f61ec36",
   "metadata": {},
   "outputs": [],
   "source": [
    "from importlib.metadata import version\n",
    "import nltk\n",
    "import tensorflow\n",
    "import summa\n",
    "import pandas as pd"
   ]
  },
  {
   "cell_type": "markdown",
   "id": "82270727",
   "metadata": {},
   "source": [
    "# 1) 데이터 수집하기"
   ]
  },
  {
   "cell_type": "code",
   "execution_count": 2,
   "id": "cccabc05",
   "metadata": {},
   "outputs": [
    {
     "data": {
      "text/html": [
       "<div>\n",
       "<style scoped>\n",
       "    .dataframe tbody tr th:only-of-type {\n",
       "        vertical-align: middle;\n",
       "    }\n",
       "\n",
       "    .dataframe tbody tr th {\n",
       "        vertical-align: top;\n",
       "    }\n",
       "\n",
       "    .dataframe thead th {\n",
       "        text-align: right;\n",
       "    }\n",
       "</style>\n",
       "<table border=\"1\" class=\"dataframe\">\n",
       "  <thead>\n",
       "    <tr style=\"text-align: right;\">\n",
       "      <th></th>\n",
       "      <th>headlines</th>\n",
       "      <th>text</th>\n",
       "    </tr>\n",
       "  </thead>\n",
       "  <tbody>\n",
       "    <tr>\n",
       "      <th>24783</th>\n",
       "      <td>UP Police uses Sacred Games reference in tweet...</td>\n",
       "      <td>The Uttar Pradesh Police's official Twitter ha...</td>\n",
       "    </tr>\n",
       "    <tr>\n",
       "      <th>82225</th>\n",
       "      <td>HC orders SpiceJet to deposit Ã¢ÂÂ¹579 cr in ...</td>\n",
       "      <td>The Delhi High Court on Monday directed SpiceJ...</td>\n",
       "    </tr>\n",
       "    <tr>\n",
       "      <th>20452</th>\n",
       "      <td>11 including 3 kids dead after SUV falls in go...</td>\n",
       "      <td>At least 11 people, including three children, ...</td>\n",
       "    </tr>\n",
       "    <tr>\n",
       "      <th>69656</th>\n",
       "      <td>Mumbai airport to be saturated by 2018: Report</td>\n",
       "      <td>Mumbai's Chhatrapati Shivaji International Air...</td>\n",
       "    </tr>\n",
       "    <tr>\n",
       "      <th>28290</th>\n",
       "      <td>Nirav Modi's firms received an LoU every two d...</td>\n",
       "      <td>Nirav Modi's firms allegedly received one Lett...</td>\n",
       "    </tr>\n",
       "    <tr>\n",
       "      <th>33639</th>\n",
       "      <td>Punjab behind H'yana in sports due to drug men...</td>\n",
       "      <td>Punjab Sports Minister Rana Gurmeet Singh Sodh...</td>\n",
       "    </tr>\n",
       "    <tr>\n",
       "      <th>15190</th>\n",
       "      <td>NASA which turns 60 today was once sued for 'i...</td>\n",
       "      <td>NASA was once sued by three men from Yemen who...</td>\n",
       "    </tr>\n",
       "    <tr>\n",
       "      <th>56317</th>\n",
       "      <td>Asking foreigners for selfies intrusion of pri...</td>\n",
       "      <td>Tourism Minister KJ Alphons on Thursday said t...</td>\n",
       "    </tr>\n",
       "    <tr>\n",
       "      <th>59343</th>\n",
       "      <td>TN cop suspended for attacking man riding with...</td>\n",
       "      <td>A Tamil Nadu traffic police constable has been...</td>\n",
       "    </tr>\n",
       "    <tr>\n",
       "      <th>16522</th>\n",
       "      <td>Ã¢ÂÂRobotic SkinsÃ¢ÂÂ that turn everyday o...</td>\n",
       "      <td>Researchers from Yale University have develope...</td>\n",
       "    </tr>\n",
       "  </tbody>\n",
       "</table>\n",
       "</div>"
      ],
      "text/plain": [
       "                                               headlines  \\\n",
       "24783  UP Police uses Sacred Games reference in tweet...   \n",
       "82225  HC orders SpiceJet to deposit Ã¢ÂÂ¹579 cr in ...   \n",
       "20452  11 including 3 kids dead after SUV falls in go...   \n",
       "69656     Mumbai airport to be saturated by 2018: Report   \n",
       "28290  Nirav Modi's firms received an LoU every two d...   \n",
       "33639  Punjab behind H'yana in sports due to drug men...   \n",
       "15190  NASA which turns 60 today was once sued for 'i...   \n",
       "56317  Asking foreigners for selfies intrusion of pri...   \n",
       "59343  TN cop suspended for attacking man riding with...   \n",
       "16522  Ã¢ÂÂRobotic SkinsÃ¢ÂÂ that turn everyday o...   \n",
       "\n",
       "                                                    text  \n",
       "24783  The Uttar Pradesh Police's official Twitter ha...  \n",
       "82225  The Delhi High Court on Monday directed SpiceJ...  \n",
       "20452  At least 11 people, including three children, ...  \n",
       "69656  Mumbai's Chhatrapati Shivaji International Air...  \n",
       "28290  Nirav Modi's firms allegedly received one Lett...  \n",
       "33639  Punjab Sports Minister Rana Gurmeet Singh Sodh...  \n",
       "15190  NASA was once sued by three men from Yemen who...  \n",
       "56317  Tourism Minister KJ Alphons on Thursday said t...  \n",
       "59343  A Tamil Nadu traffic police constable has been...  \n",
       "16522  Researchers from Yale University have develope...  "
      ]
     },
     "execution_count": 2,
     "metadata": {},
     "output_type": "execute_result"
    }
   ],
   "source": [
    "import urllib.request\n",
    "urllib.request.urlretrieve(\"https://raw.githubusercontent.com/sunnysai12345/News_Summary/master/news_summary_more.csv\", filename=\"news_summary_more.csv\")\n",
    "data = pd.read_csv('news_summary_more.csv', encoding='iso-8859-1')\n",
    "\n",
    "data.sample(10)"
   ]
  },
  {
   "cell_type": "markdown",
   "id": "47c51169",
   "metadata": {},
   "source": [
    "# 2) 데이터 전처리하기 (추상적 요약)"
   ]
  },
  {
   "cell_type": "code",
   "execution_count": null,
   "id": "648e65b0",
   "metadata": {},
   "outputs": [],
   "source": []
  },
  {
   "cell_type": "markdown",
   "id": "32226d40",
   "metadata": {},
   "source": [
    "# 3) 어텐션 메커니즘 사용하기 (추상적 요약)"
   ]
  },
  {
   "cell_type": "code",
   "execution_count": null,
   "id": "2e7588be",
   "metadata": {},
   "outputs": [],
   "source": []
  },
  {
   "cell_type": "markdown",
   "id": "4a6ecc4a",
   "metadata": {},
   "source": [
    "# 4) 실제 결과와 요약문 비교하기 (추상적 요약)"
   ]
  },
  {
   "cell_type": "code",
   "execution_count": null,
   "id": "f86203ec",
   "metadata": {},
   "outputs": [],
   "source": []
  },
  {
   "cell_type": "markdown",
   "id": "1c51eed6",
   "metadata": {},
   "source": [
    "# 5) Summa를 이용해서 추출적 요약해보기"
   ]
  },
  {
   "cell_type": "code",
   "execution_count": null,
   "id": "1bd621cd",
   "metadata": {},
   "outputs": [],
   "source": []
  }
 ],
 "metadata": {
  "kernelspec": {
   "display_name": "Python 3 (ipykernel)",
   "language": "python",
   "name": "python3"
  },
  "language_info": {
   "codemirror_mode": {
    "name": "ipython",
    "version": 3
   },
   "file_extension": ".py",
   "mimetype": "text/x-python",
   "name": "python",
   "nbconvert_exporter": "python",
   "pygments_lexer": "ipython3",
   "version": "3.9.7"
  }
 },
 "nbformat": 4,
 "nbformat_minor": 5
}
