{
 "cells": [
  {
   "cell_type": "markdown",
   "metadata": {
    "id": "j-jTBapHPvTV"
   },
   "source": [
    "# 1) 데이터 준비하기"
   ]
  },
  {
   "cell_type": "code",
   "execution_count": 2,
   "metadata": {
    "colab": {
     "base_uri": "https://localhost:8080/"
    },
    "id": "k2Zka4DqnqQt",
    "outputId": "517eba3c-244d-40ac-d218-9ce5bf3bbd75"
   },
   "outputs": [
    {
     "name": "stdout",
     "output_type": "stream",
     "text": [
      "Requirement already satisfied: summa in /opt/conda/lib/python3.9/site-packages (1.2.0)\n",
      "Requirement already satisfied: scipy>=0.19 in /opt/conda/lib/python3.9/site-packages (from summa) (1.7.1)\n",
      "Requirement already satisfied: numpy<1.23.0,>=1.16.5 in /opt/conda/lib/python3.9/site-packages (from scipy>=0.19->summa) (1.21.4)\n",
      "\u001b[33mWARNING: Running pip as the 'root' user can result in broken permissions and conflicting behaviour with the system package manager. It is recommended to use a virtual environment instead: https://pip.pypa.io/warnings/venv\u001b[0m\n",
      "3.6.5\n",
      "2.6.0\n",
      "1.3.3\n",
      "1.2.0\n"
     ]
    }
   ],
   "source": [
    "!pip install summa\n",
    "\n",
    "from importlib.metadata import version\n",
    "import nltk\n",
    "import tensorflow\n",
    "import summa\n",
    "import pandas as pd\n",
    "\n",
    "print(nltk.__version__)\n",
    "print(tensorflow.__version__)\n",
    "print(pd.__version__)\n",
    "print(version('summa'))"
   ]
  },
  {
   "cell_type": "code",
   "execution_count": 3,
   "metadata": {
    "colab": {
     "base_uri": "https://localhost:8080/"
    },
    "id": "xLw54irVv--g",
    "outputId": "dcca0404-36fa-43d2-e07f-292afeac1057"
   },
   "outputs": [
    {
     "name": "stderr",
     "output_type": "stream",
     "text": [
      "[nltk_data] Downloading package stopwords to /aiffel/nltk_data...\n",
      "[nltk_data]   Package stopwords is already up-to-date!\n"
     ]
    },
    {
     "name": "stdout",
     "output_type": "stream",
     "text": [
      "=3\n"
     ]
    }
   ],
   "source": [
    "import nltk\n",
    "nltk.download('stopwords')\n",
    "\n",
    "import numpy as np\n",
    "import pandas as pd\n",
    "import os\n",
    "import re\n",
    "import matplotlib.pyplot as plt\n",
    "from nltk.corpus import stopwords\n",
    "from bs4 import BeautifulSoup\n",
    "from tensorflow.keras.preprocessing.text import Tokenizer\n",
    "from tensorflow.keras.preprocessing.sequence import pad_sequences\n",
    "import urllib.request\n",
    "import warnings\n",
    "warnings.filterwarnings(\"ignore\", category=UserWarning, module='bs4')\n",
    "\n",
    "print('=3')"
   ]
  },
  {
   "cell_type": "code",
   "execution_count": 4,
   "metadata": {
    "colab": {
     "base_uri": "https://localhost:8080/",
     "height": 363
    },
    "id": "S7dSmwAcnjc_",
    "outputId": "b5f4a753-1004-40fe-b22f-7f325ee00a7d"
   },
   "outputs": [
    {
     "data": {
      "text/html": [
       "<div>\n",
       "<style scoped>\n",
       "    .dataframe tbody tr th:only-of-type {\n",
       "        vertical-align: middle;\n",
       "    }\n",
       "\n",
       "    .dataframe tbody tr th {\n",
       "        vertical-align: top;\n",
       "    }\n",
       "\n",
       "    .dataframe thead th {\n",
       "        text-align: right;\n",
       "    }\n",
       "</style>\n",
       "<table border=\"1\" class=\"dataframe\">\n",
       "  <thead>\n",
       "    <tr style=\"text-align: right;\">\n",
       "      <th></th>\n",
       "      <th>headlines</th>\n",
       "      <th>text</th>\n",
       "    </tr>\n",
       "  </thead>\n",
       "  <tbody>\n",
       "    <tr>\n",
       "      <th>4158</th>\n",
       "      <td>Bumrah almost reminds me of Wasim Akram: VVS L...</td>\n",
       "      <td>Former Indian cricketer VVS Laxman compared Ja...</td>\n",
       "    </tr>\n",
       "    <tr>\n",
       "      <th>65965</th>\n",
       "      <td>Talwars are happy &amp; said that they have got ju...</td>\n",
       "      <td>After the Allahabad High Court acquitted Talwa...</td>\n",
       "    </tr>\n",
       "    <tr>\n",
       "      <th>58121</th>\n",
       "      <td>Over 200 members of Congress' IT cell in Guj's...</td>\n",
       "      <td>A week before the first phase of the Gujarat A...</td>\n",
       "    </tr>\n",
       "    <tr>\n",
       "      <th>23322</th>\n",
       "      <td>Video of Deepika, Ranveer from US vacation sur...</td>\n",
       "      <td>A video of Deepika Padukone and her rumoured b...</td>\n",
       "    </tr>\n",
       "    <tr>\n",
       "      <th>31810</th>\n",
       "      <td>New Moon mission will not distract from Mars m...</td>\n",
       "      <td>After US President Donald Trump directed NASA ...</td>\n",
       "    </tr>\n",
       "    <tr>\n",
       "      <th>25931</th>\n",
       "      <td>Cop 'complains' against self for not stopping ...</td>\n",
       "      <td>A police officer in Meerut filed a complaint a...</td>\n",
       "    </tr>\n",
       "    <tr>\n",
       "      <th>89875</th>\n",
       "      <td>Don't take my tears for weakness: IPS officer ...</td>\n",
       "      <td>Female IPS officer Charu Nigam, who broke down...</td>\n",
       "    </tr>\n",
       "    <tr>\n",
       "      <th>73479</th>\n",
       "      <td>Sanjay Dutt sings 'Ganesh Aarti' for comeback ...</td>\n",
       "      <td>On the occasion of Ganesh Chaturthi, Sanjay Du...</td>\n",
       "    </tr>\n",
       "    <tr>\n",
       "      <th>59421</th>\n",
       "      <td>Was offered Julie 2 but didn't do it: Hate Sto...</td>\n",
       "      <td>'Hate Story' actress Paoli Dam has revealed sh...</td>\n",
       "    </tr>\n",
       "    <tr>\n",
       "      <th>72902</th>\n",
       "      <td>Modi pays tribute to hockey legend Dhyan Chand</td>\n",
       "      <td>Prime Minister Narendra Modi on Tuesday paid t...</td>\n",
       "    </tr>\n",
       "  </tbody>\n",
       "</table>\n",
       "</div>"
      ],
      "text/plain": [
       "                                               headlines  \\\n",
       "4158   Bumrah almost reminds me of Wasim Akram: VVS L...   \n",
       "65965  Talwars are happy & said that they have got ju...   \n",
       "58121  Over 200 members of Congress' IT cell in Guj's...   \n",
       "23322  Video of Deepika, Ranveer from US vacation sur...   \n",
       "31810  New Moon mission will not distract from Mars m...   \n",
       "25931  Cop 'complains' against self for not stopping ...   \n",
       "89875  Don't take my tears for weakness: IPS officer ...   \n",
       "73479  Sanjay Dutt sings 'Ganesh Aarti' for comeback ...   \n",
       "59421  Was offered Julie 2 but didn't do it: Hate Sto...   \n",
       "72902     Modi pays tribute to hockey legend Dhyan Chand   \n",
       "\n",
       "                                                    text  \n",
       "4158   Former Indian cricketer VVS Laxman compared Ja...  \n",
       "65965  After the Allahabad High Court acquitted Talwa...  \n",
       "58121  A week before the first phase of the Gujarat A...  \n",
       "23322  A video of Deepika Padukone and her rumoured b...  \n",
       "31810  After US President Donald Trump directed NASA ...  \n",
       "25931  A police officer in Meerut filed a complaint a...  \n",
       "89875  Female IPS officer Charu Nigam, who broke down...  \n",
       "73479  On the occasion of Ganesh Chaturthi, Sanjay Du...  \n",
       "59421  'Hate Story' actress Paoli Dam has revealed sh...  \n",
       "72902  Prime Minister Narendra Modi on Tuesday paid t...  "
      ]
     },
     "execution_count": 4,
     "metadata": {},
     "output_type": "execute_result"
    }
   ],
   "source": [
    "import urllib.request\n",
    "urllib.request.urlretrieve(\"https://raw.githubusercontent.com/sunnysai12345/News_Summary/master/news_summary_more.csv\", filename=\"news_summary_more.csv\")\n",
    "data = pd.read_csv('news_summary_more.csv', encoding='iso-8859-1')\n",
    "\n",
    "data.sample(10)"
   ]
  },
  {
   "cell_type": "markdown",
   "metadata": {
    "id": "ntRmB48CP34-"
   },
   "source": [
    "# 2) 데이터 전처리하기"
   ]
  },
  {
   "cell_type": "markdown",
   "metadata": {
    "id": "wOEihNFAP7ko"
   },
   "source": [
    "## (1) 데이터 정리하기"
   ]
  },
  {
   "cell_type": "code",
   "execution_count": 5,
   "metadata": {
    "colab": {
     "base_uri": "https://localhost:8080/"
    },
    "id": "yL_HKPhZntug",
    "outputId": "ee1c88e6-c67d-4614-994c-261df12aec3a"
   },
   "outputs": [
    {
     "name": "stdout",
     "output_type": "stream",
     "text": [
      "Text 열에서 중복을 배제한 유일한 샘플의 수 : 98360\n",
      "headlines 열에서 중복을 배제한 유일한 샘플의 수 : 98280\n"
     ]
    }
   ],
   "source": [
    "print('Text 열에서 중복을 배제한 유일한 샘플의 수 :', data['text'].nunique())\n",
    "print('headlines 열에서 중복을 배제한 유일한 샘플의 수 :', data['headlines'].nunique())"
   ]
  },
  {
   "cell_type": "code",
   "execution_count": 6,
   "metadata": {
    "colab": {
     "base_uri": "https://localhost:8080/"
    },
    "id": "_KnfpVopome4",
    "outputId": "981e28ee-7eff-4cb5-caef-41237243d1a3"
   },
   "outputs": [
    {
     "name": "stdout",
     "output_type": "stream",
     "text": [
      "전체 샘플수 : 98360\n"
     ]
    }
   ],
   "source": [
    "# inplace=True 를 설정하면 DataFrame 타입 값을 return 하지 않고 data 내부를 직접적으로 바꿉니다\n",
    "data.drop_duplicates(subset = ['text'], inplace=True)\n",
    "print('전체 샘플수 :', (len(data)))"
   ]
  },
  {
   "cell_type": "code",
   "execution_count": 7,
   "metadata": {
    "colab": {
     "base_uri": "https://localhost:8080/"
    },
    "id": "T4cAqUboor7z",
    "outputId": "f841a5c3-fc75-4311-a066-5a30d24df6e1"
   },
   "outputs": [
    {
     "name": "stdout",
     "output_type": "stream",
     "text": [
      "headlines    0\n",
      "text         0\n",
      "dtype: int64\n"
     ]
    }
   ],
   "source": [
    "print(data.isnull().sum())"
   ]
  },
  {
   "cell_type": "code",
   "execution_count": 8,
   "metadata": {
    "colab": {
     "base_uri": "https://localhost:8080/"
    },
    "id": "DuDuZqXBrgPw",
    "outputId": "075b95eb-0f49-486c-99b2-49e6dac5a7fc"
   },
   "outputs": [
    {
     "name": "stdout",
     "output_type": "stream",
     "text": [
      "정규화 사전의 수:  120\n"
     ]
    }
   ],
   "source": [
    "contractions = {\"ain't\": \"is not\", \"aren't\": \"are not\",\"can't\": \"cannot\", \"'cause\": \"because\", \"could've\": \"could have\", \"couldn't\": \"could not\",\n",
    "                           \"didn't\": \"did not\",  \"doesn't\": \"does not\", \"don't\": \"do not\", \"hadn't\": \"had not\", \"hasn't\": \"has not\", \"haven't\": \"have not\",\n",
    "                           \"he'd\": \"he would\",\"he'll\": \"he will\", \"he's\": \"he is\", \"how'd\": \"how did\", \"how'd'y\": \"how do you\", \"how'll\": \"how will\", \"how's\": \"how is\",\n",
    "                           \"I'd\": \"I would\", \"I'd've\": \"I would have\", \"I'll\": \"I will\", \"I'll've\": \"I will have\",\"I'm\": \"I am\", \"I've\": \"I have\", \"i'd\": \"i would\",\n",
    "                           \"i'd've\": \"i would have\", \"i'll\": \"i will\",  \"i'll've\": \"i will have\",\"i'm\": \"i am\", \"i've\": \"i have\", \"isn't\": \"is not\", \"it'd\": \"it would\",\n",
    "                           \"it'd've\": \"it would have\", \"it'll\": \"it will\", \"it'll've\": \"it will have\",\"it's\": \"it is\", \"let's\": \"let us\", \"ma'am\": \"madam\",\n",
    "                           \"mayn't\": \"may not\", \"might've\": \"might have\",\"mightn't\": \"might not\",\"mightn't've\": \"might not have\", \"must've\": \"must have\",\n",
    "                           \"mustn't\": \"must not\", \"mustn't've\": \"must not have\", \"needn't\": \"need not\", \"needn't've\": \"need not have\",\"o'clock\": \"of the clock\",\n",
    "                           \"oughtn't\": \"ought not\", \"oughtn't've\": \"ought not have\", \"shan't\": \"shall not\", \"sha'n't\": \"shall not\", \"shan't've\": \"shall not have\",\n",
    "                           \"she'd\": \"she would\", \"she'd've\": \"she would have\", \"she'll\": \"she will\", \"she'll've\": \"she will have\", \"she's\": \"she is\",\n",
    "                           \"should've\": \"should have\", \"shouldn't\": \"should not\", \"shouldn't've\": \"should not have\", \"so've\": \"so have\",\"so's\": \"so as\",\n",
    "                           \"this's\": \"this is\",\"that'd\": \"that would\", \"that'd've\": \"that would have\", \"that's\": \"that is\", \"there'd\": \"there would\",\n",
    "                           \"there'd've\": \"there would have\", \"there's\": \"there is\", \"here's\": \"here is\",\"they'd\": \"they would\", \"they'd've\": \"they would have\",\n",
    "                           \"they'll\": \"they will\", \"they'll've\": \"they will have\", \"they're\": \"they are\", \"they've\": \"they have\", \"to've\": \"to have\",\n",
    "                           \"wasn't\": \"was not\", \"we'd\": \"we would\", \"we'd've\": \"we would have\", \"we'll\": \"we will\", \"we'll've\": \"we will have\", \"we're\": \"we are\",\n",
    "                           \"we've\": \"we have\", \"weren't\": \"were not\", \"what'll\": \"what will\", \"what'll've\": \"what will have\", \"what're\": \"what are\",\n",
    "                           \"what's\": \"what is\", \"what've\": \"what have\", \"when's\": \"when is\", \"when've\": \"when have\", \"where'd\": \"where did\", \"where's\": \"where is\",\n",
    "                           \"where've\": \"where have\", \"who'll\": \"who will\", \"who'll've\": \"who will have\", \"who's\": \"who is\", \"who've\": \"who have\",\n",
    "                           \"why's\": \"why is\", \"why've\": \"why have\", \"will've\": \"will have\", \"won't\": \"will not\", \"won't've\": \"will not have\",\n",
    "                           \"would've\": \"would have\", \"wouldn't\": \"would not\", \"wouldn't've\": \"would not have\", \"y'all\": \"you all\",\n",
    "                           \"y'all'd\": \"you all would\",\"y'all'd've\": \"you all would have\",\"y'all're\": \"you all are\",\"y'all've\": \"you all have\",\n",
    "                           \"you'd\": \"you would\", \"you'd've\": \"you would have\", \"you'll\": \"you will\", \"you'll've\": \"you will have\",\n",
    "                           \"you're\": \"you are\", \"you've\": \"you have\"}\n",
    "\n",
    "print(\"정규화 사전의 수: \", len(contractions))"
   ]
  },
  {
   "cell_type": "code",
   "execution_count": 9,
   "metadata": {
    "colab": {
     "base_uri": "https://localhost:8080/"
    },
    "id": "DL02kCebrgcB",
    "outputId": "d18bcf80-2d87-4d75-b944-71376edcafc8"
   },
   "outputs": [
    {
     "name": "stdout",
     "output_type": "stream",
     "text": [
      "불용어 개수 : 198\n",
      "['a', 'about', 'above', 'after', 'again', 'against', 'ain', 'all', 'am', 'an', 'and', 'any', 'are', 'aren', \"aren't\", 'as', 'at', 'be', 'because', 'been', 'before', 'being', 'below', 'between', 'both', 'but', 'by', 'can', 'couldn', \"couldn't\", 'd', 'did', 'didn', \"didn't\", 'do', 'does', 'doesn', \"doesn't\", 'doing', 'don', \"don't\", 'down', 'during', 'each', 'few', 'for', 'from', 'further', 'had', 'hadn', \"hadn't\", 'has', 'hasn', \"hasn't\", 'have', 'haven', \"haven't\", 'having', 'he', \"he'd\", \"he'll\", 'her', 'here', 'hers', 'herself', \"he's\", 'him', 'himself', 'his', 'how', 'i', \"i'd\", 'if', \"i'll\", \"i'm\", 'in', 'into', 'is', 'isn', \"isn't\", 'it', \"it'd\", \"it'll\", \"it's\", 'its', 'itself', \"i've\", 'just', 'll', 'm', 'ma', 'me', 'mightn', \"mightn't\", 'more', 'most', 'mustn', \"mustn't\", 'my', 'myself', 'needn', \"needn't\", 'no', 'nor', 'not', 'now', 'o', 'of', 'off', 'on', 'once', 'only', 'or', 'other', 'our', 'ours', 'ourselves', 'out', 'over', 'own', 're', 's', 'same', 'shan', \"shan't\", 'she', \"she'd\", \"she'll\", \"she's\", 'should', 'shouldn', \"shouldn't\", \"should've\", 'so', 'some', 'such', 't', 'than', 'that', \"that'll\", 'the', 'their', 'theirs', 'them', 'themselves', 'then', 'there', 'these', 'they', \"they'd\", \"they'll\", \"they're\", \"they've\", 'this', 'those', 'through', 'to', 'too', 'under', 'until', 'up', 've', 'very', 'was', 'wasn', \"wasn't\", 'we', \"we'd\", \"we'll\", \"we're\", 'were', 'weren', \"weren't\", \"we've\", 'what', 'when', 'where', 'which', 'while', 'who', 'whom', 'why', 'will', 'with', 'won', \"won't\", 'wouldn', \"wouldn't\", 'y', 'you', \"you'd\", \"you'll\", 'your', \"you're\", 'yours', 'yourself', 'yourselves', \"you've\"]\n"
     ]
    }
   ],
   "source": [
    "print('불용어 개수 :', len(stopwords.words('english') ))\n",
    "print(stopwords.words('english'))"
   ]
  },
  {
   "cell_type": "code",
   "execution_count": 10,
   "metadata": {
    "colab": {
     "base_uri": "https://localhost:8080/"
    },
    "id": "aqpxpISurgxH",
    "outputId": "6d29cf3b-66d9-4edd-96cd-07e96874da64"
   },
   "outputs": [
    {
     "name": "stdout",
     "output_type": "stream",
     "text": [
      "=3\n"
     ]
    }
   ],
   "source": [
    "# 데이터 전처리 함수\n",
    "def preprocess_sentence(sentence, remove_stopwords=True):\n",
    "    sentence = sentence.lower() # 텍스트 소문자화\n",
    "    sentence = BeautifulSoup(sentence, \"lxml\").text # <br />, <a href = ...> 등의 html 태그 제거\n",
    "    sentence = re.sub(r'\\([^)]*\\)', '', sentence) # 괄호로 닫힌 문자열 (...) 제거 Ex) my husband (and myself!) for => my husband for\n",
    "    sentence = re.sub('\"','', sentence) # 쌍따옴표 \" 제거\n",
    "    sentence = ' '.join([contractions[t] if t in contractions else t for t in sentence.split(\" \")]) # 약어 정규화\n",
    "    sentence = re.sub(r\"'s\\b\",\"\", sentence) # 소유격 제거. Ex) roland's -> roland\n",
    "    sentence = re.sub(\"[^a-zA-Z]\", \" \", sentence) # 영어 외 문자(숫자, 특수문자 등) 공백으로 변환\n",
    "    sentence = re.sub('[m]{2,}', 'mm', sentence) # m이 3개 이상이면 2개로 변경. Ex) ummmmmmm yeah -> umm yeah\n",
    "\n",
    "    # 불용어 제거 (Text)\n",
    "    if remove_stopwords:\n",
    "        tokens = ' '.join(word for word in sentence.split() if not word in stopwords.words('english') if len(word) > 1)\n",
    "    # 불용어 미제거 (headlines)\n",
    "    else:\n",
    "        tokens = ' '.join(word for word in sentence.split() if len(word) > 1)\n",
    "    return tokens\n",
    "print('=3')"
   ]
  },
  {
   "cell_type": "code",
   "execution_count": 11,
   "metadata": {
    "colab": {
     "base_uri": "https://localhost:8080/"
    },
    "id": "y9LXhf75rhNT",
    "outputId": "03c6def4-3052-444e-c3a9-8eb8416d24f2"
   },
   "outputs": [
    {
     "name": "stdout",
     "output_type": "stream",
     "text": [
      "Text 전처리 후 결과:  ['saurav kant alumnus upgrad iiit pg program machine learning artificial intelligence sr systems engineer infosys almost years work experience program upgrad degree career support helped transition data scientist tech mahindra salary hike upgrad online power learning powered lakh careers', 'kunal shah credit card bill payment platform cred gave users chance win free food swiggy one year pranav kaushik delhi techie bagged reward spending cred coins users get one cred coin per rupee bill paid used avail rewards brands like ixigo bookmyshow ubereats cult fit', 'new zealand defeated india wickets fourth odi hamilton thursday win first match five match odi series india lost international match rohit sharma captaincy consecutive victories dating back march match witnessed india getting seventh lowest total odi cricket history', 'aegon life iterm insurance plan customers enjoy tax benefits premiums paid save taxes plan provides life cover age years also customers options insure critical illnesses disability accidental death benefit rider life cover age years', 'speaking sexual harassment allegations rajkumar hirani sonam kapoor said known hirani many years true metoo movement get derailed metoo movement always believe woman case need reserve judgment added hirani accused assistant worked sanju']\n"
     ]
    }
   ],
   "source": [
    "# 전체 Text 데이터에 대한 전처리 : 10분 이상 시간이 걸릴 수 있습니다.\n",
    "clean_text = []\n",
    "\n",
    "for sentence in data['text']:\n",
    "    cleaned = preprocess_sentence(sentence, remove_stopwords=True)\n",
    "    clean_text.append(cleaned)\n",
    "\n",
    "# 전처리 후 출력\n",
    "print(\"Text 전처리 후 결과: \", clean_text[:5])"
   ]
  },
  {
   "cell_type": "code",
   "execution_count": null,
   "metadata": {
    "colab": {
     "base_uri": "https://localhost:8080/"
    },
    "id": "ruqo4HAq7Rt2",
    "outputId": "2183ae70-095b-4394-e9f3-ccbeb56a8ed8"
   },
   "outputs": [],
   "source": [
    "# 전체 headlines 데이터에 대한 전처리 : 5분 이상 시간이 걸릴 수 있습니다.\n",
    "clean_headlines = []\n",
    "\n",
    "for sentence in data['headlines']:\n",
    "    cleaned = preprocess_sentence(sentence, remove_stopwords=False)\n",
    "    clean_headlines.append(cleaned)\n",
    "\n",
    "print(\"headlines 전처리 후 결과: \", clean_headlines[:5])"
   ]
  },
  {
   "cell_type": "code",
   "execution_count": 13,
   "metadata": {
    "colab": {
     "base_uri": "https://localhost:8080/"
    },
    "id": "5FlRA1I97R8J",
    "outputId": "eec95cd5-dea9-4710-e002-d102dcfa8e78"
   },
   "outputs": [
    {
     "name": "stdout",
     "output_type": "stream",
     "text": [
      "=3\n",
      "TEXT: saurav kant alumnus upgrad iiit pg program machine learning artificial intelligence sr systems engineer infosys almost years work experience program upgrad degree career support helped transition data scientist tech mahindra salary hike upgrad online power learning powered lakh careers\n",
      "headlines: upgrad learner switches to career in ml al with salary hike\n",
      "----------------------------------------\n",
      "TEXT: kunal shah credit card bill payment platform cred gave users chance win free food swiggy one year pranav kaushik delhi techie bagged reward spending cred coins users get one cred coin per rupee bill paid used avail rewards brands like ixigo bookmyshow ubereats cult fit\n",
      "headlines: delhi techie wins free food from swiggy for one year on cred\n",
      "----------------------------------------\n",
      "TEXT: new zealand defeated india wickets fourth odi hamilton thursday win first match five match odi series india lost international match rohit sharma captaincy consecutive victories dating back march match witnessed india getting seventh lowest total odi cricket history\n",
      "headlines: new zealand end rohit sharma led india match winning streak\n",
      "----------------------------------------\n",
      "TEXT: aegon life iterm insurance plan customers enjoy tax benefits premiums paid save taxes plan provides life cover age years also customers options insure critical illnesses disability accidental death benefit rider life cover age years\n",
      "headlines: aegon life iterm insurance plan helps customers save tax\n",
      "----------------------------------------\n",
      "TEXT: speaking sexual harassment allegations rajkumar hirani sonam kapoor said known hirani many years true metoo movement get derailed metoo movement always believe woman case need reserve judgment added hirani accused assistant worked sanju\n",
      "headlines: have known hirani for yrs what if metoo claims are not true sonam\n",
      "----------------------------------------\n"
     ]
    }
   ],
   "source": [
    "data['text'] = clean_text\n",
    "data['headlines'] = clean_headlines\n",
    "\n",
    "# 빈 값을 Null 값으로 변환\n",
    "data.replace('', np.nan, inplace=True)\n",
    "print('=3')\n",
    "\n",
    "for i in range(5):\n",
    "    print(f\"TEXT: {clean_text[i]}\")\n",
    "    print(f\"headlines: {clean_headlines[i]}\")\n",
    "    print(\"-\" * 40)\n"
   ]
  },
  {
   "cell_type": "code",
   "execution_count": 14,
   "metadata": {
    "colab": {
     "base_uri": "https://localhost:8080/",
     "height": 147
    },
    "id": "XosiblsY7SMr",
    "outputId": "b5b6f4d1-77db-4aaf-9de1-376c6fdf8b3d"
   },
   "outputs": [
    {
     "data": {
      "text/plain": [
       "headlines    0\n",
       "text         0\n",
       "dtype: int64"
      ]
     },
     "execution_count": 14,
     "metadata": {},
     "output_type": "execute_result"
    }
   ],
   "source": [
    "data.isnull().sum()"
   ]
  },
  {
   "cell_type": "markdown",
   "metadata": {
    "id": "EREFvfCNQDT5"
   },
   "source": [
    "## (2) 훈련데이터와 테스트데이터 나누기"
   ]
  },
  {
   "cell_type": "code",
   "execution_count": 15,
   "metadata": {
    "colab": {
     "base_uri": "https://localhost:8080/",
     "height": 1000
    },
    "id": "s6jv75lY98ZZ",
    "outputId": "6a1b3854-9fc6-4bb5-c4ed-ff474b09595d"
   },
   "outputs": [
    {
     "name": "stdout",
     "output_type": "stream",
     "text": [
      "텍스트의 최소 길이 : 1\n",
      "텍스트의 최대 길이 : 60\n",
      "텍스트의 평균 길이 : 35.09968483123221\n",
      "요약의 최소 길이 : 1\n",
      "요약의 최대 길이 : 16\n",
      "요약의 평균 길이 : 9.299532330215534\n"
     ]
    },
    {
     "data": {
      "image/png": "[encoded data removed]",
      "text/plain": [
       "<Figure size 432x288 with 2 Axes>"
      ]
     },
     "metadata": {
      "needs_background": "light"
     },
     "output_type": "display_data"
    },
    {
     "data": {
      "image/png": "[encoded data removed]",
      "text/plain": [
       "<Figure size 432x288 with 1 Axes>"
      ]
     },
     "metadata": {
      "needs_background": "light"
     },
     "output_type": "display_data"
    },
    {
     "data": {
      "image/png": "[encoded data removed]",
      "text/plain": [
       "<Figure size 432x288 with 1 Axes>"
      ]
     },
     "metadata": {
      "needs_background": "light"
     },
     "output_type": "display_data"
    }
   ],
   "source": [
    "# 길이 분포 출력\n",
    "import matplotlib.pyplot as plt\n",
    "\n",
    "text_len = [len(s.split()) for s in data['text']]\n",
    "headlines_len = [len(s.split()) for s in data['headlines']]\n",
    "\n",
    "print('텍스트의 최소 길이 : {}'.format(np.min(text_len)))\n",
    "print('텍스트의 최대 길이 : {}'.format(np.max(text_len)))\n",
    "print('텍스트의 평균 길이 : {}'.format(np.mean(text_len)))\n",
    "print('요약의 최소 길이 : {}'.format(np.min(headlines_len)))\n",
    "print('요약의 최대 길이 : {}'.format(np.max(headlines_len)))\n",
    "print('요약의 평균 길이 : {}'.format(np.mean(headlines_len)))\n",
    "\n",
    "plt.subplot(1,2,1)\n",
    "plt.boxplot(text_len)\n",
    "plt.title('Text')\n",
    "plt.subplot(1,2,2)\n",
    "plt.boxplot(headlines_len)\n",
    "plt.title('headlines')\n",
    "plt.tight_layout()\n",
    "plt.show()\n",
    "\n",
    "plt.title('Text')\n",
    "plt.hist(text_len, bins = 40)\n",
    "plt.xlabel('length of samples')\n",
    "plt.ylabel('number of samples')\n",
    "plt.show()\n",
    "\n",
    "plt.title('headlines')\n",
    "plt.hist(headlines_len, bins = 40)\n",
    "plt.xlabel('length of samples')\n",
    "plt.ylabel('number of samples')\n",
    "plt.show()"
   ]
  },
  {
   "cell_type": "code",
   "execution_count": 16,
   "metadata": {
    "colab": {
     "base_uri": "https://localhost:8080/"
    },
    "id": "h6pRLVhz-QBn",
    "outputId": "a490d9d9-b676-44c4-8524-a491ae64e39c"
   },
   "outputs": [
    {
     "name": "stdout",
     "output_type": "stream",
     "text": [
      "=3\n"
     ]
    }
   ],
   "source": [
    "# 비율이 약 95%가 되도록 맞춰주었다.\n",
    "text_max_len = 40\n",
    "headlines_max_len = 10\n",
    "print('=3')"
   ]
  },
  {
   "cell_type": "code",
   "execution_count": 17,
   "metadata": {
    "colab": {
     "base_uri": "https://localhost:8080/"
    },
    "id": "Ow6lnxUS-6iz",
    "outputId": "8f83b5f5-c1fd-427b-fa02-e061ef9abde8"
   },
   "outputs": [
    {
     "name": "stdout",
     "output_type": "stream",
     "text": [
      "=3\n"
     ]
    }
   ],
   "source": [
    "def below_threshold_len(max_len, nested_list):\n",
    "  cnt = 0\n",
    "  for s in nested_list:\n",
    "    if(len(s.split()) <= max_len):\n",
    "        cnt = cnt + 1\n",
    "  print('전체 샘플 중 길이가 %s 이하인 샘플의 비율: %s'%(max_len, (cnt / len(nested_list))))\n",
    "print('=3')"
   ]
  },
  {
   "cell_type": "code",
   "execution_count": 18,
   "metadata": {
    "colab": {
     "base_uri": "https://localhost:8080/"
    },
    "id": "PG7hsJHr-6xA",
    "outputId": "823b5963-07c5-4905-cac0-a4bc06a973fd"
   },
   "outputs": [
    {
     "name": "stdout",
     "output_type": "stream",
     "text": [
      "전체 샘플 중 길이가 40 이하인 샘플의 비율: 0.9238714924766165\n",
      "전체 샘플 중 길이가 10 이하인 샘플의 비율: 0.8162972753151687\n"
     ]
    }
   ],
   "source": [
    "below_threshold_len(text_max_len, data['text'])\n",
    "below_threshold_len(headlines_max_len,  data['headlines'])"
   ]
  },
  {
   "cell_type": "code",
   "execution_count": 19,
   "metadata": {
    "colab": {
     "base_uri": "https://localhost:8080/"
    },
    "id": "hHWNZDOU-6zZ",
    "outputId": "984ec8fd-9238-4383-cb9d-c17b4e5ebb2a"
   },
   "outputs": [
    {
     "name": "stdout",
     "output_type": "stream",
     "text": [
      "전체 샘플수 : 74102\n"
     ]
    }
   ],
   "source": [
    "data = data[data['text'].apply(lambda x: len(x.split()) <= text_max_len) &\n",
    "            data['headlines'].apply(lambda x: len(x.split()) <= headlines_max_len)]\n",
    "\n",
    "print('전체 샘플수 :', (len(data)))"
   ]
  },
  {
   "cell_type": "code",
   "execution_count": 20,
   "metadata": {
    "colab": {
     "base_uri": "https://localhost:8080/",
     "height": 428
    },
    "id": "sY2cj6Vt-60y",
    "outputId": "843b5ecf-be13-45f4-977f-a3569129e533"
   },
   "outputs": [
    {
     "data": {
      "text/html": [
       "<div>\n",
       "<style scoped>\n",
       "    .dataframe tbody tr th:only-of-type {\n",
       "        vertical-align: middle;\n",
       "    }\n",
       "\n",
       "    .dataframe tbody tr th {\n",
       "        vertical-align: top;\n",
       "    }\n",
       "\n",
       "    .dataframe thead th {\n",
       "        text-align: right;\n",
       "    }\n",
       "</style>\n",
       "<table border=\"1\" class=\"dataframe\">\n",
       "  <thead>\n",
       "    <tr style=\"text-align: right;\">\n",
       "      <th></th>\n",
       "      <th>headlines</th>\n",
       "      <th>text</th>\n",
       "      <th>decoder_input</th>\n",
       "      <th>decoder_target</th>\n",
       "    </tr>\n",
       "  </thead>\n",
       "  <tbody>\n",
       "    <tr>\n",
       "      <th>2</th>\n",
       "      <td>new zealand end rohit sharma led india match w...</td>\n",
       "      <td>new zealand defeated india wickets fourth odi ...</td>\n",
       "      <td>sostoken new zealand end rohit sharma led indi...</td>\n",
       "      <td>new zealand end rohit sharma led india match w...</td>\n",
       "    </tr>\n",
       "    <tr>\n",
       "      <th>3</th>\n",
       "      <td>aegon life iterm insurance plan helps customer...</td>\n",
       "      <td>aegon life iterm insurance plan customers enjo...</td>\n",
       "      <td>sostoken aegon life iterm insurance plan helps...</td>\n",
       "      <td>aegon life iterm insurance plan helps customer...</td>\n",
       "    </tr>\n",
       "    <tr>\n",
       "      <th>5</th>\n",
       "      <td>rahat fateh ali khan denies getting notice for...</td>\n",
       "      <td>pakistani singer rahat fateh ali khan denied r...</td>\n",
       "      <td>sostoken rahat fateh ali khan denies getting n...</td>\n",
       "      <td>rahat fateh ali khan denies getting notice for...</td>\n",
       "    </tr>\n",
       "    <tr>\n",
       "      <th>9</th>\n",
       "      <td>cong wins ramgarh bypoll in rajasthan takes to...</td>\n",
       "      <td>congress candidate shafia zubair ramgarh assem...</td>\n",
       "      <td>sostoken cong wins ramgarh bypoll in rajasthan...</td>\n",
       "      <td>cong wins ramgarh bypoll in rajasthan takes to...</td>\n",
       "    </tr>\n",
       "    <tr>\n",
       "      <th>10</th>\n",
       "      <td>up cousins fed human excreta for friendship wi...</td>\n",
       "      <td>two minor cousins uttar pradesh gorakhpur alle...</td>\n",
       "      <td>sostoken up cousins fed human excreta for frie...</td>\n",
       "      <td>up cousins fed human excreta for friendship wi...</td>\n",
       "    </tr>\n",
       "  </tbody>\n",
       "</table>\n",
       "</div>"
      ],
      "text/plain": [
       "                                            headlines  \\\n",
       "2   new zealand end rohit sharma led india match w...   \n",
       "3   aegon life iterm insurance plan helps customer...   \n",
       "5   rahat fateh ali khan denies getting notice for...   \n",
       "9   cong wins ramgarh bypoll in rajasthan takes to...   \n",
       "10  up cousins fed human excreta for friendship wi...   \n",
       "\n",
       "                                                 text  \\\n",
       "2   new zealand defeated india wickets fourth odi ...   \n",
       "3   aegon life iterm insurance plan customers enjo...   \n",
       "5   pakistani singer rahat fateh ali khan denied r...   \n",
       "9   congress candidate shafia zubair ramgarh assem...   \n",
       "10  two minor cousins uttar pradesh gorakhpur alle...   \n",
       "\n",
       "                                        decoder_input  \\\n",
       "2   sostoken new zealand end rohit sharma led indi...   \n",
       "3   sostoken aegon life iterm insurance plan helps...   \n",
       "5   sostoken rahat fateh ali khan denies getting n...   \n",
       "9   sostoken cong wins ramgarh bypoll in rajasthan...   \n",
       "10  sostoken up cousins fed human excreta for frie...   \n",
       "\n",
       "                                       decoder_target  \n",
       "2   new zealand end rohit sharma led india match w...  \n",
       "3   aegon life iterm insurance plan helps customer...  \n",
       "5   rahat fateh ali khan denies getting notice for...  \n",
       "9   cong wins ramgarh bypoll in rajasthan takes to...  \n",
       "10  up cousins fed human excreta for friendship wi...  "
      ]
     },
     "execution_count": 20,
     "metadata": {},
     "output_type": "execute_result"
    }
   ],
   "source": [
    "# 요약 데이터에는 시작 토큰과 종료 토큰을 추가한다.\n",
    "# SettingWithCopyWarning이 떠서 data 대신 data.loc로 바꿔주었다.\n",
    "data.loc[:, 'decoder_input'] = data['headlines'].apply(lambda x: 'sostoken ' + x)\n",
    "data.loc[:, 'decoder_target'] = data['headlines'].apply(lambda x: x + ' eostoken')\n",
    "\n",
    "data.head()"
   ]
  },
  {
   "cell_type": "code",
   "execution_count": 21,
   "metadata": {
    "colab": {
     "base_uri": "https://localhost:8080/"
    },
    "id": "0-Puf-fu-62l",
    "outputId": "885646ea-690f-4d8d-aa3a-770fe4873fc4"
   },
   "outputs": [
    {
     "name": "stdout",
     "output_type": "stream",
     "text": [
      "=3\n"
     ]
    }
   ],
   "source": [
    "encoder_input = np.array(data['text']) # 인코더의 입력\n",
    "decoder_input = np.array(data['decoder_input']) # 디코더의 입력\n",
    "decoder_target = np.array(data['decoder_target']) # 디코더의 레이블\n",
    "print('=3')"
   ]
  },
  {
   "cell_type": "code",
   "execution_count": 22,
   "metadata": {
    "colab": {
     "base_uri": "https://localhost:8080/"
    },
    "id": "IMFnhahj-64M",
    "outputId": "dc08a3eb-9241-4385-fdac-6d480a3b42ac"
   },
   "outputs": [
    {
     "name": "stdout",
     "output_type": "stream",
     "text": [
      "[65204  1241  9468 ... 45161 16532 49140]\n"
     ]
    }
   ],
   "source": [
    "indices = np.arange(encoder_input.shape[0])\n",
    "np.random.shuffle(indices)\n",
    "print(indices)"
   ]
  },
  {
   "cell_type": "code",
   "execution_count": 23,
   "metadata": {
    "colab": {
     "base_uri": "https://localhost:8080/"
    },
    "id": "MdoQEhBA-65-",
    "outputId": "f8d6e96e-8528-4ef2-ba1a-6733afa8def8"
   },
   "outputs": [
    {
     "name": "stdout",
     "output_type": "stream",
     "text": [
      "=3\n"
     ]
    }
   ],
   "source": [
    "encoder_input = encoder_input[indices]\n",
    "decoder_input = decoder_input[indices]\n",
    "decoder_target = decoder_target[indices]\n",
    "print('=3')"
   ]
  },
  {
   "cell_type": "code",
   "execution_count": 24,
   "metadata": {
    "colab": {
     "base_uri": "https://localhost:8080/"
    },
    "id": "bSFMMVVRB46x",
    "outputId": "5d51b103-f98c-4e78-9141-5b9500f1385d"
   },
   "outputs": [
    {
     "name": "stdout",
     "output_type": "stream",
     "text": [
      "테스트 데이터의 수 : 14820\n"
     ]
    }
   ],
   "source": [
    "n_of_val = int(len(encoder_input)*0.2)\n",
    "print('테스트 데이터의 수 :', n_of_val)"
   ]
  },
  {
   "cell_type": "code",
   "execution_count": 25,
   "metadata": {
    "colab": {
     "base_uri": "https://localhost:8080/"
    },
    "id": "52tIJzGzB48_",
    "outputId": "e24160c2-ea52-4f0d-baa2-edb722e070e0"
   },
   "outputs": [
    {
     "name": "stdout",
     "output_type": "stream",
     "text": [
      "훈련 데이터의 개수 : 59282\n",
      "훈련 레이블의 개수 : 59282\n",
      "테스트 데이터의 개수 : 14820\n",
      "테스트 레이블의 개수 : 14820\n"
     ]
    }
   ],
   "source": [
    "encoder_input_train = encoder_input[:-n_of_val]\n",
    "decoder_input_train = decoder_input[:-n_of_val]\n",
    "decoder_target_train = decoder_target[:-n_of_val]\n",
    "\n",
    "encoder_input_test = encoder_input[-n_of_val:]\n",
    "decoder_input_test = decoder_input[-n_of_val:]\n",
    "decoder_target_test = decoder_target[-n_of_val:]\n",
    "\n",
    "print('훈련 데이터의 개수 :', len(encoder_input_train))\n",
    "print('훈련 레이블의 개수 :', len(decoder_input_train))\n",
    "print('테스트 데이터의 개수 :', len(encoder_input_test))\n",
    "print('테스트 레이블의 개수 :', len(decoder_input_test))"
   ]
  },
  {
   "cell_type": "markdown",
   "metadata": {
    "id": "icn3r1qNQVU9"
   },
   "source": [
    "## (3) 정수 인코딩"
   ]
  },
  {
   "cell_type": "code",
   "execution_count": 26,
   "metadata": {
    "colab": {
     "base_uri": "https://localhost:8080/"
    },
    "id": "rmIgv9uIB4-s",
    "outputId": "124b5f30-f513-4538-bb44-133205585a84"
   },
   "outputs": [
    {
     "name": "stdout",
     "output_type": "stream",
     "text": [
      "=3\n"
     ]
    }
   ],
   "source": [
    "src_tokenizer = Tokenizer() # 토크나이저 정의\n",
    "src_tokenizer.fit_on_texts(encoder_input_train) # 입력된 데이터로부터 단어 집합 생성\n",
    "print('=3')"
   ]
  },
  {
   "cell_type": "code",
   "execution_count": 27,
   "metadata": {
    "colab": {
     "base_uri": "https://localhost:8080/"
    },
    "id": "OnLxWczKB5AI",
    "outputId": "933b34cc-8f5b-4f09-f854-cadcc2371552"
   },
   "outputs": [
    {
     "name": "stdout",
     "output_type": "stream",
     "text": [
      "단어 집합(vocabulary)의 크기 : 61369\n",
      "등장 빈도가 6번 이하인 희귀 단어의 수: 42120\n",
      "단어 집합에서 희귀 단어를 제외시킬 경우의 단어 집합의 크기 19249\n",
      "단어 집합에서 희귀 단어의 비율: 68.63400087992308\n",
      "전체 등장 빈도에서 희귀 단어 등장 빈도 비율: 4.187448340605089\n"
     ]
    }
   ],
   "source": [
    "threshold = 7\n",
    "total_cnt = len(src_tokenizer.word_index) # 단어의 수\n",
    "rare_cnt = 0 # 등장 빈도수가 threshold보다 작은 단어의 개수를 카운트\n",
    "total_freq = 0 # 훈련 데이터의 전체 단어 빈도수 총 합\n",
    "rare_freq = 0 # 등장 빈도수가 threshold보다 작은 단어의 등장 빈도수의 총 합\n",
    "\n",
    "# 단어와 빈도수의 쌍(pair)을 key와 value로 받는다.\n",
    "for key, value in src_tokenizer.word_counts.items():\n",
    "    total_freq = total_freq + value\n",
    "\n",
    "    # 단어의 등장 빈도수가 threshold보다 작으면\n",
    "    if(value < threshold):\n",
    "        rare_cnt = rare_cnt + 1\n",
    "        rare_freq = rare_freq + value\n",
    "\n",
    "print('단어 집합(vocabulary)의 크기 :', total_cnt)\n",
    "print('등장 빈도가 %s번 이하인 희귀 단어의 수: %s'%(threshold - 1, rare_cnt))\n",
    "print('단어 집합에서 희귀 단어를 제외시킬 경우의 단어 집합의 크기 %s'%(total_cnt - rare_cnt))\n",
    "print(\"단어 집합에서 희귀 단어의 비율:\", (rare_cnt / total_cnt)*100)\n",
    "print(\"전체 등장 빈도에서 희귀 단어 등장 빈도 비율:\", (rare_freq / total_freq)*100)"
   ]
  },
  {
   "cell_type": "code",
   "execution_count": 28,
   "metadata": {
    "colab": {
     "base_uri": "https://localhost:8080/"
    },
    "id": "F26fUx_2B5CG",
    "outputId": "a91d3837-92c3-4731-b66f-6dd47613d902"
   },
   "outputs": [
    {
     "name": "stdout",
     "output_type": "stream",
     "text": [
      "=3\n"
     ]
    }
   ],
   "source": [
    "src_vocab = 20000\n",
    "src_tokenizer = Tokenizer(num_words=src_vocab) # 단어 집합의 크기를 20,000으로 제한\n",
    "src_tokenizer.fit_on_texts(encoder_input_train) # 단어 집합 재생성\n",
    "print('=3')"
   ]
  },
  {
   "cell_type": "code",
   "execution_count": 29,
   "metadata": {
    "colab": {
     "base_uri": "https://localhost:8080/"
    },
    "id": "ZuSfP7rCB5Dv",
    "outputId": "1373471b-2280-42f6-9cdd-ae13de4fdccd"
   },
   "outputs": [
    {
     "name": "stdout",
     "output_type": "stream",
     "text": [
      "[[3609, 109, 139, 7353, 5125, 5070, 16, 260, 5071, 3292, 154, 2, 418, 2037, 5972, 2794, 954, 6876, 5125, 2, 418, 3522, 109, 4547, 456, 1079, 5125, 212, 279, 523, 109, 51, 273, 16], [579, 1682, 453, 1529, 437, 5, 728, 5, 728, 579, 30, 1535, 1613, 6654, 155, 1847, 304, 663, 113, 747, 1802, 221, 2858, 992, 186, 5, 3382, 186, 85, 95, 1815, 247, 1492, 2735, 2258, 642, 411, 1120], [66, 868, 195, 1266, 176, 158, 12171, 3787, 5003, 71, 488, 390, 9250, 2425, 89, 4842, 1962, 248, 345, 176, 9471, 945, 437, 773, 169, 390, 1053, 2413, 2974, 10309, 1105, 303, 2590]]\n"
     ]
    }
   ],
   "source": [
    "# 텍스트 시퀀스를 정수 시퀀스로 변환\n",
    "encoder_input_train = src_tokenizer.texts_to_sequences(encoder_input_train)\n",
    "encoder_input_test = src_tokenizer.texts_to_sequences(encoder_input_test)\n",
    "\n",
    "# 잘 진행되었는지 샘플 출력\n",
    "print(encoder_input_train[:3])"
   ]
  },
  {
   "cell_type": "code",
   "execution_count": 30,
   "metadata": {
    "colab": {
     "base_uri": "https://localhost:8080/"
    },
    "id": "pTS_3C3nB5Fp",
    "outputId": "7473dfe5-e3be-46f8-9cbc-78636be7576b"
   },
   "outputs": [
    {
     "name": "stdout",
     "output_type": "stream",
     "text": [
      "=3\n"
     ]
    }
   ],
   "source": [
    "tar_tokenizer = Tokenizer()\n",
    "tar_tokenizer.fit_on_texts(decoder_input_train)\n",
    "print('=3')"
   ]
  },
  {
   "cell_type": "code",
   "execution_count": 31,
   "metadata": {
    "colab": {
     "base_uri": "https://localhost:8080/"
    },
    "id": "Msxl6UOlB5HV",
    "outputId": "1b2d3562-0d73-425e-cad0-ce3d63d2d64e"
   },
   "outputs": [
    {
     "name": "stdout",
     "output_type": "stream",
     "text": [
      "단어 집합(vocabulary)의 크기 : 27223\n",
      "등장 빈도가 5번 이하인 희귀 단어의 수: 18180\n",
      "단어 집합에서 희귀 단어를 제외시킬 경우의 단어 집합의 크기 9043\n",
      "단어 집합에서 희귀 단어의 비율: 66.78176541894722\n",
      "전체 등장 빈도에서 희귀 단어 등장 빈도 비율: 5.968458611581652\n"
     ]
    }
   ],
   "source": [
    "threshold = 6\n",
    "total_cnt = len(tar_tokenizer.word_index) # 단어의 수\n",
    "rare_cnt = 0 # 등장 빈도수가 threshold보다 작은 단어의 개수를 카운트\n",
    "total_freq = 0 # 훈련 데이터의 전체 단어 빈도수 총 합\n",
    "rare_freq = 0 # 등장 빈도수가 threshold보다 작은 단어의 등장 빈도수의 총 합\n",
    "\n",
    "# 단어와 빈도수의 쌍(pair)을 key와 value로 받는다.\n",
    "for key, value in tar_tokenizer.word_counts.items():\n",
    "    total_freq = total_freq + value\n",
    "\n",
    "    # 단어의 등장 빈도수가 threshold보다 작으면\n",
    "    if(value < threshold):\n",
    "        rare_cnt = rare_cnt + 1\n",
    "        rare_freq = rare_freq + value\n",
    "\n",
    "print('단어 집합(vocabulary)의 크기 :', total_cnt)\n",
    "print('등장 빈도가 %s번 이하인 희귀 단어의 수: %s'%(threshold - 1, rare_cnt))\n",
    "print('단어 집합에서 희귀 단어를 제외시킬 경우의 단어 집합의 크기 %s'%(total_cnt - rare_cnt))\n",
    "print(\"단어 집합에서 희귀 단어의 비율:\", (rare_cnt / total_cnt)*100)\n",
    "print(\"전체 등장 빈도에서 희귀 단어 등장 빈도 비율:\", (rare_freq / total_freq)*100)"
   ]
  },
  {
   "cell_type": "code",
   "execution_count": 32,
   "metadata": {
    "colab": {
     "base_uri": "https://localhost:8080/"
    },
    "id": "DfcMLyawDS_q",
    "outputId": "4cc348e1-8995-41db-d411-452c2337cffd"
   },
   "outputs": [
    {
     "name": "stdout",
     "output_type": "stream",
     "text": [
      "input\n",
      "input  [[1, 2009, 116, 70, 4873, 4147, 162, 2716, 3, 22], [1, 256, 1184, 214, 1365, 1632, 10, 14, 615, 31, 82], [1, 129, 3441, 119, 3442, 178, 1930, 15, 332, 768], [1, 291, 1461, 141, 92, 2938, 427, 985], [1, 300, 297, 2353, 3, 2644, 6087, 4645]]\n",
      "target\n",
      "decoder  [[2009, 116, 70, 4873, 4147, 162, 2716, 3, 22, 2], [256, 1184, 214, 1365, 1632, 10, 14, 615, 31, 82, 2], [129, 3441, 119, 3442, 178, 1930, 15, 332, 768, 2], [291, 1461, 141, 92, 2938, 427, 985, 2], [300, 297, 2353, 3, 2644, 6087, 4645, 2]]\n"
     ]
    }
   ],
   "source": [
    "tar_vocab = 10000\n",
    "tar_tokenizer = Tokenizer(num_words=tar_vocab)\n",
    "tar_tokenizer.fit_on_texts(decoder_input_train)\n",
    "tar_tokenizer.fit_on_texts(decoder_target_train)\n",
    "\n",
    "# 텍스트 시퀀스를 정수 시퀀스로 변환\n",
    "decoder_input_train = tar_tokenizer.texts_to_sequences(decoder_input_train)\n",
    "decoder_target_train = tar_tokenizer.texts_to_sequences(decoder_target_train)\n",
    "decoder_input_test = tar_tokenizer.texts_to_sequences(decoder_input_test)\n",
    "decoder_target_test = tar_tokenizer.texts_to_sequences(decoder_target_test)\n",
    "\n",
    "# 잘 변환되었는지 확인\n",
    "print('input')\n",
    "print('input ',decoder_input_train[:5])\n",
    "print('target')\n",
    "print('decoder ',decoder_target_train[:5])"
   ]
  },
  {
   "cell_type": "code",
   "execution_count": 33,
   "metadata": {
    "colab": {
     "base_uri": "https://localhost:8080/"
    },
    "id": "tCuQgmwkDTBi",
    "outputId": "e06a3dcf-e099-4d13-a2d2-00c396bba260"
   },
   "outputs": [
    {
     "name": "stdout",
     "output_type": "stream",
     "text": [
      "삭제할 훈련 데이터의 개수 : 0\n",
      "삭제할 테스트 데이터의 개수 : 0\n",
      "훈련 데이터의 개수 : 59282\n",
      "훈련 레이블의 개수 : 59282\n",
      "테스트 데이터의 개수 : 14820\n",
      "테스트 레이블의 개수 : 14820\n"
     ]
    }
   ],
   "source": [
    "drop_train = [index for index, sentence in enumerate(decoder_input_train) if len(sentence) == 1]\n",
    "drop_test = [index for index, sentence in enumerate(decoder_input_test) if len(sentence) == 1]\n",
    "\n",
    "print('삭제할 훈련 데이터의 개수 :', len(drop_train))\n",
    "print('삭제할 테스트 데이터의 개수 :', len(drop_test))\n",
    "\n",
    "encoder_input_train = [sentence for index, sentence in enumerate(encoder_input_train) if index not in drop_train]\n",
    "decoder_input_train = [sentence for index, sentence in enumerate(decoder_input_train) if index not in drop_train]\n",
    "decoder_target_train = [sentence for index, sentence in enumerate(decoder_target_train) if index not in drop_train]\n",
    "\n",
    "encoder_input_test = [sentence for index, sentence in enumerate(encoder_input_test) if index not in drop_test]\n",
    "decoder_input_test = [sentence for index, sentence in enumerate(decoder_input_test) if index not in drop_test]\n",
    "decoder_target_test = [sentence for index, sentence in enumerate(decoder_target_test) if index not in drop_test]\n",
    "\n",
    "print('훈련 데이터의 개수 :', len(encoder_input_train))\n",
    "print('훈련 레이블의 개수 :', len(decoder_input_train))\n",
    "print('테스트 데이터의 개수 :', len(encoder_input_test))\n",
    "print('테스트 레이블의 개수 :', len(decoder_input_test))"
   ]
  },
  {
   "cell_type": "code",
   "execution_count": 34,
   "metadata": {
    "colab": {
     "base_uri": "https://localhost:8080/"
    },
    "id": "2TzgDF-zDTDJ",
    "outputId": "8cd39f33-07a8-42d6-e00e-33ad26d0d11b"
   },
   "outputs": [
    {
     "name": "stdout",
     "output_type": "stream",
     "text": [
      "=3\n"
     ]
    }
   ],
   "source": [
    "encoder_input_train = pad_sequences(encoder_input_train, maxlen=text_max_len, padding='post')\n",
    "encoder_input_test = pad_sequences(encoder_input_test, maxlen=text_max_len, padding='post')\n",
    "decoder_input_train = pad_sequences(decoder_input_train, maxlen=headlines_max_len, padding='post')\n",
    "decoder_target_train = pad_sequences(decoder_target_train, maxlen=headlines_max_len, padding='post')\n",
    "decoder_input_test = pad_sequences(decoder_input_test, maxlen=headlines_max_len, padding='post')\n",
    "decoder_target_test = pad_sequences(decoder_target_test, maxlen=headlines_max_len, padding='post')\n",
    "print('=3')"
   ]
  },
  {
   "cell_type": "markdown",
   "metadata": {
    "id": "lX8mhGCoQaPh"
   },
   "source": [
    "# 3) 모델 설계하기"
   ]
  },
  {
   "cell_type": "code",
   "execution_count": 35,
   "metadata": {
    "id": "L8-EqhqSDTFk"
   },
   "outputs": [],
   "source": [
    "from tensorflow.keras.layers import Input, LSTM, Embedding, Dense, Concatenate, TimeDistributed\n",
    "from tensorflow.keras.models import Model\n",
    "from tensorflow.keras.callbacks import EarlyStopping, ModelCheckpoint\n",
    "\n",
    "\n",
    "# 인코더 설계 시작\n",
    "embedding_dim = 128\n",
    "hidden_size = 256\n",
    "\n",
    "# 인코더\n",
    "encoder_inputs = Input(shape=(text_max_len,))\n",
    "\n",
    "# 인코더의 임베딩 층\n",
    "enc_emb = Embedding(src_vocab, embedding_dim)(encoder_inputs)\n",
    "\n",
    "# 인코더의 LSTM 1\n",
    "# encoder_lstm1 = LSTM(hidden_size, return_sequences=True, return_state=True ,dropout = 0.4, recurrent_dropout = 0.4)\n",
    "encoder_lstm1 = LSTM(hidden_size, return_sequences=True, return_state=True ,dropout = 0.4)\n",
    "encoder_output1, state_h1, state_c1 = encoder_lstm1(enc_emb)\n",
    "\n",
    "# 인코더의 LSTM 2\n",
    "encoder_lstm2 = LSTM(hidden_size, return_sequences=True, return_state=True ,dropout = 0.4)\n",
    "encoder_output2, state_h2, state_c2 = encoder_lstm2(enc_emb)\n",
    "\n",
    "# 인코더의 LSTM 3\n",
    "encoder_lstm3 = LSTM(hidden_size, return_sequences=True, return_state=True ,dropout = 0.4)\n",
    "encoder_output3, state_h3, state_c3 = encoder_lstm3(enc_emb)"
   ]
  },
  {
   "cell_type": "code",
   "execution_count": 36,
   "metadata": {
    "id": "5WMVpQIxDTGs"
   },
   "outputs": [],
   "source": [
    "# 디코더 설계\n",
    "decoder_inputs = Input(shape=(None,))\n",
    "\n",
    "# 디코더의 임베딩 층\n",
    "dec_emb_layer = Embedding(tar_vocab, embedding_dim)\n",
    "dec_emb = dec_emb_layer(decoder_inputs)\n",
    "\n",
    "# 디코더의 LSTM\n",
    "# decoder_lstm = LSTM(hidden_size, return_sequences=True, return_state=True, dropout=0.4, recurrent_dropout=0.2)\n",
    "decoder_lstm = LSTM(hidden_size, return_sequences=True, return_state=True, dropout=0.4)\n",
    "decoder_outputs, _, _ = decoder_lstm(dec_emb, initial_state=[state_h3, state_c3])"
   ]
  },
  {
   "cell_type": "code",
   "execution_count": 37,
   "metadata": {
    "colab": {
     "base_uri": "https://localhost:8080/",
     "height": 534
    },
    "id": "OkmCXgFKDTIr",
    "outputId": "b5881ef9-58c6-4b17-b052-05e51d096877"
   },
   "outputs": [
    {
     "name": "stdout",
     "output_type": "stream",
     "text": [
      "Model: \"model\"\n",
      "__________________________________________________________________________________________________\n",
      "Layer (type)                    Output Shape         Param #     Connected to                     \n",
      "==================================================================================================\n",
      "input_1 (InputLayer)            [(None, 40)]         0                                            \n",
      "__________________________________________________________________________________________________\n",
      "input_2 (InputLayer)            [(None, None)]       0                                            \n",
      "__________________________________________________________________________________________________\n",
      "embedding (Embedding)           (None, 40, 128)      2560000     input_1[0][0]                    \n",
      "__________________________________________________________________________________________________\n",
      "embedding_1 (Embedding)         (None, None, 128)    1280000     input_2[0][0]                    \n",
      "__________________________________________________________________________________________________\n",
      "lstm_2 (LSTM)                   [(None, 40, 256), (N 394240      embedding[0][0]                  \n",
      "__________________________________________________________________________________________________\n",
      "lstm_3 (LSTM)                   [(None, None, 256),  394240      embedding_1[0][0]                \n",
      "                                                                 lstm_2[0][1]                     \n",
      "                                                                 lstm_2[0][2]                     \n",
      "__________________________________________________________________________________________________\n",
      "dense (Dense)                   (None, None, 10000)  2570000     lstm_3[0][0]                     \n",
      "==================================================================================================\n",
      "Total params: 7,198,480\n",
      "Trainable params: 7,198,480\n",
      "Non-trainable params: 0\n",
      "__________________________________________________________________________________________________\n"
     ]
    }
   ],
   "source": [
    "# 디코더의 출력층\n",
    "decoder_softmax_layer = Dense(tar_vocab, activation='softmax')\n",
    "decoder_softmax_outputs = decoder_softmax_layer(decoder_outputs)\n",
    "\n",
    "# 모델 정의\n",
    "model = Model([encoder_inputs, decoder_inputs], decoder_softmax_outputs)\n",
    "model.summary()"
   ]
  },
  {
   "cell_type": "code",
   "execution_count": 38,
   "metadata": {
    "colab": {
     "base_uri": "https://localhost:8080/",
     "height": 634
    },
    "id": "Snu4DIfTH09U",
    "outputId": "03a5fd57-245c-4d7b-d534-88b4836688f2"
   },
   "outputs": [
    {
     "name": "stdout",
     "output_type": "stream",
     "text": [
      "Model: \"model_1\"\n",
      "__________________________________________________________________________________________________\n",
      "Layer (type)                    Output Shape         Param #     Connected to                     \n",
      "==================================================================================================\n",
      "input_1 (InputLayer)            [(None, 40)]         0                                            \n",
      "__________________________________________________________________________________________________\n",
      "input_2 (InputLayer)            [(None, None)]       0                                            \n",
      "__________________________________________________________________________________________________\n",
      "embedding (Embedding)           (None, 40, 128)      2560000     input_1[0][0]                    \n",
      "__________________________________________________________________________________________________\n",
      "embedding_1 (Embedding)         (None, None, 128)    1280000     input_2[0][0]                    \n",
      "__________________________________________________________________________________________________\n",
      "lstm_2 (LSTM)                   [(None, 40, 256), (N 394240      embedding[0][0]                  \n",
      "__________________________________________________________________________________________________\n",
      "lstm_3 (LSTM)                   [(None, None, 256),  394240      embedding_1[0][0]                \n",
      "                                                                 lstm_2[0][1]                     \n",
      "                                                                 lstm_2[0][2]                     \n",
      "__________________________________________________________________________________________________\n",
      "attention_layer (AdditiveAttent (None, None, 256)    256         lstm_3[0][0]                     \n",
      "                                                                 lstm_2[0][0]                     \n",
      "__________________________________________________________________________________________________\n",
      "concat_layer (Concatenate)      (None, None, 512)    0           lstm_3[0][0]                     \n",
      "                                                                 attention_layer[0][0]            \n",
      "__________________________________________________________________________________________________\n",
      "dense_1 (Dense)                 (None, None, 10000)  5130000     concat_layer[0][0]               \n",
      "==================================================================================================\n",
      "Total params: 9,758,736\n",
      "Trainable params: 9,758,736\n",
      "Non-trainable params: 0\n",
      "__________________________________________________________________________________________________\n"
     ]
    }
   ],
   "source": [
    "from tensorflow.keras.layers import AdditiveAttention\n",
    "\n",
    "# 어텐션 층(어텐션 함수)\n",
    "attn_layer = AdditiveAttention(name='attention_layer')\n",
    "\n",
    "# 인코더와 디코더의 모든 time step의 hidden state를 어텐션 층에 전달하고 결과를 리턴\n",
    "attn_out = attn_layer([decoder_outputs, encoder_output3])\n",
    "\n",
    "\n",
    "# 어텐션의 결과와 디코더의 hidden state들을 연결\n",
    "decoder_concat_input = Concatenate(axis=-1, name='concat_layer')([decoder_outputs, attn_out])\n",
    "\n",
    "# 디코더의 출력층\n",
    "decoder_softmax_layer = Dense(tar_vocab, activation='softmax')\n",
    "decoder_softmax_outputs = decoder_softmax_layer(decoder_concat_input)\n",
    "\n",
    "# 모델 정의\n",
    "model = Model([encoder_inputs, decoder_inputs], decoder_softmax_outputs)\n",
    "model.summary()"
   ]
  },
  {
   "cell_type": "markdown",
   "metadata": {
    "id": "Z8o0ljuqQoES"
   },
   "source": [
    "# 4) 모델 훈련하기"
   ]
  },
  {
   "cell_type": "code",
   "execution_count": 39,
   "metadata": {
    "colab": {
     "base_uri": "https://localhost:8080/"
    },
    "id": "rRdoq04YH0_M",
    "outputId": "0aa852cb-65a6-4f19-8365-179768455407"
   },
   "outputs": [
    {
     "name": "stdout",
     "output_type": "stream",
     "text": [
      "Epoch 1/50\n",
      "232/232 [==============================] - 64s 61ms/step - loss: 6.4242 - val_loss: 6.0220\n",
      "Epoch 2/50\n",
      "232/232 [==============================] - 14s 59ms/step - loss: 5.9359 - val_loss: 5.7159\n",
      "Epoch 3/50\n",
      "232/232 [==============================] - 14s 61ms/step - loss: 5.5830 - val_loss: 5.4022\n",
      "Epoch 4/50\n",
      "232/232 [==============================] - 14s 60ms/step - loss: 5.2674 - val_loss: 5.1325\n",
      "Epoch 5/50\n",
      "232/232 [==============================] - 14s 60ms/step - loss: 4.9926 - val_loss: 4.9576\n",
      "Epoch 6/50\n",
      "232/232 [==============================] - 14s 59ms/step - loss: 4.7747 - val_loss: 4.8105\n",
      "Epoch 7/50\n",
      "232/232 [==============================] - 14s 59ms/step - loss: 4.5890 - val_loss: 4.6980\n",
      "Epoch 8/50\n",
      "232/232 [==============================] - 14s 59ms/step - loss: 4.4230 - val_loss: 4.6085\n",
      "Epoch 9/50\n",
      "232/232 [==============================] - 14s 60ms/step - loss: 4.2738 - val_loss: 4.5351\n",
      "Epoch 10/50\n",
      "232/232 [==============================] - 14s 60ms/step - loss: 4.1366 - val_loss: 4.4634\n",
      "Epoch 11/50\n",
      "232/232 [==============================] - 14s 60ms/step - loss: 4.0099 - val_loss: 4.4121\n",
      "Epoch 12/50\n",
      "232/232 [==============================] - 14s 60ms/step - loss: 3.8892 - val_loss: 4.3563\n",
      "Epoch 13/50\n",
      "232/232 [==============================] - 14s 60ms/step - loss: 3.7830 - val_loss: 4.3153\n",
      "Epoch 14/50\n",
      "232/232 [==============================] - 14s 60ms/step - loss: 3.6839 - val_loss: 4.2952\n",
      "Epoch 15/50\n",
      "232/232 [==============================] - 14s 60ms/step - loss: 3.5919 - val_loss: 4.2668\n",
      "Epoch 16/50\n",
      "232/232 [==============================] - 14s 60ms/step - loss: 3.5053 - val_loss: 4.2349\n",
      "Epoch 17/50\n",
      "232/232 [==============================] - 14s 59ms/step - loss: 3.4192 - val_loss: 4.2107\n",
      "Epoch 18/50\n",
      "232/232 [==============================] - 14s 60ms/step - loss: 3.3399 - val_loss: 4.1900\n",
      "Epoch 19/50\n",
      "232/232 [==============================] - 14s 60ms/step - loss: 3.2693 - val_loss: 4.1816\n",
      "Epoch 20/50\n",
      "232/232 [==============================] - 14s 60ms/step - loss: 3.1979 - val_loss: 4.1640\n",
      "Epoch 21/50\n",
      "232/232 [==============================] - 14s 60ms/step - loss: 3.1297 - val_loss: 4.1526\n",
      "Epoch 22/50\n",
      "232/232 [==============================] - 14s 60ms/step - loss: 3.0638 - val_loss: 4.1617\n",
      "Epoch 23/50\n",
      "232/232 [==============================] - 14s 60ms/step - loss: 3.0005 - val_loss: 4.1412\n",
      "Epoch 24/50\n",
      "232/232 [==============================] - 14s 60ms/step - loss: 2.9420 - val_loss: 4.1412\n",
      "Epoch 25/50\n",
      "232/232 [==============================] - 14s 60ms/step - loss: 2.8830 - val_loss: 4.1321\n",
      "Epoch 26/50\n",
      "232/232 [==============================] - 14s 60ms/step - loss: 2.8259 - val_loss: 4.1200\n",
      "Epoch 27/50\n",
      "232/232 [==============================] - 14s 59ms/step - loss: 2.7755 - val_loss: 4.1187\n",
      "Epoch 28/50\n",
      "232/232 [==============================] - 14s 60ms/step - loss: 2.7274 - val_loss: 4.1135\n",
      "Epoch 29/50\n",
      "232/232 [==============================] - 14s 60ms/step - loss: 2.6805 - val_loss: 4.1253\n",
      "Epoch 30/50\n",
      "232/232 [==============================] - 14s 60ms/step - loss: 2.6304 - val_loss: 4.1091\n",
      "Epoch 31/50\n",
      "232/232 [==============================] - 14s 60ms/step - loss: 2.5856 - val_loss: 4.1209\n",
      "Epoch 32/50\n",
      "232/232 [==============================] - 14s 60ms/step - loss: 2.5410 - val_loss: 4.1170\n",
      "Epoch 00032: early stopping\n"
     ]
    }
   ],
   "source": [
    "model.compile(optimizer='rmsprop', loss='sparse_categorical_crossentropy')\n",
    "es = EarlyStopping(monitor='val_loss', patience=2, verbose=1)\n",
    "history = model.fit(x=[encoder_input_train, decoder_input_train], y=decoder_target_train, \\\n",
    "          validation_data=([encoder_input_test, decoder_input_test], decoder_target_test), \\\n",
    "          batch_size=256, callbacks=[es], epochs=50)"
   ]
  },
  {
   "cell_type": "code",
   "execution_count": 40,
   "metadata": {
    "colab": {
     "base_uri": "https://localhost:8080/",
     "height": 430
    },
    "id": "j4TvGhZXH1A9",
    "outputId": "09a5d8e6-a410-4029-908f-ff413b4232fb"
   },
   "outputs": [
    {
     "data": {
      "image/png": "[encoded data removed]",
      "text/plain": [
       "<Figure size 432x288 with 1 Axes>"
      ]
     },
     "metadata": {
      "needs_background": "light"
     },
     "output_type": "display_data"
    }
   ],
   "source": [
    "plt.plot(history.history['loss'], label='train')\n",
    "plt.plot(history.history['val_loss'], label='test')\n",
    "plt.legend()\n",
    "plt.show()"
   ]
  },
  {
   "cell_type": "markdown",
   "metadata": {
    "id": "gMMZOsgUQshv"
   },
   "source": [
    "# 5) 인퍼런스 모델 구현하기"
   ]
  },
  {
   "cell_type": "code",
   "execution_count": 41,
   "metadata": {
    "colab": {
     "base_uri": "https://localhost:8080/"
    },
    "id": "uUFQsSlYH1Cy",
    "outputId": "65398ad4-3ea9-4173-b0b6-afe0bb81fb9b"
   },
   "outputs": [
    {
     "name": "stdout",
     "output_type": "stream",
     "text": [
      "=3\n"
     ]
    }
   ],
   "source": [
    "src_index_to_word = src_tokenizer.index_word # 원문 단어 집합에서 정수 -> 단어를 얻음\n",
    "tar_word_to_index = tar_tokenizer.word_index # 요약 단어 집합에서 단어 -> 정수를 얻음\n",
    "tar_index_to_word = tar_tokenizer.index_word # 요약 단어 집합에서 정수 -> 단어를 얻음\n",
    "\n",
    "print('=3')"
   ]
  },
  {
   "cell_type": "code",
   "execution_count": 42,
   "metadata": {
    "colab": {
     "base_uri": "https://localhost:8080/"
    },
    "id": "0XE2Dip9H1Er",
    "outputId": "5397ec80-b77a-4e24-c3b2-4ae945a2024e"
   },
   "outputs": [
    {
     "name": "stdout",
     "output_type": "stream",
     "text": [
      "=3\n"
     ]
    }
   ],
   "source": [
    "# 인코더 설계\n",
    "encoder_model = Model(inputs=encoder_inputs, outputs=[encoder_output3, state_h3, state_c3])\n",
    "\n",
    "# 이전 시점의 상태들을 저장하는 텐서\n",
    "decoder_state_input_h = Input(shape=(hidden_size,))\n",
    "decoder_state_input_c = Input(shape=(hidden_size,))\n",
    "\n",
    "dec_emb2 = dec_emb_layer(decoder_inputs)\n",
    "\n",
    "# 문장의 다음 단어를 예측하기 위해서 초기 상태(initial_state)를 이전 시점의 상태로 사용. 이는 뒤의 함수 decode_sequence()에 구현\n",
    "# 훈련 과정에서와 달리 LSTM의 리턴하는 은닉 상태와 셀 상태인 state_h와 state_c를 버리지 않음.\n",
    "decoder_outputs2, state_h2, state_c2 = decoder_lstm(dec_emb2, initial_state=[decoder_state_input_h, decoder_state_input_c])\n",
    "\n",
    "print('=3')"
   ]
  },
  {
   "cell_type": "code",
   "execution_count": 43,
   "metadata": {
    "colab": {
     "base_uri": "https://localhost:8080/"
    },
    "id": "qdySW__NH1GZ",
    "outputId": "ca82faab-2238-489a-d3fd-f4542430ab3c"
   },
   "outputs": [
    {
     "name": "stdout",
     "output_type": "stream",
     "text": [
      "=3\n"
     ]
    }
   ],
   "source": [
    "# 어텐션 함수\n",
    "decoder_hidden_state_input = Input(shape=(text_max_len, hidden_size))\n",
    "attn_out_inf = attn_layer([decoder_outputs2, decoder_hidden_state_input])\n",
    "decoder_inf_concat = Concatenate(axis=-1, name='concat')([decoder_outputs2, attn_out_inf])\n",
    "\n",
    "# 디코더의 출력층\n",
    "decoder_outputs2 = decoder_softmax_layer(decoder_inf_concat)\n",
    "\n",
    "# 최종 디코더 모델\n",
    "decoder_model = Model(\n",
    "    [decoder_inputs] + [decoder_hidden_state_input,decoder_state_input_h, decoder_state_input_c],\n",
    "    [decoder_outputs2] + [state_h2, state_c2])\n",
    "\n",
    "print('=3')"
   ]
  },
  {
   "cell_type": "code",
   "execution_count": 44,
   "metadata": {
    "colab": {
     "base_uri": "https://localhost:8080/"
    },
    "id": "V23ob1mxH1Id",
    "outputId": "5d732de0-97ee-416f-e394-ba462ffb15e6"
   },
   "outputs": [
    {
     "name": "stdout",
     "output_type": "stream",
     "text": [
      "=3\n"
     ]
    }
   ],
   "source": [
    "def decode_sequence(input_seq):\n",
    "    # 입력으로부터 인코더의 상태를 얻음\n",
    "    e_out, e_h, e_c = encoder_model.predict(input_seq)\n",
    "\n",
    "     # <SOS>에 해당하는 토큰 생성\n",
    "    target_seq = np.zeros((1,1))\n",
    "    target_seq[0, 0] = tar_word_to_index['sostoken']\n",
    "\n",
    "    stop_condition = False\n",
    "    decoded_sentence = ''\n",
    "    while not stop_condition: # stop_condition이 True가 될 때까지 루프 반복\n",
    "\n",
    "        output_tokens, h, c = decoder_model.predict([target_seq] + [e_out, e_h, e_c])\n",
    "        sampled_token_index = np.argmax(output_tokens[0, -1, :])\n",
    "        sampled_token = tar_index_to_word[sampled_token_index]\n",
    "\n",
    "        if (sampled_token!='eostoken'):\n",
    "            decoded_sentence += ' '+sampled_token\n",
    "\n",
    "        #  <eos>에 도달하거나 최대 길이를 넘으면 중단.\n",
    "        if (sampled_token == 'eostoken'  or len(decoded_sentence.split()) >= (headlines_max_len-1)):\n",
    "            stop_condition = True\n",
    "\n",
    "        # 길이가 1인 타겟 시퀀스를 업데이트\n",
    "        target_seq = np.zeros((1,1))\n",
    "        target_seq[0, 0] = sampled_token_index\n",
    "\n",
    "        # 상태를 업데이트 합니다.\n",
    "        e_h, e_c = h, c\n",
    "\n",
    "    return decoded_sentence\n",
    "print('=3')"
   ]
  },
  {
   "cell_type": "markdown",
   "metadata": {
    "id": "O8hhT2aOQxro"
   },
   "source": [
    "# 6) 모델 테스트하기"
   ]
  },
  {
   "cell_type": "code",
   "execution_count": 45,
   "metadata": {
    "colab": {
     "base_uri": "https://localhost:8080/"
    },
    "id": "h6p2TyFUH1J9",
    "outputId": "f8011bc0-6817-4f73-816c-001c84d0d2b7"
   },
   "outputs": [
    {
     "name": "stdout",
     "output_type": "stream",
     "text": [
      "=3\n"
     ]
    }
   ],
   "source": [
    "# 원문의 정수 시퀀스를 텍스트 시퀀스로 변환\n",
    "def seq2text(input_seq):\n",
    "    temp=''\n",
    "    for i in input_seq:\n",
    "        if (i!=0):\n",
    "            temp = temp + src_index_to_word[i]+' '\n",
    "    return temp\n",
    "\n",
    "# 요약문의 정수 시퀀스를 텍스트 시퀀스로 변환\n",
    "def seq2headlines(input_seq):\n",
    "    temp = ''\n",
    "    for i in input_seq:\n",
    "        if i == 0:\n",
    "            continue\n",
    "        word = tar_index_to_word[i]\n",
    "        if word == 'eostoken':\n",
    "            break\n",
    "        if word != 'sostoken':\n",
    "            temp += word + ' '\n",
    "    return temp.strip()\n",
    "\n",
    "print('=3')"
   ]
  },
  {
   "cell_type": "code",
   "execution_count": 46,
   "metadata": {
    "colab": {
     "base_uri": "https://localhost:8080/"
    },
    "id": "s2T54i9_La3Q",
    "outputId": "aca0d208-ed39-460f-abc7-4526c2c0d8fd"
   },
   "outputs": [
    {
     "name": "stdout",
     "output_type": "stream",
     "text": [
      "원문 : haryana government banned release upcoming film padmaavat state health minister anil vij said suggested ban keeping view law order situation state earlier haryana cm manohar lal khattar said decision film would taken censor board passed film \n",
      "실제 요약 : haryana government bans release of padmaavat\n",
      "예측 요약 :  ban banned from entering govt ban in tamil nadu\n",
      "\n",
      "\n",
      "원문 : andhra pradesh cm chandrababu naidu monday accused centre diverting tax revenues collected southern states development northern states nothing called central money people money added naidu comes two tdp ministers resigned union cabinet centre rejected demand special category status andhra \n",
      "실제 요약 : centre tax revenues from south to north andhra cm\n",
      "예측 요약 :  centre to provide over lakh andhra cm\n",
      "\n",
      "\n",
      "원문 : florida based boy times seconds set world record minute guinness world records confirmed boy named seven wade nine years old time attempt guinness added seven surpassed previous record set bishop \n",
      "실제 요약 : yr old boy times in minute sets world record\n",
      "예측 요약 :  yr old sets record of world record by\n",
      "\n",
      "\n",
      "원문 : shiv sena leader rajya sabha mp sanjay raut monday questioned opposition parties fielding gopalkrishna gandhi vice presidential elections claiming gandhi opposed death sentence mumbai bomb blasts convict yakub memon raut said even written president want ask kind mindset \n",
      "실제 요약 : gandhi opposed hanging shiv sena\n",
      "예측 요약 :  opposition opposition mp calls for lok sabha\n",
      "\n",
      "\n",
      "원문 : bjp leader amit shah saturday said number lynching incidents higher three years nda regime mohammad died uttar pradesh samajwadi party government law order state subject responsibility yet protest modi government added \n",
      "실제 요약 : lynching cases higher before nda regime amit shah\n",
      "예측 요약 :  bjp has no of every months amit shah\n",
      "\n",
      "\n",
      "원문 : uk independence party leadership candidate john evans suggested plan pay british indians people dual nationalities leave country cited local shops going business reason plan added would pay stopping foreign aid senior politicians slammed idea \n",
      "실제 요약 : uk politician plans to offer indians to leave country\n",
      "예측 요약 :  uk to host its own visas after brexit\n",
      "\n",
      "\n",
      "원문 : brazil captain neymar said best footballer world five time ballon winners lionel messi cristiano ronaldo another planet said completely recovered injury suffered february playing club psg notably year old forward scored goals international matches \n",
      "실제 요약 : ronaldo messi from other planet am best on earth neymar\n",
      "예측 요약 :  ronaldo reveals he will win la liga title\n",
      "\n",
      "\n",
      "원문 : woman partner filed police complaint accusing singer jubin physical assault molestation party hotel dehradun man alleged jubin tried take advantage partner confronted assaulted however jubin filed counter complaint alleging two party attacked \n",
      "실제 요약 : woman accuses singer of molestation assaulting partner\n",
      "예측 요약 :  fir against against her over her molestation\n",
      "\n",
      "\n",
      "원문 : social media giant facebook spent record million first three months lobbying according disclosures filed us government company spent million lobbying period last year comes facebook scrutiny data users exploited influence us elections \n",
      "실제 요약 : facebook spends record mn on amid data scandal\n",
      "예측 요약 :  facebook spent million in minutes over\n",
      "\n",
      "\n",
      "원문 : new zealand prime minister jacinda ardern said country ban foreigners buying existing homes early make property affordable citizens proposed ban would apply australians new exempt similar policy australia however foreigners could still continue buy residential land build new homes \n",
      "실제 요약 : new zealand to ban foreign home buyers to control prices\n",
      "예측 요약 :  canada to ban on social media ban\n",
      "\n",
      "\n",
      "원문 : japanese watchdog accused apple breaching antitrust rules forcing mobile service providers sell iphones charge higher monthly fees fair trade commission said japanese unit apple forced companies like softbank sell iphones discount practices give apple advantage competitors added \n",
      "실제 요약 : apple accused of rules with iphone sales\n",
      "예측 요약 :  apple to pay fine for iphone patent case\n",
      "\n",
      "\n",
      "원문 : five time ballon winner cristiano ronaldo took twitter share picture eldest son cristiano jr imitating famous shirtless pose jr say daddy gonna like think real madrid forward captioned picture reacting user tweeted jr watches messi play free time \n",
      "실제 요약 : ronaldo shares picture of son shirtless pose\n",
      "예측 요약 :  ronaldo shares picture with his father photo of him\n",
      "\n",
      "\n",
      "원문 : delta airlines offering refunds family forced plane threatened jail refusing give paid seat two year old son couple alleged threatened children would taken couple travelling two toddlers told two year old could seat \n",
      "실제 요약 : delta offers refund for forcing couple with kids off plane\n",
      "예측 요약 :  airline worker on leave for lakh\n",
      "\n",
      "\n",
      "원문 : delhi assembly passed resolution full statehood puducherry cm narayanasamy also demanded full statehood union territory claimed puducherry faces issues delhi kiran bedi slowing process governance rejecting delaying government project despite elected government functioning cm said \n",
      "실제 요약 : cm demands full for puducherry\n",
      "예측 요약 :  delhi cm orders to delhi puducherry cm after protest\n",
      "\n",
      "\n",
      "원문 : authorities decided serve notices offenders public property posters walls boards noida greater noida officials noted people using sign boards walls personal benefits putting advertisements people take responsibility keep cities clean authorities said \n",
      "실제 요약 : noida to act against of public property\n",
      "예측 요약 :  noida to probe unitech to monitor of\n",
      "\n",
      "\n",
      "원문 : bipasha basu star husband karan singh grover film titled produced singer mika singh per reports film directed bhushan patel written vikram bhatt according reports bipasha seen playing cop karan role nri businessman reports added \n",
      "실제 요약 : bipasha basu to star with husband karan in reports\n",
      "예측 요약 :  karan johar to star in karan johar directorial reports\n",
      "\n",
      "\n",
      "원문 : twitter released series special emojis featuring cricketers ahead tenth season indian premier league starts wednesday players featured virat kohli ms dhoni steve smith gautam gambhir shane watson ben stokes among others use emojis users tweet players names hashtag \n",
      "실제 요약 : twitter releases special player for ipl\n",
      "예측 요약 :  bcci confirms kohli play in ipl squad for ipl\n",
      "\n",
      "\n",
      "원문 : actress rita moreno wore gown wore oscars oscars year old actress slightly modified gown changing version accessorised ensemble gold necklace long gloves gold bracelet rita best supporting actress award west side story oscars \n",
      "실제 요약 : gown from oscars at oscars\n",
      "예측 요약 :  actress wins best award for oscars\n",
      "\n",
      "\n",
      "원문 : australian pacer andrew tye became second bowler indian spinner amit mishra pick three hat tricks picking third big bash league saturday tye picked hat trick big bash season also picked hat trick ipl debut gujarat lions \n",
      "실제 요약 : aussie nd after amit mishra with hat tricks in\n",
      "예측 요약 :  ashwin st hat trick in england after england\n",
      "\n",
      "\n",
      "원문 : online food delivery startup swiggy appointed vivek startup first chief operating officer four years founded according startup responsible swiggy operating units strategic direction priorities effective immediately previously held position managing director gamble east africa operations \n",
      "실제 요약 : swiggy gets st coo after years of being founded\n",
      "예측 요약 :  zomato appoints its first ever cfo\n",
      "\n",
      "\n",
      "원문 : iceland faced backlash seen killing blue whale endangered species deliberately captured since company maintains whale hybrid species endangered species iceland minister agriculture fisheries said relevant authorities investigating incident \n",
      "실제 요약 : iceland faces backlash as kill endangered blue whale\n",
      "예측 요약 :  video species of blue whale discovered in\n",
      "\n",
      "\n",
      "원문 : gujarat based pharma company sterling biotech owner nitin sandesara wanted crore bank fraud may fled nigeria family reports said monday family extradition could difficult india extradition treaty nigeria reports added family absconding since october cbi registered case \n",
      "실제 요약 : gujarat tycoon wanted in cr fraud flees to nigeria report\n",
      "예측 요약 :  pnb fraud firm in cr fraud case\n",
      "\n",
      "\n",
      "원문 : maharashtra chief minister devendra fadnavis unveil first poster upcoming biopic based life prime minister narendra modi per reports poster film starring actor vivek oberoi reportedly released january film directed omung kumar previously directed films like mary kom \n",
      "실제 요약 : maharashtra cm to unveil poster of pm modi biopic report\n"
     ]
    },
    {
     "name": "stdout",
     "output_type": "stream",
     "text": [
      "예측 요약 :  release date of anil biopic starrer released\n",
      "\n",
      "\n",
      "원문 : sony pictures studios announced spider man villain venom getting standalone film release october character first appearance film spider man opposite played spider man however film related film spider man homecoming latter marvel studio co production \n",
      "실제 요약 : film on spider man villain venom to release in\n",
      "예측 요약 :  release date of tiger shroff starrer baaghi announced\n",
      "\n",
      "\n",
      "원문 : user ebay put iphone pre order sale commerce platform iphone sale gb space gray model sells us pre orders iphone started october week official launch november \n",
      "실제 요약 : man his iphone pre order for on ebay\n",
      "예측 요약 :  amazon unveils its most expensive brand for\n",
      "\n",
      "\n",
      "원문 : youth allegedly shot dead elderly man latter opposed visiting neighbouring girl house allahabad youth told police loved girl wanted impress allegedly killed man argument neighbours following arrested murder weapon seized \n",
      "실제 요약 : killed elderly man to girl allahabad youth\n",
      "예측 요약 :  man kills self after being shot at home\n",
      "\n",
      "\n",
      "원문 : festival celebrating held irish town november organisers said guests harbour bar served ham cheese part festival alongside harbour bar named world best bar famous customers included peter \n",
      "실제 요약 : festival of to be held in ireland\n",
      "예측 요약 :  there is the world largest festival\n",
      "\n",
      "\n",
      "원문 : posters congress vice president rahul gandhi image caption rahul gandhi missing emerged constituency amethi development work undertaken mp done common man feels betrayed insulted posters read adding person finding gandhi rewarded notably visited amethi year \n",
      "실제 요약 : rahul gandhi missing posters put up in amethi\n",
      "예측 요약 :  rahul gandhi is not missing rahul gandhi\n",
      "\n",
      "\n",
      "원문 : fbi started spying renowned german born scientist albert einstein moved america shortly adolf hitler rose power agents listened physicist phone calls mail trash suspecting soviet spy surveillance totalling pages ended einstein death april supporting evidence \n",
      "실제 요약 : fbi on einstein for years until his death\n",
      "예측 요약 :  einstein launches nobel for einstein einstein\n",
      "\n",
      "\n",
      "원문 : federal judge seattle saturday partially blocked us president donald trump move suspend family programme refugees judge ruled trump administration cannot block entry refugees eleven security advisory opinion nations fide relationship person entity united states \n",
      "실제 요약 : us federal judge partially lifts trump refugee ban\n",
      "예측 요약 :  us court blocks trump travel travel to travel\n",
      "\n",
      "\n",
      "원문 : kerala high court friday held educational institutions education political activities like dharna hunger strike similar practices place campus student indulging activities campus would make liable added court observed hearing petition strike prone college \n",
      "실제 요약 : political activities have no place on campus kerala hc\n",
      "예측 요약 :  hc stays kerala hc order on kerala student death\n",
      "\n",
      "\n",
      "원문 : iceland named world peaceful country topping global peace index tenth consecutive year new zealand portugal completed top three syria named least peaceful country followed afghanistan iraq us dropped spots rank india ranked \n",
      "실제 요약 : iceland rated world most peaceful country india th\n",
      "예측 요약 :  india top world most powerful world th country\n",
      "\n",
      "\n",
      "원문 : veteran bollywood actress sridevi mortal remains flown back india monday husband boney kapoor spokesperson said body brought back industrialist anil ambani private plane last rites held mumbai tomorrow actress died falling unconscious bathroom hotel room dubai saturday \n",
      "실제 요약 : sridevi mortal remains to be flown back tomorrow\n",
      "예측 요약 :  sridevi demise of actress sridevi demise\n",
      "\n",
      "\n",
      "원문 : police registered case airtel allegedly stealing electricity rival bsnl jammu kashmir kargil district police found airtel tower connected illegally used exclusively bsnl mobile tower airtel denied allegations saying tower belong operated tower company \n",
      "실제 요약 : case against airtel for stealing power from bsnl in kargil\n",
      "예측 요약 :  man steals stealing from stealing stealing in gurugram\n",
      "\n",
      "\n",
      "원문 : steven scored seven runs one ball match english side kent domestic tournament thursday taken three runs hitting ball covers wicketkeeper threw ball back bowler bowler missed ball went boundary resulting seven runs \n",
      "실제 요약 : english batsman scores seven runs off one ball in match\n",
      "예측 요약 :  slams england player scores with runs in one match\n",
      "\n",
      "\n",
      "원문 : abdul hamid school principal southern assam district arrested tuesday using offensive images pm narendra modi whatsapp display picture accused reportedly blamed year old son tampering picture one showed chained dog modi face morphed onto showed man dog \n",
      "실제 요약 : principal held for using morphed modi images as whatsapp pic\n",
      "예측 요약 :  principal arrested for posting derogatory video on whatsapp page\n",
      "\n",
      "\n",
      "원문 : south african pacer kagiso rabada become youngest bowler since hold number one odi rank rabada aged years five days rose top rank tuesday taking final odi england pakistan mushtaq youngest held top rank years days \n",
      "실제 요약 : sa rabada youngest top ranked odi bowler in years\n",
      "예측 요약 :  year old youngest to score in icc cricket\n",
      "\n",
      "\n",
      "원문 : samajwadi party leader mulayam singh yadav said fault endorse akhilesh yadav cm uttar pradesh become chief minister would polls full majority chief minister mulayam added also slammed son forming alliance congress \n",
      "실제 요약 : my fault to have akhilesh as up cm mulayam\n",
      "예측 요약 :  akhilesh yadav to become new yadav\n",
      "\n",
      "\n",
      "원문 : jain institute management research two year residential programme known innovative value based learning quality made top list indian institutes global mba rankings second consecutive year \n",
      "실제 요약 : mumbai ranked the top indian schools report\n",
      "예측 요약 :  indian railways to get global survey\n",
      "\n",
      "\n",
      "원문 : princes businessmen detained saudi arabia part crackdown corruption reportedly tortured us hired privately kingdom prince alwaleed middle east richest person reportedly hung upside send message people detained part probe uncovered illegal transactions worth billion \n",
      "실제 요약 : us hired to torture saudi report\n",
      "예측 요약 :  saudi prince jailed for saudi prince over corruption report\n",
      "\n",
      "\n",
      "원문 : indian railways run special trains facilitate holiday travelling upcoming festival season minister state railways manoj sinha said tuesday adding coaches added existing trains sinha said ministry considering cancelling leave staff deal rush \n",
      "실제 요약 : railways to run special trains ahead of\n",
      "예측 요약 :  railways to train seats in trains for st time\n",
      "\n",
      "\n",
      "원문 : iran judiciary confirmed member country nuclear agreement team sentenced five years prison spying reportedly involved financial aspects agreement iran nuclear deal us world powers led lifting sanctions return curbing nuclear programme \n",
      "실제 요약 : iran confirms nuclear jailed for spying\n",
      "예측 요약 :  iran to return to spy on years\n",
      "\n",
      "\n",
      "원문 : actors sushant singh rajput kriti sanon reportedly seen together hindi remake hollywood film dirty dancing per reports producers earlier approached tiger shroff disha patani rejected film sushant last seen opposite kriti film raabta \n",
      "실제 요약 : sushant kriti to star in dirty dancing hindi remake report\n",
      "예측 요약 :  sushant singh to star in upcoming film reports\n",
      "\n",
      "\n",
      "원문 : man fled india crore bank fraud arrested landed goa vacation years alleged crime cbi officials said tuesday man identified vinay kadam acquired new identity canada kadam allegedly set fake companies issued cheques despite zero bank balance \n",
      "실제 요약 : bank fraud accused visits goa arrested years later\n",
      "예측 요약 :  man arrested for crore fraud in maharashtra\n",
      "\n",
      "\n",
      "원문 : talking potential web series actor emraan hashmi said stories previously considered longer left behind due digital platforms big shift many new stories coming actor added emraan seen upcoming political thriller web series blood \n",
      "실제 요약 : stories no longer left behind emraan on web series\n",
      "예측 요약 :  web series is for web web series\n",
      "\n",
      "\n",
      "원문 : rapper snoop dogg made music video featuring us president donald trump mock assassination trump condemned rapper tweeting imagine would failing career aimed fired gun president obama jail time video snoop shoots clown resembling trump toy gun \n",
      "실제 요약 : trump blasts snoop dogg over shooting video\n",
      "예측 요약 :  trump calls trump over his own white house\n",
      "\n",
      "\n",
      "원문 : former accountant ryan grant claimed earns yearly selling items retail stores like walmart target amazon us based year old said stores compare prices listed amazon seller app check profit grant buys items clearance season sells season \n",
      "실제 요약 : man earns year by selling walmart items on amazon\n"
     ]
    },
    {
     "name": "stdout",
     "output_type": "stream",
     "text": [
      "예측 요약 :  flipkart to make billion deal with amazon walmart\n",
      "\n",
      "\n",
      "원문 : family court tamil nadu stayed rajya sabha mp expelled aiadmk leader sasikala pushpa wedding dr ramaswamy grounds marriage first wife still valid came petition filed first wife alleged ramaswamy stopped talking gave birth daughter \n",
      "실제 요약 : tn court stays mp wedding over fianc first marriage\n",
      "예측 요약 :  aiadmk leader gets married to attend jayalalithaa wedding\n",
      "\n",
      "\n",
      "원문 : us based scientists found stand one leg relax save energy study dead revealed bird muscles used standing one leg change one legged posture two legs stability lost could help develop better artificial limbs scientists said \n",
      "실제 요약 : scientists solve mystery of how sleep on one leg\n",
      "예측 요약 :  study reveals how survive how is faster\n",
      "\n",
      "\n",
      "원문 : ceo kobe steel kawasaki revealed companies received falsely certified products double earlier count scandal shares third largest japanese steelmaker plunged wiping billion market value earlier said companies affected \n",
      "실제 요약 : kobe steel data scandal affected firms ceo\n",
      "예측 요약 :  microsoft shares picture of its year old\n",
      "\n",
      "\n"
     ]
    }
   ],
   "source": [
    "for i in range(50, 100):\n",
    "    print(\"원문 :\", seq2text(encoder_input_test[i]))\n",
    "    print(\"실제 요약 :\", seq2headlines(decoder_input_test[i]))\n",
    "    print(\"예측 요약 :\", decode_sequence(encoder_input_test[i].reshape(1, text_max_len)))\n",
    "    print(\"\\n\")"
   ]
  },
  {
   "cell_type": "markdown",
   "metadata": {
    "id": "G_ig4ZQ5Q1p7"
   },
   "source": [
    "# 7) 추출적 요약 해보기"
   ]
  },
  {
   "cell_type": "code",
   "execution_count": 74,
   "metadata": {
    "id": "p5G7VOv_La44"
   },
   "outputs": [],
   "source": [
    "from summa.summarizer import summarize\n",
    "\n",
    "data2 = pd.read_csv('news_summary_more.csv', encoding='iso-8859-1')"
   ]
  },
  {
   "cell_type": "code",
   "execution_count": 93,
   "metadata": {
    "colab": {
     "base_uri": "https://localhost:8080/",
     "height": 203
    },
    "id": "kAbvnV5BLa6o",
    "outputId": "c707b673-c314-4554-8ab8-9dd0f3cf6243"
   },
   "outputs": [],
   "source": [
    "# ratio가 0.3 이하가 되면 글이 너무 짧아져서 결과가 보이지 않음\n",
    "data2['summary'] = data2['text'].apply(lambda x: summarize(x, ratio=0.4))"
   ]
  },
  {
   "cell_type": "code",
   "execution_count": 82,
   "metadata": {
    "colab": {
     "base_uri": "https://localhost:8080/",
     "height": 185
    },
    "id": "HHvSSQnLLa8k",
    "outputId": "0c40dbfe-01a0-4773-9474-dbb910824323"
   },
   "outputs": [
    {
     "name": "stdout",
     "output_type": "stream",
     "text": [
      "                                                text\n",
      "0  Saurav Kant, an alumnus of upGrad and IIIT-B's...\n",
      "1  Kunal Shah's credit card bill payment platform...\n",
      "2  New Zealand defeated India by 8 wickets in the...\n",
      "3  With Aegon Life iTerm Insurance plan, customer...\n",
      "4  Speaking about the sexual harassment allegatio...\n"
     ]
    }
   ],
   "source": [
    "# 원본\n",
    "print(data2[['text']].head())"
   ]
  },
  {
   "cell_type": "code",
   "execution_count": 94,
   "metadata": {
    "id": "vPWdPVZRLa-d"
   },
   "outputs": [
    {
     "name": "stdout",
     "output_type": "stream",
     "text": [
      "                                             summary\n",
      "0  upGrad's Online Power Learning has powered 3 l...\n",
      "1  Users get one CRED coin per rupee of bill paid...\n",
      "2  The match witnessed India getting all out for ...\n",
      "3  Also, customers have options to insure against...\n",
      "4  Speaking about the sexual harassment allegatio...\n"
     ]
    }
   ],
   "source": [
    "# 추출적 요약 결과\n",
    "print(data2[['summary']].head())"
   ]
  }
 ],
 "metadata": {
  "accelerator": "GPU",
  "colab": {
   "collapsed_sections": [
    "wOEihNFAP7ko",
    "EREFvfCNQDT5",
    "icn3r1qNQVU9",
    "lX8mhGCoQaPh",
    "Z8o0ljuqQoES",
    "gMMZOsgUQshv",
    "O8hhT2aOQxro",
    "G_ig4ZQ5Q1p7"
   ],
   "gpuType": "T4",
   "provenance": []
  },
  "kernelspec": {
   "display_name": "Python 3 (ipykernel)",
   "language": "python",
   "name": "python3"
  },
  "language_info": {
   "codemirror_mode": {
    "name": "ipython",
    "version": 3
   },
   "file_extension": ".py",
   "mimetype": "text/x-python",
   "name": "python",
   "nbconvert_exporter": "python",
   "pygments_lexer": "ipython3",
   "version": "3.9.7"
  }
 },
 "nbformat": 4,
 "nbformat_minor": 1
}
