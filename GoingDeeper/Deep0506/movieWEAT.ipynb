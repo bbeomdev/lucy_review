{
 "cells": [
  {
   "cell_type": "code",
   "execution_count": 1,
   "id": "4d939a54",
   "metadata": {},
   "outputs": [],
   "source": [
    "import konlpy\n",
    "import gensim\n",
    "import sklearn\n",
    "import seaborn"
   ]
  },
  {
   "cell_type": "markdown",
   "id": "97077a38",
   "metadata": {},
   "source": [
    "# 0. WEAT 구현하기"
   ]
  },
  {
   "cell_type": "code",
   "execution_count": 2,
   "id": "35009da8",
   "metadata": {},
   "outputs": [],
   "source": [
    "import numpy as np\n",
    "from numpy import dot\n",
    "from numpy.linalg import norm"
   ]
  },
  {
   "cell_type": "code",
   "execution_count": 3,
   "id": "b1641045",
   "metadata": {},
   "outputs": [],
   "source": [
    "def cos_sim(i, j):\n",
    "    return dot(i, j.T)/(norm(i)*norm(j))\n",
    "\n",
    "def s(w, A, B):\n",
    "    c_a = cos_sim(w, A)\n",
    "    c_b = cos_sim(w, B)\n",
    "    mean_A = np.mean(c_a, axis=-1)\n",
    "    mean_B = np.mean(c_b, axis=-1)\n",
    "    return mean_A - mean_B #, c_a, c_b"
   ]
  },
  {
   "cell_type": "code",
   "execution_count": 4,
   "id": "b25dc941",
   "metadata": {},
   "outputs": [],
   "source": [
    "def weat_score(X, Y, A, B):\n",
    "    \n",
    "    s_X = s(X, A, B)\n",
    "    s_Y = s(Y, A, B)\n",
    "\n",
    "    mean_X = np.mean(s_X)\n",
    "    mean_Y = np.mean(s_Y)\n",
    "    \n",
    "    std_dev = np.std(np.concatenate([s_X, s_Y], axis=0))\n",
    "    \n",
    "    return  (mean_X-mean_Y)/std_dev"
   ]
  },
  {
   "cell_type": "code",
   "execution_count": null,
   "id": "84535b4e",
   "metadata": {},
   "outputs": [],
   "source": []
  },
  {
   "cell_type": "markdown",
   "id": "428f3725",
   "metadata": {},
   "source": [
    "# 1. 형태소 분석기를 이용하여 품사가 명사인 경우 단어를 추출하기"
   ]
  },
  {
   "cell_type": "code",
   "execution_count": 5,
   "id": "6a65ea42",
   "metadata": {},
   "outputs": [
    {
     "name": "stdout",
     "output_type": "stream",
     "text": [
      "사운드 엔지니어 상우(유지태 분)는 치매에 걸린 할머니(백성희 분)와\n",
      " 젊은 시절 상처한 한 아버지(박인환 분), 고모(신신애 분)와 함께 살고 있다.\n",
      " 어느 겨울 그는 지방 방송국 라디오 PD 은수(이영애 분)를 만난다.\n",
      " 자연의 소리를 채집해 틀어주는 라디오 프로그램을 준비하는 은수는 상우와 녹음 여행을 떠난다.\n",
      " 자연스레 가까워지는 두 사람은 어느 날, 은수의 아파트에서 밤을 보낸다.\n",
      " 너무 쉽게 사랑에 빠진 두 사람... 상우는 주체할 수 없을 정도로 그녀에게 빨려든다.\n",
      " 그러나 겨울에 만난 두 사람의 관계는 봄을 지나 여름을 맞이하면서 삐걱거린다.\n",
      " 이혼 경험이 있는 은수는 상우에게 결혼할 생각이 없다며 부담스러운 표정을 내비친다.\n",
      " \"어떻게 사랑이 변하니?...\"라고 묻는 상우에게 은수는 그저 \"헤어져\" 라고 단호하게 말한다.\n",
      " 영원히 변할 것 같지 않던 사랑이 변하고, 그 사실을 받아들이지 못하는 상우는 어찌 할 바를 모른다.\n",
      " 은수를 잊지 못하는 상우는 미련과 집착의 감정을 이기지 못하고 서울과 강릉을 오간다.\n",
      "유사 이래 연령, 성별, 빈부의 차이와 정치적인 입장을 불문하고 일거에 국민을 통합해 온 '애국심'이라는 성역에 일침을 가하는 다큐멘터리. 재작년 전국 민족민주 유가족협의회의 장기농성을 다룬 인상적인 다큐멘터리 <민들레>를 만들었던 독립영화집단 '빨간 눈사람'이 우리 사회 구석구석을 발빠르게 돌아다니며 애국심과 민족주의가 강요되는 현장을 발굴하여 카메라에 담았다. 박홍 서강대 명예총장, 이도형 '한국논단' 발행인, 축구해설자 신문선, 홍세화, 박노해 등 사회 각계의 '스타'들이 등장해 저마다의 확고한 신념을 성토한다. 감독 이경순과 최하동하는 이 작품을 위해 3년간 백여 명을 인터뷰했다고 한다. 2001 올해의 독립영화상 수상.\n",
      " 민족과 국가란 공동체에서 부단히 권력과 부를 얻는 자, 나아가 민족과 국가란 공동체에서 얻은 신분과 부귀를 영원히 그의 자손에게 대물림하려는 자, 그래서 민족과 국가란 공동체를 부단히 유지해야만 하는 자, 따라서 민족과 국가란 공동체의 당위성과 개인의 가치를 초월하는 그 존엄성을 끝도 없이 창조하고 되뇌어야 하는 자, 종국에는 민족과 국가란 공동체에 속해 있다고 태내에서부터 세뇌된 모든 이들의 삶과 행동에서 영원히 자기복제되는 순환의 고리, 영생하는 애국의 원동력은 그 순환의 골에서 온다.\n",
      "엽기적인 살인사건이 발생한 장소를 관광하는 투어팀. 그 팀에서 관광객들은 살인사건과 관련하여 히스테리컬한 반응을 보이는데 과연 이들의 정체는? (Tourists see whrer a murder take place. They respond hysterically to the murder…what are they?)\n",
      " 제46회 발라돌리드 국제영화제 (2001, 스페인)\n",
      "착하지만 엉뚱한 태희(배두나 분), 예쁜 깍쟁이 혜주(이요원 분), 그림을 잘 그리는 지영(옥지영 분), 명랑한 쌍둥이 비류(이은실 분)와 온조(이은주 분)는 단짝친구들. 늘 함께였던 그들이지만 스무 살이 되면서 길이 달라진다. 증권회사에 입사한 혜주는 성공한 커리어우먼의 야심을 키우고 미술에 재능이 있는 지영은 유학을 꿈꾼다. 한편 태희는 봉사활동에서 알게 된 뇌성마비 시인을 좋아하는데...\n",
      "  어느 날 지영이 길 잃은 새끼 고양이 티티를 만남면서 스무 살 그녀들의 삶에 고양이 한 마리가 끼어들게 된다. 혼자 있길 좋아하고, 쉽게 마음을 열지 않는 신비로운 동물 고양이. 고양이를 닮은 스무 살 그녀들. 고양이 티티와 함께 한 시간동안 삶은 예상못한 방향으로 흘러가지만 마침내 그녀들만의 해결책을 찾게 되는데... 사랑스런 몽상가 태희, 아름다운 야심가 혜주, 신비로운 아웃사이더 지영. 마지막으로 고양이를 부탁받은 사람은 누구일까?\n",
      "인도 등 아시아 식민지에 처음 발을 디딘 뒤 여행하고 “경영”한 이들은 과연 누구였을까? 과거의 이미지들은, 이민과 인종 문제, ‘오리엔탈리즘’이 격렬히 충돌하고 있는 현재와 강력하게 공명한다.\n",
      " [제19회 인디다큐페스티발]\n",
      "홀로 살아가는 미국 할머니와 한국 할머니의 이야기. 공원에서 가끔 마주치게 되는 그들은 비록 언어 소통의 어려움을 겪지만 시간이 흘러감에 따라 서로 가까워져 그들의 외로움과 우정을 공유하게 된다. 겨울이 지나고 봄이 왔을 때 길가의 민들레 홀씨는 삶의 이치를 말해주듯 한 할머니의 주위를 맴돈다. (Two elderly widows, an American and a Korean, frequent the same park in Philadelphia and attempt a friendship, though the Korean widow speaks no English. Driven by loneliness and a spark of hope, they persevere within the limits of body language, and the outcome poses a question of life as fundamental as a flower.)\n"
     ]
    }
   ],
   "source": [
    "import os\n",
    "\n",
    "with open(os.getenv('HOME')+'/aiffel/weat/synopsis.txt', 'r') as file:\n",
    "    for i in range(20):\n",
    "        print(file.readline(), end='')"
   ]
  },
  {
   "cell_type": "code",
   "execution_count": 6,
   "id": "af741194",
   "metadata": {},
   "outputs": [
    {
     "name": "stdout",
     "output_type": "stream",
     "text": [
      "슝~\n"
     ]
    }
   ],
   "source": [
    "# 약 15분정도 걸립니다.\n",
    "from konlpy.tag import Okt\n",
    "okt = Okt()\n",
    "tokenized = []\n",
    "with open(os.getenv('HOME')+'/aiffel/weat/synopsis.txt', 'r') as file:\n",
    "    while True:\n",
    "        line = file.readline()\n",
    "        if not line: break\n",
    "        words = okt.pos(line, stem=True, norm=True)\n",
    "        res = []\n",
    "        for w in words:\n",
    "            if w[1] in [\"Noun\"]:      # \"Adjective\", \"Verb\" 등을 포함할 수도 있습니다.\n",
    "                res.append(w[0])    # 명사일 때만 tokenized 에 저장하게 됩니다. \n",
    "        tokenized.append(res)\n",
    "\n",
    "print(\"슝~\")"
   ]
  },
  {
   "cell_type": "code",
   "execution_count": 7,
   "id": "d18e51e6",
   "metadata": {},
   "outputs": [
    {
     "name": "stdout",
     "output_type": "stream",
     "text": [
      "71156\n"
     ]
    }
   ],
   "source": [
    "print(len(tokenized))"
   ]
  },
  {
   "cell_type": "markdown",
   "id": "77583a3f",
   "metadata": {},
   "source": [
    "# 2. 추출된 결과로 embedding model 만들기"
   ]
  },
  {
   "cell_type": "code",
   "execution_count": 8,
   "id": "2123d339",
   "metadata": {},
   "outputs": [
    {
     "data": {
      "text/plain": [
       "[('작품', 0.8868610262870789),\n",
       " ('다큐멘터리', 0.8457796573638916),\n",
       " ('드라마', 0.8272269368171692),\n",
       " ('영화로', 0.8094937205314636),\n",
       " ('코미디', 0.7825974822044373),\n",
       " ('주제', 0.7783645391464233),\n",
       " ('형식', 0.7717011570930481),\n",
       " ('가족영화', 0.7648875117301941),\n",
       " ('감동', 0.7611518502235413),\n",
       " ('영상', 0.7611464858055115)]"
      ]
     },
     "execution_count": 8,
     "metadata": {},
     "output_type": "execute_result"
    }
   ],
   "source": [
    "from gensim.models import Word2Vec\n",
    "\n",
    "# tokenized에 담긴 데이터를 가지고 나만의 Word2Vec을 생성합니다. (Gensim 4.0 기준)\n",
    "model = Word2Vec(tokenized, vector_size=100, window=5, min_count=3, sg=0)  \n",
    "model.wv.most_similar(positive=['영화'])\n",
    "\n",
    "# Gensim 3.X 에서는 아래와 같이 생성합니다. \n",
    "# model = Word2Vec(tokenized, size=100, window=5, min_count=3, sg=0)  \n",
    "# model.most_similar(positive=['영화'])"
   ]
  },
  {
   "cell_type": "code",
   "execution_count": 9,
   "id": "97e35ab4",
   "metadata": {},
   "outputs": [
    {
     "data": {
      "text/plain": [
       "[('첫사랑', 0.7108936905860901),\n",
       " ('애정', 0.7105739712715149),\n",
       " ('행복', 0.6950017213821411),\n",
       " ('진심', 0.6922305226325989),\n",
       " ('이별', 0.6896046996116638),\n",
       " ('세츠코', 0.6885373592376709),\n",
       " ('정일', 0.6836407780647278),\n",
       " ('토마슈', 0.6812920570373535),\n",
       " ('가슴', 0.6801794767379761),\n",
       " ('아르튬', 0.6791903376579285)]"
      ]
     },
     "execution_count": 9,
     "metadata": {},
     "output_type": "execute_result"
    }
   ],
   "source": [
    "model.wv.most_similar(positive=['사랑'])"
   ]
  },
  {
   "cell_type": "code",
   "execution_count": 10,
   "id": "fa2da23a",
   "metadata": {},
   "outputs": [
    {
     "data": {
      "text/plain": [
       "[('시나리오', 0.8964319229125977),\n",
       " ('캐스팅', 0.8867759704589844),\n",
       " ('배우', 0.8743441104888916),\n",
       " ('팬', 0.8721151351928711),\n",
       " ('영화감독', 0.8693058490753174),\n",
       " ('공연', 0.8633511662483215),\n",
       " ('각색', 0.8615027666091919),\n",
       " ('오페라', 0.8598663210868835),\n",
       " ('데뷔', 0.8583706021308899),\n",
       " ('연기', 0.8582332730293274)]"
      ]
     },
     "execution_count": 10,
     "metadata": {},
     "output_type": "execute_result"
    }
   ],
   "source": [
    "model.wv.most_similar(positive=['연극'])"
   ]
  },
  {
   "cell_type": "markdown",
   "id": "a699b853",
   "metadata": {},
   "source": [
    "# 3. target, attribute 단어 셋 만들기"
   ]
  },
  {
   "cell_type": "code",
   "execution_count": 11,
   "id": "24d29b33",
   "metadata": {},
   "outputs": [
    {
     "name": "stdout",
     "output_type": "stream",
     "text": [
      "슝~\n"
     ]
    }
   ],
   "source": [
    "import os\n",
    "from sklearn.feature_extraction.text import TfidfVectorizer\n",
    "import numpy as np\n",
    "from konlpy.tag import Okt\n",
    "\n",
    "art_txt = 'synopsis_art.txt'\n",
    "gen_txt = 'synopsis_gen.txt'\n",
    "\n",
    "def read_token(file_name):\n",
    "    okt = Okt()\n",
    "    result = []\n",
    "    with open(os.getenv('HOME')+'/aiffel/weat/'+file_name, 'r') as fread: \n",
    "        print(file_name, '파일을 읽고 있습니다.')\n",
    "        while True:\n",
    "            line = fread.readline() \n",
    "            if not line: break \n",
    "            tokenlist = okt.pos(line, stem=True, norm=True) \n",
    "            for word in tokenlist:\n",
    "                if word[1] in [\"Noun\"]:#, \"Adjective\", \"Verb\"]:\n",
    "                    result.append((word[0])) \n",
    "    return ' '.join(result)\n",
    "\n",
    "print(\"슝~\")"
   ]
  },
  {
   "cell_type": "code",
   "execution_count": 12,
   "id": "c7a4579a",
   "metadata": {},
   "outputs": [
    {
     "name": "stdout",
     "output_type": "stream",
     "text": [
      "synopsis_art.txt 파일을 읽고 있습니다.\n",
      "synopsis_gen.txt 파일을 읽고 있습니다.\n"
     ]
    }
   ],
   "source": [
    "# 2개의 파일을 처리하는데 10분 가량 걸립니다. \n",
    "art = read_token(art_txt)\n",
    "gen = read_token(gen_txt)"
   ]
  },
  {
   "cell_type": "code",
   "execution_count": 13,
   "id": "59b48fe7",
   "metadata": {},
   "outputs": [
    {
     "name": "stdout",
     "output_type": "stream",
     "text": [
      "(2, 41082)\n"
     ]
    }
   ],
   "source": [
    "vectorizer = TfidfVectorizer()\n",
    "X = vectorizer.fit_transform([art, gen])\n",
    "\n",
    "print(X.shape)"
   ]
  },
  {
   "cell_type": "code",
   "execution_count": 14,
   "id": "6f8e97c0",
   "metadata": {},
   "outputs": [
    {
     "name": "stdout",
     "output_type": "stream",
     "text": [
      "23976\n",
      "영화\n"
     ]
    },
    {
     "name": "stderr",
     "output_type": "stream",
     "text": [
      "/opt/conda/lib/python3.9/site-packages/sklearn/utils/deprecation.py:87: FutureWarning: Function get_feature_names is deprecated; get_feature_names is deprecated in 1.0 and will be removed in 1.2. Please use get_feature_names_out instead.\n",
      "  warnings.warn(msg, category=FutureWarning)\n"
     ]
    }
   ],
   "source": [
    "print(vectorizer.vocabulary_['영화'])\n",
    "print(vectorizer.get_feature_names()[23976])"
   ]
  },
  {
   "cell_type": "code",
   "execution_count": 15,
   "id": "673b2ebe",
   "metadata": {},
   "outputs": [
    {
     "name": "stdout",
     "output_type": "stream",
     "text": [
      "예술영화를 대표하는 단어들:\n",
      "그녀, 자신, 시작, 위해, 사랑, 사람, 영화, 친구, 남자, 가족, 이야기, 마을, 사건, 마음, 세상, 아버지, 아이, 엄마, 모든, 여자, 대한, 서로, 과연, 다시, 시간, 아들, 소녀, 아내, 다른, 사이, 영화제, 세계, 사실, 하나, 점점, 남편, 감독, 여행, 인생, 발견, 모두, 순간, 우리, 가장, 마지막, 생활, 아빠, 모습, 통해, 죽음, 기억, 비밀, 학교, 음악, 한편, 소년, 생각, 도시, 명의, 사고, 결혼, 전쟁, 때문, 위기, 이제, 최고, 이자, 과거, 일상, 경찰, 상황, 간다, 미국, 결심, 운명, 현실, 관계, 지금, 단편, 여인, 하루, 이름, 이후, 준비, 인간, 감정, 만난, 국제, 처음, 충격, 살인, 누구, 동안, 존재, 그린, 어머니, 연인, 계속, 동생, 작품, \n",
      "\n",
      "일반영화를 대표하는 단어들:\n",
      "자신, 그녀, 영화제, 위해, 사람, 시작, 국제, 영화, 친구, 사랑, 남자, 이야기, 대한, 서울, 여자, 사건, 남편, 아이, 가족, 아버지, 다른, 마을, 시간, 엄마, 아들, 모든, 단편, 마음, 사실, 다시, 세계, 모습, 작품, 통해, 생각, 서로, 세상, 발견, 감독, 아내, 관계, 소녀, 사이, 하나, 우리, 애니메이션, 때문, 여성, 죽음, 과연, 점점, 인간, 생활, 한편, 결혼, 상황, 모두, 기억, 명의, 소년, 여행, 가장, 간다, 순간, 이제, 도시, 비밀, 학교, 과거, 가지, 이자, 경찰, 마지막, 미국, 동안, 전쟁, 주인공, 대해, 존재, 현실, 연출, 사고, 살인, 일상, 어머니, 계속, 사회, 인생, 다큐멘터리, 부문, 섹스, 최고, 바로, 동생, 의도, 하루, 위기, 계획, 정체, 한국, "
     ]
    }
   ],
   "source": [
    "m1 = X[0].tocoo()   # art를 TF-IDF로 표현한 sparse matrix를 가져옵니다. \n",
    "m2 = X[1].tocoo()   # gen을 TF-IDF로 표현한 sparse matrix를 가져옵니다. \n",
    "\n",
    "w1 = [[i, j] for i, j in zip(m1.col, m1.data)]\n",
    "w2 = [[i, j] for i, j in zip(m2.col, m2.data)]\n",
    "\n",
    "w1.sort(key=lambda x: x[1], reverse=True)   #art를 구성하는 단어들을 TF-IDF가 높은 순으로 정렬합니다. \n",
    "w2.sort(key=lambda x: x[1], reverse=True)   #gen을 구성하는 단어들을 TF-IDF가 높은 순으로 정렬합니다. \n",
    "\n",
    "print('예술영화를 대표하는 단어들:')\n",
    "for i in range(100):\n",
    "    print(vectorizer.get_feature_names()[w1[i][0]], end=', ')\n",
    "\n",
    "print('\\n')\n",
    "    \n",
    "print('일반영화를 대표하는 단어들:')\n",
    "for i in range(100):\n",
    "    print(vectorizer.get_feature_names()[w2[i][0]], end=', ')"
   ]
  },
  {
   "cell_type": "code",
   "execution_count": 16,
   "id": "bd69ff17",
   "metadata": {},
   "outputs": [],
   "source": [
    "n = 15\n",
    "w1_, w2_ = [], []\n",
    "for i in range(100):\n",
    "    w1_.append(vectorizer.get_feature_names()[w1[i][0]])\n",
    "    w2_.append(vectorizer.get_feature_names()[w2[i][0]])\n",
    "\n",
    "# w1에만 있고 w2에는 없는, 예술영화를 잘 대표하는 단어를 15개 추출한다.\n",
    "target_art, target_gen = [], []\n",
    "target_overlap = []\n",
    "\n",
    "for i in range(100):\n",
    "    if (w1_[i] not in w2_) and (w1_[i] in model.wv): target_art.append(w1_[i])\n",
    "    if len(target_art) == n: break \n",
    "\n",
    "# w2에만 있고 w1에는 없는, 일반영화를 잘 대표하는 단어를 15개 추출한다.\n",
    "for i in range(100):\n",
    "    if (w2_[i] not in w1_) and (w2_[i] in model.wv): target_gen.append(w2_[i])\n",
    "    if len(target_gen) == n: break\n",
    "        \n",
    "# w1과 w2에 모두 존재하는 단어들을 target_overlap에 추가\n",
    "for i in range(100):\n",
    "    if (w1_[i] in w2_) and (w1_[i] in model.wv): \n",
    "        target_overlap.append(w1_[i])\n",
    "    if len(target_overlap) == n: break"
   ]
  },
  {
   "cell_type": "code",
   "execution_count": 17,
   "id": "71c599cb",
   "metadata": {},
   "outputs": [
    {
     "name": "stdout",
     "output_type": "stream",
     "text": [
      "['아빠', '음악', '결심', '운명', '지금', '여인', '이름', '이후', '준비', '감정', '만난', '처음', '충격', '누구', '그린']\n"
     ]
    }
   ],
   "source": [
    "print(target_art)"
   ]
  },
  {
   "cell_type": "code",
   "execution_count": 18,
   "id": "48e5f459",
   "metadata": {},
   "outputs": [
    {
     "name": "stdout",
     "output_type": "stream",
     "text": [
      "['서울', '애니메이션', '여성', '가지', '주인공', '대해', '연출', '사회', '다큐멘터리', '부문', '섹스', '바로', '의도', '계획', '정체']\n"
     ]
    }
   ],
   "source": [
    "print(target_gen)"
   ]
  },
  {
   "cell_type": "code",
   "execution_count": 19,
   "id": "0bafb83d",
   "metadata": {},
   "outputs": [
    {
     "name": "stdout",
     "output_type": "stream",
     "text": [
      "['그녀', '자신', '시작', '위해', '사랑', '사람', '영화', '친구', '남자', '가족', '이야기', '마을', '사건', '마음', '세상']\n"
     ]
    }
   ],
   "source": [
    "print(target_overlap)"
   ]
  },
  {
   "cell_type": "code",
   "execution_count": 20,
   "id": "926364ed",
   "metadata": {},
   "outputs": [],
   "source": [
    "genre_txt = ['synopsis_SF.txt', 'synopsis_family.txt', 'synopsis_show.txt', 'synopsis_horror.txt', 'synopsis_etc.txt', \n",
    "             'synopsis_documentary.txt', 'synopsis_drama.txt', 'synopsis_romance.txt', 'synopsis_musical.txt', \n",
    "             'synopsis_mystery.txt', 'synopsis_crime.txt', 'synopsis_historical.txt', 'synopsis_western.txt', \n",
    "             'synopsis_adult.txt', 'synopsis_thriller.txt', 'synopsis_animation.txt', 'synopsis_action.txt', \n",
    "             'synopsis_adventure.txt', 'synopsis_war.txt', 'synopsis_comedy.txt', 'synopsis_fantasy.txt']\n",
    "genre_name = ['SF', '가족', '공연', '공포(호러)', '기타', '다큐멘터리', '드라마', '멜로로맨스', '뮤지컬', '미스터리', '범죄', '사극', '서부극(웨스턴)',\n",
    "         '성인물(에로)', '스릴러', '애니메이션', '액션', '어드벤처', '전쟁', '코미디', '판타지']"
   ]
  },
  {
   "cell_type": "code",
   "execution_count": 21,
   "id": "8fa490bf",
   "metadata": {},
   "outputs": [
    {
     "name": "stdout",
     "output_type": "stream",
     "text": [
      "synopsis_SF.txt 파일을 읽고 있습니다.\n",
      "synopsis_family.txt 파일을 읽고 있습니다.\n",
      "synopsis_show.txt 파일을 읽고 있습니다.\n",
      "synopsis_horror.txt 파일을 읽고 있습니다.\n",
      "synopsis_etc.txt 파일을 읽고 있습니다.\n",
      "synopsis_documentary.txt 파일을 읽고 있습니다.\n",
      "synopsis_drama.txt 파일을 읽고 있습니다.\n",
      "synopsis_romance.txt 파일을 읽고 있습니다.\n",
      "synopsis_musical.txt 파일을 읽고 있습니다.\n",
      "synopsis_mystery.txt 파일을 읽고 있습니다.\n",
      "synopsis_crime.txt 파일을 읽고 있습니다.\n",
      "synopsis_historical.txt 파일을 읽고 있습니다.\n",
      "synopsis_western.txt 파일을 읽고 있습니다.\n",
      "synopsis_adult.txt 파일을 읽고 있습니다.\n",
      "synopsis_thriller.txt 파일을 읽고 있습니다.\n",
      "synopsis_animation.txt 파일을 읽고 있습니다.\n",
      "synopsis_action.txt 파일을 읽고 있습니다.\n",
      "synopsis_adventure.txt 파일을 읽고 있습니다.\n",
      "synopsis_war.txt 파일을 읽고 있습니다.\n",
      "synopsis_comedy.txt 파일을 읽고 있습니다.\n",
      "synopsis_fantasy.txt 파일을 읽고 있습니다.\n"
     ]
    }
   ],
   "source": [
    "# 약 10분정도 걸립니다.\n",
    "genre = []\n",
    "for file_name in genre_txt:\n",
    "    genre.append(read_token(file_name))"
   ]
  },
  {
   "cell_type": "code",
   "execution_count": 22,
   "id": "a221cbf9",
   "metadata": {},
   "outputs": [
    {
     "name": "stdout",
     "output_type": "stream",
     "text": [
      "(21, 42191)\n"
     ]
    }
   ],
   "source": [
    "vectorizer = TfidfVectorizer()\n",
    "X = vectorizer.fit_transform(genre)\n",
    "\n",
    "print(X.shape)"
   ]
  },
  {
   "cell_type": "code",
   "execution_count": 23,
   "id": "3e09162d",
   "metadata": {},
   "outputs": [
    {
     "name": "stdout",
     "output_type": "stream",
     "text": [
      "SF: 지구, 인류, 인간, 미래, 우주, 로봇, 세계, 모든, 박사, 우주선, 외계, 존재, 발견, 행성, 정체, \n",
      "가족: 엄마, 아빠, 영화제, 아주르, 아버지, 아들, 국제, 낙타, 할머니, 씨제이, 동구, 아이, 학교, 소년, 슈이트, \n",
      "공연: 오페라, 토스카, 실황, 올레, 카바, 공연, 오텔로, 리골레토, 백작, 프레, 베르디, 카르피, 비바, 왕자, 콘서트, \n",
      "공포(호러): 공포, 발견, 죽음, 악령, 좀비, 사실, 소녀, 하나, 살인, 비밀, 아이, 정체, 저주, 살해, 영화제, \n",
      "기타: 영화제, 국제, 서울, 단편, 뉴미디어, 페스티벌, 여자, 대한, 독립, 작품, 엄마, 통해, 아시아나, 다른, 우리, \n",
      "다큐멘터리: 영화제, 다큐, 국제, 다큐멘터리, 대한, 감독, 서울, 우리, 세계, 통해, 여성, 한국, 작품, 환경, 사회, \n",
      "드라마: 영화제, 국제, 엄마, 여자, 아버지, 단편, 서울, 대한, 아들, 아이, 남편, 서로, 시간, 소녀, 감독, \n",
      "멜로로맨스: 남편, 여자, 섹스, 결혼, 서로, 아내, 관계, 부부, 엄마, 아버지, 사실, 점점, 다시, 회사, 시간, \n",
      "뮤지컬: 뮤지컬, 에스메랄다, 음악, 충무로, 모차르트, 토스카, 니웨, 카바, 영화제, 바흐, 페뷔스, 프롤, 모도, 카르피, 제루샤, \n",
      "미스터리: 발견, 사고, 진실, 죽음, 기억, 살인, 아내, 아이, 민혁, 사실, 의문, 미스터리, 형사, 하나, 비밀, \n",
      "범죄: 경찰, 범죄, 조직, 살인, 마약, 형사, 모든, 살해, 수사, 발견, 한길수, 범인, 계획, 은행, 작전, \n",
      "사극: 조선, 신기전, 아가멤논, 황제, 루안, 최고, 운명, 하선, 전쟁, 윤서, 트로이, 세자, 허균, 노준, 채선, \n",
      "서부극(웨스턴): 서부, 보안관, 벌린, 카우보이, 그레이프바인, 헨리, 개릿, 아이, 무법자, 프린트, 마적, 태구, 현상금, 분노, 버질, \n",
      "성인물(에로): 남편, 마사지, 섹스, 관계, 정사, 여자, 유부녀, 에피소드, 그린, 아내, 다시, 자위, 회사, 불륜, 사실, \n",
      "스릴러: 살인, 발견, 아내, 경찰, 모든, 사실, 살해, 형사, 점점, 비밀, 여자, 사고, 범인, 아들, 남편, \n",
      "애니메이션: 애니메이션, 국제, 영화제, 인디애니페스트, 페스티벌, 서울, 아이, 소녀, 세계, 애니, 단편, 소년, 부문, 과연, 작품, \n",
      "액션: 조직, 경찰, 전쟁, 모든, 목숨, 사실, 요원, 임무, 범죄, 세계, 살인, 한편, 아버지, 복수, 죽음, \n",
      "어드벤처: 아버지, 아이, 여행, 세계, 앤트, 모험, 비밀, 대한, 모든, 소년, 여정, 모두, 인간, 발견, 영화제, \n",
      "전쟁: 전쟁, 독일군, 전투, 작전, 부대, 윈터스, 독일, 연합군, 미군, 임무, 나치, 병사, 공격, 이지중대, 혁리, \n",
      "코미디: 여자, 영화제, 과연, 인생, 아이, 아버지, 모든, 생각, 결혼, 엄마, 서로, 생활, 다른, 코미디, 사실, \n",
      "판타지: 요괴, 영화제, 소녀, 인간, 세계, 국제, 마법, 알렉스, 존재, 순영, 판타스틱, 아이, 모습, 여자, 모든, \n"
     ]
    }
   ],
   "source": [
    "m = [X[i].tocoo() for i in range(X.shape[0])]\n",
    "\n",
    "w = [[[i, j] for i, j in zip(mm.col, mm.data)] for mm in m]\n",
    "\n",
    "for i in range(len(w)):\n",
    "    w[i].sort(key=lambda x: x[1], reverse=True)\n",
    "attributes = []\n",
    "for i in range(len(w)):\n",
    "    print(genre_name[i], end=': ')\n",
    "    attr = []\n",
    "    j = 0\n",
    "    while len(attr) < 15 and j < len(w[i]):\n",
    "        word = vectorizer.get_feature_names()[w[i][j][0]]\n",
    "        if (word in model.wv) and (word not in target_overlap):\n",
    "            attr.append(word)\n",
    "            print(word, end=', ')\n",
    "        j += 1\n",
    "    attributes.append(attr)\n",
    "    print()"
   ]
  },
  {
   "cell_type": "markdown",
   "id": "564eb4f9",
   "metadata": {},
   "source": [
    "# 4. WEAT score 계산과 시각화"
   ]
  },
  {
   "cell_type": "code",
   "execution_count": 24,
   "id": "34fe6119",
   "metadata": {},
   "outputs": [
    {
     "name": "stdout",
     "output_type": "stream",
     "text": [
      "슝~\n"
     ]
    }
   ],
   "source": [
    "matrix = [[0 for _ in range(len(genre_name))] for _ in range(len(genre_name))]\n",
    "print(\"슝~\")"
   ]
  },
  {
   "cell_type": "code",
   "execution_count": 25,
   "id": "3a055025",
   "metadata": {},
   "outputs": [
    {
     "name": "stdout",
     "output_type": "stream",
     "text": [
      "슝~\n"
     ]
    }
   ],
   "source": [
    "X = np.array([model.wv[word] for word in target_art])\n",
    "Y = np.array([model.wv[word] for word in target_gen])\n",
    "\n",
    "for i in range(len(genre_name)-1):\n",
    "    for j in range(i+1, len(genre_name)):\n",
    "        A = np.array([model.wv[word] for word in attributes[i]])\n",
    "        B = np.array([model.wv[word] for word in attributes[j]])\n",
    "        matrix[i][j] = weat_score(X, Y, A, B)\n",
    "\n",
    "print(\"슝~\")"
   ]
  },
  {
   "cell_type": "code",
   "execution_count": 26,
   "id": "5796b072",
   "metadata": {},
   "outputs": [
    {
     "name": "stdout",
     "output_type": "stream",
     "text": [
      "SF 가족 -0.49694768\n",
      "SF 공연 -0.106578335\n",
      "SF 공포(호러) -0.646207\n",
      "SF 기타 0.29211703\n",
      "SF 다큐멘터리 0.50526255\n",
      "SF 드라마 -0.37907842\n",
      "SF 멜로로맨스 -0.78510845\n",
      "SF 뮤지컬 0.26722234\n",
      "SF 미스터리 -0.7237402\n",
      "SF 범죄 -0.24580473\n",
      "SF 사극 -0.42434728\n",
      "SF 서부극(웨스턴) -0.648529\n",
      "SF 성인물(에로) -0.6073359\n",
      "SF 스릴러 -0.6413971\n",
      "SF 애니메이션 0.36373702\n",
      "SF 액션 -0.54392457\n",
      "SF 어드벤처 -0.5753993\n",
      "SF 전쟁 0.1610826\n",
      "SF 코미디 -0.62802666\n",
      "SF 판타지 -0.04076455\n",
      "가족 공연 0.37840912\n",
      "가족 공포(호러) 0.06570238\n",
      "가족 기타 0.8254673\n",
      "가족 다큐멘터리 0.84426916\n",
      "가족 드라마 0.28616515\n",
      "가족 멜로로맨스 -0.5815826\n",
      "가족 뮤지컬 0.8057182\n",
      "가족 미스터리 -0.22372355\n",
      "가족 범죄 0.204061\n",
      "가족 사극 0.27592805\n",
      "가족 서부극(웨스턴) -0.02069395\n",
      "가족 성인물(에로) -0.34658962\n",
      "가족 스릴러 -0.25612023\n",
      "가족 애니메이션 0.8238617\n",
      "가족 액션 0.07532401\n",
      "가족 어드벤처 0.27390072\n",
      "가족 전쟁 0.59749514\n",
      "가족 코미디 -0.083196245\n",
      "가족 판타지 0.6990555\n",
      "공연 공포(호러) -0.22174041\n",
      "공연 기타 0.68869865\n",
      "공연 다큐멘터리 0.76612103\n",
      "공연 드라마 -0.28168222\n",
      "공연 멜로로맨스 -0.6042824\n",
      "공연 뮤지컬 1.0297575\n",
      "공연 미스터리 -0.3589746\n",
      "공연 범죄 -0.07824011\n",
      "공연 사극 -0.2512801\n",
      "공연 서부극(웨스턴) -0.371298\n",
      "공연 성인물(에로) -0.509212\n",
      "공연 스릴러 -0.37640494\n",
      "공연 애니메이션 0.90967244\n",
      "공연 액션 -0.2025612\n",
      "공연 어드벤처 -0.21669424\n",
      "공연 전쟁 0.28916702\n",
      "공연 코미디 -0.37811732\n",
      "공연 판타지 0.13623102\n",
      "공포(호러) 기타 0.5658301\n",
      "공포(호러) 다큐멘터리 0.6747612\n",
      "공포(호러) 드라마 0.08176993\n",
      "공포(호러) 멜로로맨스 -0.72729635\n",
      "공포(호러) 뮤지컬 0.5346468\n",
      "공포(호러) 미스터리 -0.72266316\n",
      "공포(호러) 범죄 0.27937904\n",
      "공포(호러) 사극 0.16684254\n",
      "공포(호러) 서부극(웨스턴) -0.1326965\n",
      "공포(호러) 성인물(에로) -0.4550631\n",
      "공포(호러) 스릴러 -0.5623037\n",
      "공포(호러) 애니메이션 0.5776257\n",
      "공포(호러) 액션 0.038171526\n",
      "공포(호러) 어드벤처 0.16241124\n",
      "공포(호러) 전쟁 0.54293746\n",
      "공포(호러) 코미디 -0.15869592\n",
      "공포(호러) 판타지 0.4972984\n",
      "기타 다큐멘터리 0.68919903\n",
      "기타 드라마 -0.96334094\n",
      "기타 멜로로맨스 -0.85459507\n",
      "기타 뮤지컬 -0.07284889\n",
      "기타 미스터리 -0.6317028\n",
      "기타 범죄 -0.34744313\n",
      "기타 사극 -0.7381601\n",
      "기타 서부극(웨스턴) -0.74443734\n",
      "기타 성인물(에로) -0.7785444\n",
      "기타 스릴러 -0.6107368\n",
      "기타 애니메이션 0.37831572\n",
      "기타 액션 -0.492222\n",
      "기타 어드벤처 -0.8096024\n",
      "기타 전쟁 -0.19057219\n",
      "기타 코미디 -0.8254463\n",
      "기타 판타지 -0.598491\n",
      "다큐멘터리 드라마 -0.93430877\n",
      "다큐멘터리 멜로로맨스 -0.8723408\n",
      "다큐멘터리 뮤지컬 -0.52304184\n",
      "다큐멘터리 미스터리 -0.7174761\n",
      "다큐멘터리 범죄 -0.46533537\n",
      "다큐멘터리 사극 -0.83318\n",
      "다큐멘터리 서부극(웨스턴) -0.7933888\n",
      "다큐멘터리 성인물(에로) -0.80690116\n",
      "다큐멘터리 스릴러 -0.67904305\n",
      "다큐멘터리 애니메이션 -0.326322\n",
      "다큐멘터리 액션 -0.60707074\n",
      "다큐멘터리 어드벤처 -0.90890265\n",
      "다큐멘터리 전쟁 -0.39737582\n",
      "다큐멘터리 코미디 -0.87073296\n",
      "다큐멘터리 판타지 -0.7537309\n",
      "드라마 멜로로맨스 -0.7308089\n",
      "드라마 뮤지컬 0.85068\n",
      "드라마 미스터리 -0.33361402\n",
      "드라마 범죄 0.0917523\n",
      "드라마 사극 0.111785926\n",
      "드라마 서부극(웨스턴) -0.24734221\n",
      "드라마 성인물(에로) -0.53360903\n",
      "드라마 스릴러 -0.34776896\n",
      "드라마 애니메이션 0.8535587\n",
      "드라마 액션 -0.048570625\n",
      "드라마 어드벤처 0.07840755\n",
      "드라마 전쟁 0.45987725\n",
      "드라마 코미디 -0.40743223\n",
      "드라마 판타지 0.7571577\n",
      "멜로로맨스 뮤지컬 0.8292073\n",
      "멜로로맨스 미스터리 0.43605432\n",
      "멜로로맨스 범죄 0.7801988\n",
      "멜로로맨스 사극 0.64370054\n",
      "멜로로맨스 서부극(웨스턴) 0.70554197\n",
      "멜로로맨스 성인물(에로) 0.5585189\n",
      "멜로로맨스 스릴러 0.4000853\n",
      "멜로로맨스 애니메이션 0.8131993\n",
      "멜로로맨스 액션 0.6782337\n",
      "멜로로맨스 어드벤처 0.68830997\n",
      "멜로로맨스 전쟁 0.77456975\n",
      "멜로로맨스 코미디 0.78665733\n",
      "멜로로맨스 판타지 0.8558564\n",
      "뮤지컬 미스터리 -0.6022649\n",
      "뮤지컬 범죄 -0.34194922\n",
      "뮤지컬 사극 -0.7927589\n",
      "뮤지컬 서부극(웨스턴) -0.738212\n",
      "뮤지컬 성인물(에로) -0.7567714\n",
      "뮤지컬 스릴러 -0.5942786\n",
      "뮤지컬 애니메이션 0.5275359\n",
      "뮤지컬 액션 -0.4833827\n",
      "뮤지컬 어드벤처 -0.7303101\n",
      "뮤지컬 전쟁 -0.19345057\n",
      "뮤지컬 코미디 -0.7699199\n",
      "뮤지컬 판타지 -0.519057\n",
      "미스터리 범죄 0.73320067\n",
      "미스터리 사극 0.3789754\n",
      "미스터리 서부극(웨스턴) 0.30996633\n",
      "미스터리 성인물(에로) -0.14191318\n",
      "미스터리 스릴러 -0.16643396\n",
      "미스터리 애니메이션 0.6259812\n",
      "미스터리 액션 0.57190394\n",
      "미스터리 어드벤처 0.41663718\n",
      "미스터리 전쟁 0.6391009\n",
      "미스터리 코미디 0.24381551\n",
      "미스터리 판타지 0.6012571\n",
      "범죄 사극 -0.038657278\n",
      "범죄 서부극(웨스턴) -0.32726592\n",
      "범죄 성인물(에로) -0.55725694\n",
      "범죄 스릴러 -0.9322355\n",
      "범죄 애니메이션 0.3898306\n",
      "범죄 액션 -0.45704052\n",
      "범죄 어드벤처 -0.0713774\n",
      "범죄 전쟁 0.37816042\n",
      "범죄 코미디 -0.27670833\n",
      "범죄 판타지 0.18222195\n",
      "사극 서부극(웨스턴) -0.3784939\n",
      "사극 성인물(에로) -0.48066425\n",
      "사극 스릴러 -0.38822094\n",
      "사극 애니메이션 0.77996933\n",
      "사극 액션 -0.14566697\n",
      "사극 어드벤처 -0.08157914\n",
      "사극 전쟁 0.74063265\n",
      "사극 코미디 -0.36561322\n",
      "사극 판타지 0.54887694\n",
      "서부극(웨스턴) 성인물(에로) -0.4197352\n",
      "서부극(웨스턴) 스릴러 -0.35093042\n",
      "서부극(웨스턴) 애니메이션 0.7451737\n",
      "서부극(웨스턴) 액션 0.14530632\n",
      "서부극(웨스턴) 어드벤처 0.3446699\n",
      "서부극(웨스턴) 전쟁 0.7593673\n",
      "서부극(웨스턴) 코미디 -0.08022717\n",
      "서부극(웨스턴) 판타지 0.7409747\n",
      "성인물(에로) 스릴러 0.084897324\n",
      "성인물(에로) 애니메이션 0.7460387\n",
      "성인물(에로) 액션 0.41955814\n",
      "성인물(에로) 어드벤처 0.4868786\n",
      "성인물(에로) 전쟁 0.6451816\n",
      "성인물(에로) 코미디 0.4408088\n",
      "성인물(에로) 판타지 0.7077441\n",
      "스릴러 애니메이션 0.611747\n",
      "스릴러 액션 0.6028039\n",
      "스릴러 어드벤처 0.394441\n",
      "스릴러 전쟁 0.64449716\n",
      "스릴러 코미디 0.27272224\n",
      "스릴러 판타지 0.56737846\n",
      "애니메이션 액션 -0.5191294\n",
      "애니메이션 어드벤처 -0.76727474\n",
      "애니메이션 전쟁 -0.30616167\n",
      "애니메이션 코미디 -0.76839215\n",
      "애니메이션 판타지 -0.6153404\n",
      "액션 어드벤처 0.10101871\n",
      "액션 전쟁 0.60697526\n",
      "액션 코미디 -0.14774933\n",
      "액션 판타지 0.37992293\n",
      "어드벤처 전쟁 0.5185792\n",
      "어드벤처 코미디 -0.46586463\n",
      "어드벤처 판타지 1.0174631\n",
      "전쟁 코미디 -0.6044397\n",
      "전쟁 판타지 -0.17679355\n",
      "코미디 판타지 0.8524677\n"
     ]
    }
   ],
   "source": [
    "for i in range(len(genre_name)-1):\n",
    "    for j in range(i+1, len(genre_name)):\n",
    "        print(genre_name[i], genre_name[j],matrix[i][j])"
   ]
  },
  {
   "cell_type": "code",
   "execution_count": 27,
   "id": "a7d16dfc",
   "metadata": {},
   "outputs": [
    {
     "data": {
      "text/plain": [
       "<AxesSubplot:>"
      ]
     },
     "execution_count": 27,
     "metadata": {},
     "output_type": "execute_result"
    },
    {
     "data": {
      "image/png": "[encoded data removed]",
      "text/plain": [
       "<Figure size 432x288 with 2 Axes>"
      ]
     },
     "metadata": {},
     "output_type": "display_data"
    }
   ],
   "source": [
    "import numpy as np; \n",
    "import seaborn as sns; \n",
    "import matplotlib as plt\n",
    "\n",
    "np.random.seed(0)\n",
    "\n",
    "# 한글 지원 폰트\n",
    "sns.set(font='NanumGothic')\n",
    "\n",
    "# 마이너스 부호 \n",
    "\n",
    "plt.rcParams['axes.unicode_minus'] = False\n",
    "\n",
    "ax = sns.heatmap(matrix, xticklabels=genre_name, yticklabels=genre_name, annot=True,  cmap='RdYlGn_r')\n",
    "ax"
   ]
  },
  {
   "cell_type": "markdown",
   "id": "a411bcae",
   "metadata": {},
   "source": [
    "| 0.8 이상                     | -0.8 이하                    |\n",
    "|-----------------------------|------------------------------|\n",
    "| 공연 - 뮤지컬 (1.0297575)   | 기타 - 드라마 (-0.96334094) |\n",
    "| 어드벤처 - 판타지 (1.0174631)| 다큐멘터리 - 드라마 (-0.93430877) |\n",
    "| 멜로로맨스 - 판타지 (0.8558564)| 범죄 - 스릴러 (-0.9322355) |\n",
    "| 드라마 - 애니메이션 (0.8535587)| 다큐멘터리 - 멜로로맨스 (-0.8723408) |\n",
    "| 가족 - 다큐멘터리 (0.84426916)| 다큐멘터리 - 코미디 (-0.87073296) |\n",
    "| 가족 - 뮤지컬 (0.8057182)   | 기타 - 멜로로맨스 (-0.85459507) |\n",
    "| 가족 - 애니메이션 (0.8238617)| 기타 - 코미디 (-0.8254463) |\n",
    "| 가족 - 기타 (0.8254673)     |                              |\n",
    "| 멜로로맨스 - 뮤지컬 (0.8292073)|                              |\n",
    "| 멜로로맨스 - 애니메이션 (0.8131993)|                          |\n",
    "| 코미디 - 판타지 (0.8524677) |                              |\n"
   ]
  },
  {
   "cell_type": "markdown",
   "id": "3c8fdb36",
   "metadata": {},
   "source": [
    "- 양수인 경우 예술영화에 가깝고, 음수의 경우 일반영화(상업영화)에 가깝다는 것이다."
   ]
  },
  {
   "cell_type": "code",
   "execution_count": null,
   "id": "98189227",
   "metadata": {},
   "outputs": [],
   "source": []
  }
 ],
 "metadata": {
  "kernelspec": {
   "display_name": "Python 3 (ipykernel)",
   "language": "python",
   "name": "python3"
  },
  "language_info": {
   "codemirror_mode": {
    "name": "ipython",
    "version": 3
   },
   "file_extension": ".py",
   "mimetype": "text/x-python",
   "name": "python",
   "nbconvert_exporter": "python",
   "pygments_lexer": "ipython3",
   "version": "3.9.7"
  }
 },
 "nbformat": 4,
 "nbformat_minor": 5
}
