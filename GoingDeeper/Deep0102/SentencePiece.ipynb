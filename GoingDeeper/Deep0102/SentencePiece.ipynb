{
 "cells": [
  {
   "cell_type": "code",
   "execution_count": 1,
   "id": "cd5b4e1e",
   "metadata": {},
   "outputs": [],
   "source": [
    "import os\n",
    "\n",
    "import matplotlib.pyplot as plt\n",
    "import tensorflow as tf\n",
    "import numpy as np\n",
    "import konlpy\n",
    "\n",
    "%matplotlib inline"
   ]
  },
  {
   "cell_type": "markdown",
   "id": "446b6d4b",
   "metadata": {},
   "source": [
    "# 1. 데이터 로드 및 분석"
   ]
  },
  {
   "cell_type": "code",
   "execution_count": 27,
   "id": "590968ef",
   "metadata": {},
   "outputs": [
    {
     "name": "stdout",
     "output_type": "stream",
     "text": [
      "Data Size: 150001\n",
      "Example:\n",
      ">> id\tdocument\tlabel\n",
      ">> 3989148\t약탈자를 위한 변명, 이라. 저놈들은 착한놈들 절대 아닌걸요.\t1\n",
      ">> 4805788\t이 영화가 왜 이렇게 저평가 받는지 모르겠다\t1\n",
      ">> 8317483\t백봉기 언제나오나요?\t1\n",
      ">> 9801316\t아햏햏 아햏햏 아햏햏.\t1\n"
     ]
    },
    {
     "ename": "AttributeError",
     "evalue": "'list' object has no attribute 'head'",
     "output_type": "error",
     "traceback": [
      "\u001b[0;31m---------------------------------------------------------------------------\u001b[0m",
      "\u001b[0;31mAttributeError\u001b[0m                            Traceback (most recent call last)",
      "\u001b[0;32m/tmp/ipykernel_5503/3960665410.py\u001b[0m in \u001b[0;36m<module>\u001b[0;34m\u001b[0m\n\u001b[1;32m      9\u001b[0m \u001b[0;32mfor\u001b[0m \u001b[0msen\u001b[0m \u001b[0;32min\u001b[0m \u001b[0mtrain\u001b[0m\u001b[0;34m[\u001b[0m\u001b[0;36m0\u001b[0m\u001b[0;34m:\u001b[0m\u001b[0;36m100\u001b[0m\u001b[0;34m]\u001b[0m\u001b[0;34m[\u001b[0m\u001b[0;34m:\u001b[0m\u001b[0;34m:\u001b[0m\u001b[0;36m20\u001b[0m\u001b[0;34m]\u001b[0m\u001b[0;34m:\u001b[0m \u001b[0mprint\u001b[0m\u001b[0;34m(\u001b[0m\u001b[0;34m\">>\"\u001b[0m\u001b[0;34m,\u001b[0m \u001b[0msen\u001b[0m\u001b[0;34m)\u001b[0m\u001b[0;34m\u001b[0m\u001b[0;34m\u001b[0m\u001b[0m\n\u001b[1;32m     10\u001b[0m \u001b[0;34m\u001b[0m\u001b[0m\n\u001b[0;32m---> 11\u001b[0;31m \u001b[0mprint\u001b[0m\u001b[0;34m(\u001b[0m\u001b[0mtrain\u001b[0m\u001b[0;34m.\u001b[0m\u001b[0mhead\u001b[0m\u001b[0;34m(\u001b[0m\u001b[0;34m)\u001b[0m\u001b[0;34m)\u001b[0m\u001b[0;34m\u001b[0m\u001b[0;34m\u001b[0m\u001b[0m\n\u001b[0m",
      "\u001b[0;31mAttributeError\u001b[0m: 'list' object has no attribute 'head'"
     ]
    }
   ],
   "source": [
    "path_to_file = os.getenv('HOME')+'/aiffel/AIFFEL_quest_rs/GoingDeeper/Deep0102/data/ratings_train.txt'\n",
    "\n",
    "with open(path_to_file, \"r\") as f:\n",
    "    train = f.read().splitlines()\n",
    "\n",
    "print(\"Data Size:\", len(train))\n",
    "\n",
    "print(\"Example:\")\n",
    "for sen in train[0:100][::20]: print(\">>\", sen)"
   ]
  },
  {
   "cell_type": "code",
   "execution_count": 3,
   "id": "67f237f0",
   "metadata": {},
   "outputs": [
    {
     "name": "stdout",
     "output_type": "stream",
     "text": [
      "문장의 최단 길이: 8\n",
      "문장의 최장 길이: 168\n",
      "문장의 평균 길이: 45\n"
     ]
    },
    {
     "data": {
      "image/png": "[encoded data removed]",
      "text/plain": [
       "<Figure size 432x288 with 1 Axes>"
      ]
     },
     "metadata": {
      "needs_background": "light"
     },
     "output_type": "display_data"
    }
   ],
   "source": [
    "min_len = 999\n",
    "max_len = 0\n",
    "sum_len = 0\n",
    "\n",
    "for sen in train:\n",
    "    length = len(sen)\n",
    "    if min_len > length: min_len = length\n",
    "    if max_len < length: max_len = length\n",
    "    sum_len += length\n",
    "\n",
    "print(\"문장의 최단 길이:\", min_len)\n",
    "print(\"문장의 최장 길이:\", max_len)\n",
    "print(\"문장의 평균 길이:\", sum_len // len(train))\n",
    "\n",
    "sentence_length = np.zeros((max_len), dtype=int)\n",
    "\n",
    "for sen in train:\n",
    "    sentence_length[len(sen)-1] += 1\n",
    "\n",
    "plt.bar(range(max_len), sentence_length, width=1.0)\n",
    "plt.title(\"Sentence Length Distribution\")\n",
    "plt.show()"
   ]
  },
  {
   "cell_type": "code",
   "execution_count": 4,
   "id": "5724634d",
   "metadata": {},
   "outputs": [
    {
     "name": "stdout",
     "output_type": "stream",
     "text": [
      "Data Size: 150001\n",
      "문장의 최단 길이: 8\n",
      "문장의 최장 길이: 168\n",
      "문장의 평균 길이: 45\n"
     ]
    },
    {
     "data": {
      "image/png": "[encoded data removed]",
      "text/plain": [
       "<Figure size 432x288 with 1 Axes>"
      ]
     },
     "metadata": {
      "needs_background": "light"
     },
     "output_type": "display_data"
    }
   ],
   "source": [
    "min_len = 999\n",
    "max_len = 0\n",
    "sum_len = 0\n",
    "\n",
    "cleaned_corpus = list(set(train))  # set를 사용해서 중복을 제거합니다.\n",
    "print(\"Data Size:\", len(cleaned_corpus))\n",
    "\n",
    "for sen in cleaned_corpus:\n",
    "    length = len(sen)\n",
    "    if min_len > length: min_len = length\n",
    "    if max_len < length: max_len = length\n",
    "    sum_len += length\n",
    "\n",
    "print(\"문장의 최단 길이:\", min_len)\n",
    "print(\"문장의 최장 길이:\", max_len)\n",
    "print(\"문장의 평균 길이:\", sum_len // len(cleaned_corpus))\n",
    "\n",
    "sentence_length = np.zeros((max_len), dtype=int)\n",
    "\n",
    "for sen in cleaned_corpus:   # 중복이 제거된 코퍼스 기준\n",
    "    sentence_length[len(sen)-1] += 1\n",
    "\n",
    "plt.bar(range(max_len), sentence_length, width=1.0)\n",
    "plt.title(\"Sentence Length Distribution\")\n",
    "plt.show()"
   ]
  },
  {
   "cell_type": "code",
   "execution_count": 5,
   "id": "d3d2fc27",
   "metadata": {},
   "outputs": [
    {
     "data": {
      "image/png": "[encoded data removed]",
      "text/plain": [
       "<Figure size 432x288 with 1 Axes>"
      ]
     },
     "metadata": {
      "needs_background": "light"
     },
     "output_type": "display_data"
    }
   ],
   "source": [
    "max_len = 80\n",
    "min_len = 0\n",
    "\n",
    "# 길이 조건에 맞는 문장만 선택합니다.\n",
    "filtered_corpus = [s for s in cleaned_corpus if (len(s) < max_len) & (len(s) >= min_len)]\n",
    "\n",
    "# 분포도를 다시 그려봅니다.\n",
    "sentence_length = np.zeros((max_len), dtype=int)\n",
    "\n",
    "for sen in filtered_corpus:\n",
    "    sentence_length[len(sen)-1] += 1\n",
    "\n",
    "plt.bar(range(max_len), sentence_length, width=1.0)\n",
    "plt.title(\"Sentence Length Distribution\")\n",
    "plt.show()"
   ]
  },
  {
   "cell_type": "markdown",
   "id": "efa1aa8d",
   "metadata": {},
   "source": [
    "# 2. SentencePiece 모델 학습"
   ]
  },
  {
   "cell_type": "code",
   "execution_count": 6,
   "id": "fafd5350",
   "metadata": {},
   "outputs": [],
   "source": [
    "def tokenize(corpus):  # corpus: Tokenized Sentence's List\n",
    "    tokenizer = tf.keras.preprocessing.text.Tokenizer(filters='')\n",
    "    tokenizer.fit_on_texts(corpus)\n",
    "\n",
    "    tensor = tokenizer.texts_to_sequences(corpus)\n",
    "\n",
    "    tensor = tf.keras.preprocessing.sequence.pad_sequences(tensor, padding='post')\n",
    "\n",
    "    return tensor, tokenizer"
   ]
  },
  {
   "cell_type": "code",
   "execution_count": 7,
   "id": "2d9a0e91",
   "metadata": {},
   "outputs": [
    {
     "name": "stderr",
     "output_type": "stream",
     "text": [
      "sentencepiece_trainer.cc(177) LOG(INFO) Running command: --input=/aiffel/aiffel/sp_tokenizer/data/korean-english-park.train.ko.temp --model_prefix=korean_spm --vocab_size=8000\n",
      "sentencepiece_trainer.cc(77) LOG(INFO) Starts training with : \n",
      "trainer_spec {\n",
      "  input: /aiffel/aiffel/sp_tokenizer/data/korean-english-park.train.ko.temp\n",
      "  input_format: \n",
      "  model_prefix: korean_spm\n",
      "  model_type: UNIGRAM\n",
      "  vocab_size: 8000\n",
      "  self_test_sample_size: 0\n",
      "  character_coverage: 0.9995\n",
      "  input_sentence_size: 0\n",
      "  shuffle_input_sentence: 1\n",
      "  seed_sentencepiece_size: 1000000\n",
      "  shrinking_factor: 0.75\n",
      "  max_sentence_length: 4192\n",
      "  num_threads: 16\n",
      "  num_sub_iterations: 2\n",
      "  max_sentencepiece_length: 16\n",
      "  split_by_unicode_script: 1\n",
      "  split_by_number: 1\n",
      "  split_by_whitespace: 1\n",
      "  split_digits: 0\n",
      "  treat_whitespace_as_suffix: 0\n",
      "  allow_whitespace_only_pieces: 0\n",
      "  required_chars: \n",
      "  byte_fallback: 0\n",
      "  vocabulary_output_piece_score: 1\n",
      "  train_extremely_large_corpus: 0\n",
      "  hard_vocab_limit: 1\n",
      "  use_all_vocab: 0\n",
      "  unk_id: 0\n",
      "  bos_id: 1\n",
      "  eos_id: 2\n",
      "  pad_id: -1\n",
      "  unk_piece: <unk>\n",
      "  bos_piece: <s>\n",
      "  eos_piece: </s>\n",
      "  pad_piece: <pad>\n",
      "  unk_surface:  ⁇ \n",
      "}\n",
      "normalizer_spec {\n",
      "  name: nmt_nfkc\n",
      "  add_dummy_prefix: 1\n",
      "  remove_extra_whitespaces: 1\n",
      "  escape_whitespaces: 1\n",
      "  normalization_rule_tsv: \n",
      "}\n",
      "denormalizer_spec {}\n",
      "trainer_interface.cc(329) LOG(INFO) SentenceIterator is not specified. Using MultiFileSentenceIterator.\n",
      "trainer_interface.cc(178) LOG(INFO) Loading corpus: /aiffel/aiffel/sp_tokenizer/data/korean-english-park.train.ko.temp\n",
      "trainer_interface.cc(385) LOG(INFO) Loaded all 133086 sentences\n",
      "trainer_interface.cc(400) LOG(INFO) Adding meta_piece: <unk>\n",
      "trainer_interface.cc(400) LOG(INFO) Adding meta_piece: <s>\n",
      "trainer_interface.cc(400) LOG(INFO) Adding meta_piece: </s>\n",
      "trainer_interface.cc(405) LOG(INFO) Normalizing sentences...\n",
      "trainer_interface.cc(466) LOG(INFO) all chars count=4974790\n",
      "trainer_interface.cc(477) LOG(INFO) Done: 99.9501% characters are covered.\n",
      "trainer_interface.cc(487) LOG(INFO) Alphabet size=1628\n",
      "trainer_interface.cc(488) LOG(INFO) Final character coverage=0.999501\n",
      "trainer_interface.cc(520) LOG(INFO) Done! preprocessed 133086 sentences.\n",
      "unigram_model_trainer.cc(139) LOG(INFO) Making suffix array...\n",
      "unigram_model_trainer.cc(143) LOG(INFO) Extracting frequent sub strings...\n",
      "unigram_model_trainer.cc(194) LOG(INFO) Initialized 392311 seed sentencepieces\n",
      "trainer_interface.cc(526) LOG(INFO) Tokenizing input sentences with whitespace: 133086\n",
      "trainer_interface.cc(537) LOG(INFO) Done! 386558\n",
      "unigram_model_trainer.cc(489) LOG(INFO) Using 386558 sentences for EM training\n",
      "unigram_model_trainer.cc(505) LOG(INFO) EM sub_iter=0 size=186993 obj=15.2798 num_tokens=861279 num_tokens/piece=4.60594\n",
      "unigram_model_trainer.cc(505) LOG(INFO) EM sub_iter=1 size=168981 obj=14.1804 num_tokens=867358 num_tokens/piece=5.13287\n",
      "unigram_model_trainer.cc(505) LOG(INFO) EM sub_iter=0 size=126631 obj=14.2254 num_tokens=888125 num_tokens/piece=7.01349\n",
      "unigram_model_trainer.cc(505) LOG(INFO) EM sub_iter=1 size=125983 obj=14.1381 num_tokens=888781 num_tokens/piece=7.05477\n",
      "unigram_model_trainer.cc(505) LOG(INFO) EM sub_iter=0 size=94480 obj=14.2944 num_tokens=918517 num_tokens/piece=9.72181\n",
      "unigram_model_trainer.cc(505) LOG(INFO) EM sub_iter=1 size=94383 obj=14.2158 num_tokens=919074 num_tokens/piece=9.73771\n",
      "unigram_model_trainer.cc(505) LOG(INFO) EM sub_iter=0 size=70787 obj=14.3664 num_tokens=946382 num_tokens/piece=13.3694\n",
      "unigram_model_trainer.cc(505) LOG(INFO) EM sub_iter=1 size=70747 obj=14.3054 num_tokens=946793 num_tokens/piece=13.3828\n",
      "unigram_model_trainer.cc(505) LOG(INFO) EM sub_iter=0 size=53060 obj=14.5111 num_tokens=980127 num_tokens/piece=18.4721\n",
      "unigram_model_trainer.cc(505) LOG(INFO) EM sub_iter=1 size=53059 obj=14.4562 num_tokens=980270 num_tokens/piece=18.4751\n",
      "unigram_model_trainer.cc(505) LOG(INFO) EM sub_iter=0 size=39794 obj=14.7352 num_tokens=1022583 num_tokens/piece=25.6969\n",
      "unigram_model_trainer.cc(505) LOG(INFO) EM sub_iter=1 size=39794 obj=14.6724 num_tokens=1022914 num_tokens/piece=25.7052\n",
      "unigram_model_trainer.cc(505) LOG(INFO) EM sub_iter=0 size=29845 obj=14.9958 num_tokens=1070814 num_tokens/piece=35.8792\n",
      "unigram_model_trainer.cc(505) LOG(INFO) EM sub_iter=1 size=29845 obj=14.9258 num_tokens=1071810 num_tokens/piece=35.9125\n",
      "unigram_model_trainer.cc(505) LOG(INFO) EM sub_iter=0 size=22383 obj=15.2793 num_tokens=1126615 num_tokens/piece=50.3335\n",
      "unigram_model_trainer.cc(505) LOG(INFO) EM sub_iter=1 size=22383 obj=15.198 num_tokens=1127263 num_tokens/piece=50.3625\n",
      "unigram_model_trainer.cc(505) LOG(INFO) EM sub_iter=0 size=16787 obj=15.5728 num_tokens=1184379 num_tokens/piece=70.5533\n",
      "unigram_model_trainer.cc(505) LOG(INFO) EM sub_iter=1 size=16787 obj=15.4832 num_tokens=1184428 num_tokens/piece=70.5563\n",
      "unigram_model_trainer.cc(505) LOG(INFO) EM sub_iter=0 size=12590 obj=15.8847 num_tokens=1243585 num_tokens/piece=98.7756\n",
      "unigram_model_trainer.cc(505) LOG(INFO) EM sub_iter=1 size=12590 obj=15.7794 num_tokens=1243636 num_tokens/piece=98.7797\n",
      "unigram_model_trainer.cc(505) LOG(INFO) EM sub_iter=0 size=9442 obj=16.2134 num_tokens=1302104 num_tokens/piece=137.906\n",
      "unigram_model_trainer.cc(505) LOG(INFO) EM sub_iter=1 size=9442 obj=16.1127 num_tokens=1302248 num_tokens/piece=137.921\n",
      "unigram_model_trainer.cc(505) LOG(INFO) EM sub_iter=0 size=8800 obj=16.222 num_tokens=1316093 num_tokens/piece=149.556\n",
      "unigram_model_trainer.cc(505) LOG(INFO) EM sub_iter=1 size=8800 obj=16.1969 num_tokens=1316091 num_tokens/piece=149.556\n",
      "trainer_interface.cc(615) LOG(INFO) Saving model: korean_spm.model\n",
      "trainer_interface.cc(626) LOG(INFO) Saving vocabs: korean_spm.vocab\n"
     ]
    },
    {
     "name": "stdout",
     "output_type": "stream",
     "text": [
      "-rw-r--r-- 1 root root 368587 May  9 03:26 korean_spm.model\r\n",
      "-rw-r--r-- 1 root root 137978 May  9 03:26 korean_spm.vocab\r\n"
     ]
    }
   ],
   "source": [
    "import sentencepiece as spm\n",
    "import os\n",
    "temp_file = os.getenv('HOME')+'/aiffel/sp_tokenizer/data/korean-english-park.train.ko.temp'\n",
    "\n",
    "vocab_size = 8000\n",
    "\n",
    "with open(temp_file, 'w') as f:\n",
    "    for row in filtered_corpus:   # 이전에 나왔던 정제했던 corpus를 활용해서 진행해야 합니다.\n",
    "        f.write(str(row) + '\\n')\n",
    "\n",
    "spm.SentencePieceTrainer.Train(\n",
    "    '--input={} --model_prefix=korean_spm --vocab_size={}'.format(temp_file, vocab_size)    \n",
    ")\n",
    "#위 Train에서  --model_type = unigram이 디폴트 적용되어 있습니다. --model_type = bpe로 옵션을 주어 변경할 수 있습니다.\n",
    "\n",
    "!ls -l korean_spm*"
   ]
  },
  {
   "cell_type": "code",
   "execution_count": 8,
   "id": "2cadee0e",
   "metadata": {},
   "outputs": [
    {
     "name": "stdout",
     "output_type": "stream",
     "text": [
      "[2762, 14, 382, 25, 2554, 14, 155, 26, 6]\n",
      "['▁아버지', '가', '방', '에', '들어', '가', '신', '다', '.']\n",
      "아버지가방에들어가신다.\n"
     ]
    }
   ],
   "source": [
    "s = spm.SentencePieceProcessor()\n",
    "s.Load('korean_spm.model')\n",
    "\n",
    "# SentencePiece를 활용한 sentence -> encoding\n",
    "tokensIDs = s.EncodeAsIds('아버지가방에들어가신다.')\n",
    "print(tokensIDs)\n",
    "\n",
    "# SentencePiece를 활용한 sentence -> encoded pieces\n",
    "print(s.SampleEncodeAsPieces('아버지가방에들어가신다.',1, 0.0))\n",
    "\n",
    "# SentencePiece를 활용한 encoding -> sentence 복원\n",
    "print(s.DecodeIds(tokensIDs))"
   ]
  },
  {
   "cell_type": "markdown",
   "id": "a9c8518c",
   "metadata": {},
   "source": [
    "# 3. 토크나이저"
   ]
  },
  {
   "cell_type": "code",
   "execution_count": 9,
   "id": "30cd68f7",
   "metadata": {},
   "outputs": [],
   "source": [
    "def sp_tokenize(s, corpus): \n",
    "\n",
    "    tensor = []\n",
    "\n",
    "    for sen in corpus:\n",
    "        tensor.append(s.EncodeAsIds(sen))\n",
    "\n",
    "    with open(\"./korean_spm.vocab\", 'r') as f:\n",
    "        vocab = f.readlines()\n",
    "\n",
    "    word_index = {}\n",
    "    index_word = {}\n",
    "\n",
    "    for idx, line in enumerate(vocab):\n",
    "        word = line.split(\"\\t\")[0]\n",
    "\n",
    "        word_index.update({word:idx})\n",
    "        index_word.update({idx:word})\n",
    "\n",
    "    tensor = tf.keras.preprocessing.sequence.pad_sequences(tensor, padding='post')\n",
    "\n",
    "    return tensor, word_index, index_word"
   ]
  },
  {
   "cell_type": "code",
   "execution_count": 10,
   "id": "aa6dca7e",
   "metadata": {},
   "outputs": [],
   "source": [
    "tensor, word_index, index_word = sp_tokenize(s, filtered_corpus)"
   ]
  },
  {
   "cell_type": "code",
   "execution_count": 11,
   "id": "0706891e",
   "metadata": {},
   "outputs": [
    {
     "name": "stdout",
     "output_type": "stream",
     "text": [
      "예시 문장: 9442624\t쓰레기.. 다들연기못함..\t0\n",
      "토크나이즈된 시퀀스: [   7 1675 1753  101    8 2319  381  469   87    8    5    0    0    0\n",
      "    0    0    0    0    0    0    0    0    0    0    0    0    0    0\n",
      "    0    0    0    0    0    0    0    0    0    0    0    0    0    0\n",
      "    0    0    0    0    0    0    0    0    0    0    0    0    0    0\n",
      "    0    0    0    0    0    0    0    0]\n",
      "디코딩된 문장: 9442624 쓰레기.. 다들연기못함.. 0\n"
     ]
    }
   ],
   "source": [
    "print(\"예시 문장:\", filtered_corpus[0])\n",
    "print(\"토크나이즈된 시퀀스:\", tensor[0])\n",
    "print(\"디코딩된 문장:\", s.DecodeIds([int(i) for i in tensor[0] if i != 0]))"
   ]
  },
  {
   "cell_type": "markdown",
   "id": "bd14e2f5",
   "metadata": {},
   "source": [
    "# 4. 구현된 토크나이저를 적용해서 네이버 영화리뷰 감정 분석 모델 재학습"
   ]
  },
  {
   "cell_type": "code",
   "execution_count": 12,
   "id": "52713fab",
   "metadata": {},
   "outputs": [],
   "source": [
    "train_path = os.getenv('HOME') + '/aiffel/AIFFEL_quest_rs/GoingDeeper/Deep0102/data/ratings_train.txt'\n",
    "test_path = os.getenv('HOME') + '/aiffel/AIFFEL_quest_rs/GoingDeeper/Deep0102/data/ratings_test.txt'"
   ]
  },
  {
   "cell_type": "code",
   "execution_count": 13,
   "id": "3ccc7b6f",
   "metadata": {},
   "outputs": [],
   "source": [
    "import pandas as pd\n",
    "\n",
    "# Load datasets\n",
    "train_df = pd.read_csv(train_path, sep='\\t').dropna()\n",
    "test_df = pd.read_csv(test_path, sep='\\t').dropna()\n",
    "\n",
    "# Extract texts and labels\n",
    "train_sentences = train_df['document'].astype(str).tolist()\n",
    "train_labels = train_df['label'].astype(int).tolist()\n",
    "\n",
    "test_sentences = test_df['document'].astype(str).tolist()\n",
    "test_labels = test_df['label'].astype(int).tolist()\n",
    "\n",
    "# Optional: 문장 길이 제한\n",
    "max_len = 110\n",
    "train_data = [(s, l) for s, l in zip(train_sentences, train_labels) if len(s) < max_len]\n",
    "test_data = [(s, l) for s, l in zip(test_sentences, test_labels) if len(s) < max_len]\n",
    "\n",
    "train_sentences, train_labels = zip(*train_data)\n",
    "test_sentences, test_labels = zip(*test_data)\n"
   ]
  },
  {
   "cell_type": "code",
   "execution_count": 14,
   "id": "f8daa1af",
   "metadata": {},
   "outputs": [],
   "source": [
    "# 이미 학습된 모델 사용\n",
    "import sentencepiece as spm\n",
    "\n",
    "sp = spm.SentencePieceProcessor()\n",
    "sp.Load(\"korean_spm.model\")  # 사전 학습된 모델 경로\n",
    "\n",
    "# 토크나이징 함수\n",
    "def tokenize_with_sp(sp, corpus):\n",
    "    tensor = [sp.EncodeAsIds(sen) for sen in corpus]\n",
    "    tensor = tf.keras.preprocessing.sequence.pad_sequences(tensor, padding='post')\n",
    "    return tensor\n",
    "\n",
    "X_train = tokenize_with_sp(sp, train_sentences)\n",
    "X_test = tokenize_with_sp(sp, test_sentences)\n",
    "y_train = np.array(train_labels)\n",
    "y_test = np.array(test_labels)\n",
    "\n",
    "vocab_size = len(sp)  # SentencePiece vocab size\n"
   ]
  },
  {
   "cell_type": "code",
   "execution_count": 15,
   "id": "a254999c",
   "metadata": {},
   "outputs": [
    {
     "name": "stdout",
     "output_type": "stream",
     "text": [
      "Model: \"sequential\"\n",
      "_________________________________________________________________\n",
      "Layer (type)                 Output Shape              Param #   \n",
      "=================================================================\n",
      "embedding (Embedding)        (None, None, 128)         1024000   \n",
      "_________________________________________________________________\n",
      "lstm (LSTM)                  (None, 64)                49408     \n",
      "_________________________________________________________________\n",
      "dense (Dense)                (None, 1)                 65        \n",
      "=================================================================\n",
      "Total params: 1,073,473\n",
      "Trainable params: 1,073,473\n",
      "Non-trainable params: 0\n",
      "_________________________________________________________________\n"
     ]
    }
   ],
   "source": [
    "from tensorflow.keras.models import Sequential\n",
    "from tensorflow.keras.layers import Embedding, LSTM, Dense\n",
    "\n",
    "model = Sequential([\n",
    "    Embedding(vocab_size, 128),\n",
    "    LSTM(64),\n",
    "    Dense(1, activation='sigmoid')\n",
    "])\n",
    "\n",
    "model.compile(loss='binary_crossentropy',\n",
    "              optimizer='adam',\n",
    "              metrics=['accuracy'])\n",
    "\n",
    "model.summary()\n"
   ]
  },
  {
   "cell_type": "code",
   "execution_count": 16,
   "id": "c1d0442a",
   "metadata": {},
   "outputs": [],
   "source": [
    "from tensorflow.keras.callbacks import EarlyStopping, ModelCheckpoint\n",
    "\n",
    "# 모델 저장 경로\n",
    "checkpoint_path = './best_sentiment_model.h5'\n",
    "\n",
    "early_stop = EarlyStopping(\n",
    "    monitor='val_loss',     # 검증 손실 기준\n",
    "    patience=5,             # 3 epoch 이상 향상 없으면 중단\n",
    "    restore_best_weights=True\n",
    ")\n",
    "\n",
    "checkpoint = ModelCheckpoint(\n",
    "    filepath=checkpoint_path,\n",
    "    monitor='val_loss',\n",
    "    save_best_only=True,\n",
    "    verbose=1\n",
    ")\n",
    "\n",
    "callbacks = [early_stop, checkpoint]"
   ]
  },
  {
   "cell_type": "code",
   "execution_count": 22,
   "id": "a3d790ed",
   "metadata": {},
   "outputs": [
    {
     "name": "stdout",
     "output_type": "stream",
     "text": [
      "Epoch 1/20\n",
      "1786/1786 [==============================] - 11s 6ms/step - loss: 0.6932 - accuracy: 0.5020 - val_loss: 0.6932 - val_accuracy: 0.5003\n",
      "Epoch 2/20\n",
      "1786/1786 [==============================] - 11s 6ms/step - loss: 0.6932 - accuracy: 0.5018 - val_loss: 0.6931 - val_accuracy: 0.5003\n",
      "Epoch 3/20\n",
      "1786/1786 [==============================] - 11s 6ms/step - loss: 0.6932 - accuracy: 0.4998 - val_loss: 0.6931 - val_accuracy: 0.5003\n",
      "Epoch 4/20\n",
      "1786/1786 [==============================] - 11s 6ms/step - loss: 0.6932 - accuracy: 0.4991 - val_loss: 0.6932 - val_accuracy: 0.5003\n",
      "Epoch 5/20\n",
      "1786/1786 [==============================] - 11s 6ms/step - loss: 0.6932 - accuracy: 0.5017 - val_loss: 0.6932 - val_accuracy: 0.5003\n",
      "Epoch 6/20\n",
      "1786/1786 [==============================] - 11s 6ms/step - loss: 0.6932 - accuracy: 0.5005 - val_loss: 0.6932 - val_accuracy: 0.5003\n",
      "Epoch 7/20\n",
      "1786/1786 [==============================] - 11s 6ms/step - loss: 0.6932 - accuracy: 0.5006 - val_loss: 0.6932 - val_accuracy: 0.5003\n",
      "Epoch 8/20\n",
      "1786/1786 [==============================] - 11s 6ms/step - loss: 0.6932 - accuracy: 0.4994 - val_loss: 0.6932 - val_accuracy: 0.5003\n",
      "Epoch 9/20\n",
      "1786/1786 [==============================] - 11s 6ms/step - loss: 0.6932 - accuracy: 0.5003 - val_loss: 0.6932 - val_accuracy: 0.5003\n",
      "Epoch 10/20\n",
      "1786/1786 [==============================] - 11s 6ms/step - loss: 0.6932 - accuracy: 0.5001 - val_loss: 0.6931 - val_accuracy: 0.5003\n",
      "Epoch 11/20\n",
      "1786/1786 [==============================] - 11s 6ms/step - loss: 0.6932 - accuracy: 0.5010 - val_loss: 0.6932 - val_accuracy: 0.4997\n",
      "Epoch 12/20\n",
      "1786/1786 [==============================] - 11s 6ms/step - loss: 0.6932 - accuracy: 0.5012 - val_loss: 0.6932 - val_accuracy: 0.5003\n",
      "Epoch 13/20\n",
      "1786/1786 [==============================] - 11s 6ms/step - loss: 0.6932 - accuracy: 0.5001 - val_loss: 0.6932 - val_accuracy: 0.5003\n",
      "Epoch 14/20\n",
      "1786/1786 [==============================] - 11s 6ms/step - loss: 0.6931 - accuracy: 0.5025 - val_loss: 0.6932 - val_accuracy: 0.5003\n",
      "Epoch 15/20\n",
      "1786/1786 [==============================] - 11s 6ms/step - loss: 0.6932 - accuracy: 0.5017 - val_loss: 0.6932 - val_accuracy: 0.5003\n",
      "Epoch 16/20\n",
      "1786/1786 [==============================] - 11s 6ms/step - loss: 0.6932 - accuracy: 0.5000 - val_loss: 0.6931 - val_accuracy: 0.5003\n",
      "Epoch 17/20\n",
      "1786/1786 [==============================] - 11s 6ms/step - loss: 0.6931 - accuracy: 0.5013 - val_loss: 0.6932 - val_accuracy: 0.5003\n",
      "Epoch 18/20\n",
      "1786/1786 [==============================] - 11s 6ms/step - loss: 0.6932 - accuracy: 0.5005 - val_loss: 0.6931 - val_accuracy: 0.4997\n",
      "Epoch 19/20\n",
      "1786/1786 [==============================] - 11s 6ms/step - loss: 0.6932 - accuracy: 0.5015 - val_loss: 0.6932 - val_accuracy: 0.4997\n",
      "Epoch 20/20\n",
      "1786/1786 [==============================] - 11s 6ms/step - loss: 0.6932 - accuracy: 0.5013 - val_loss: 0.6932 - val_accuracy: 0.5003\n"
     ]
    }
   ],
   "source": [
    "history = model.fit(\n",
    "    X_train, y_train,\n",
    "    validation_split=0.2,\n",
    "    epochs=20,\n",
    "    batch_size=64,\n",
    "#    callbacks=callbacks\n",
    ")\n"
   ]
  },
  {
   "cell_type": "code",
   "execution_count": 23,
   "id": "2c487d35",
   "metadata": {},
   "outputs": [
    {
     "name": "stdout",
     "output_type": "stream",
     "text": [
      "1487/1487 [==============================] - 4s 3ms/step - loss: 0.6931 - accuracy: 0.5067\n",
      "Best Model Test Accuracy: 50.67%\n"
     ]
    }
   ],
   "source": [
    "# 학습 후 가장 좋은 모델 불러오기\n",
    "from tensorflow.keras.models import load_model\n",
    "\n",
    "best_model = load_model(checkpoint_path)\n",
    "\n",
    "loss, acc = best_model.evaluate(X_test, y_test)\n",
    "print(\"Best Model Test Accuracy: {:.2f}%\".format(acc * 100))\n"
   ]
  },
  {
   "cell_type": "markdown",
   "id": "6efd65c9",
   "metadata": {},
   "source": [
    "# 5. KoNLPy 형태소 분석기를 사용한 모델과 성능 비교하기"
   ]
  },
  {
   "cell_type": "markdown",
   "id": "4fcb82ee",
   "metadata": {},
   "source": [
    "- Mecab"
   ]
  },
  {
   "cell_type": "code",
   "execution_count": 19,
   "id": "8d002b96",
   "metadata": {},
   "outputs": [],
   "source": [
    "from konlpy.tag import Mecab\n",
    "mecab = Mecab()\n",
    "\n",
    "def mecab_tokenize(corpus):\n",
    "    tokenized_corpus = []\n",
    "\n",
    "    for sentence in corpus:\n",
    "        tokens = mecab.morphs(sentence)  # 문장을 형태소 단위로 토큰화\n",
    "        tokenized_corpus.append(tokens)\n",
    "\n",
    "    tokenizer = tf.keras.preprocessing.text.Tokenizer(filters='', oov_token=\"<OOV>\")\n",
    "    tokenizer.fit_on_texts(tokenized_corpus)\n",
    "\n",
    "    tensor = tokenizer.texts_to_sequences(tokenized_corpus)\n",
    "    tensor = tf.keras.preprocessing.sequence.pad_sequences(tensor, padding='post')\n",
    "\n",
    "    return tensor, tokenizer\n",
    "\n",
    "tensor, tokenizer = mecab_tokenize(filtered_corpus)\n"
   ]
  },
  {
   "cell_type": "code",
   "execution_count": 20,
   "id": "367bb271",
   "metadata": {},
   "outputs": [
    {
     "name": "stdout",
     "output_type": "stream",
     "text": [
      "MeCab Vocab Size: 177230\n"
     ]
    }
   ],
   "source": [
    "import pandas as pd\n",
    "from sklearn.model_selection import train_test_split\n",
    "\n",
    "# ratings_train.txt 로딩\n",
    "train_data = pd.read_table(path_to_file)  # path_to_file: ratings_train.txt\n",
    "\n",
    "# Null 제거\n",
    "train_data = train_data.dropna()\n",
    "\n",
    "# 텍스트와 레이블 추출\n",
    "texts = train_data['document'].astype(str).tolist()\n",
    "labels = train_data['label'].tolist()\n",
    "\n",
    "# Mecab 기반 토큰화\n",
    "tensor, tokenizer = mecab_tokenize(texts)\n",
    "\n",
    "# 훈련/검증 분리\n",
    "x_train, x_val, y_train, y_val = train_test_split(tensor, labels, test_size=0.2, random_state=42, shuffle=True)\n"
   ]
  },
  {
   "cell_type": "code",
   "execution_count": null,
   "id": "3ffd0d54",
   "metadata": {},
   "outputs": [],
   "source": [
    "vocab_size = len(tokenizer.word_index) + 1\n",
    "\n",
    "model = tf.keras.Sequential([\n",
    "    tf.keras.layers.Embedding(vocab_size, 128),\n",
    "    tf.keras.layers.LSTM(128),\n",
    "    tf.keras.layers.Dense(64, activation='relu'),\n",
    "    tf.keras.layers.Dense(1, activation='sigmoid')\n",
    "])\n",
    "\n",
    "model.compile(loss='binary_crossentropy',\n",
    "              optimizer='adam',\n",
    "              metrics=['accuracy'])\n",
    "\n",
    "# EarlyStopping & ModelCheckpoint\n",
    "from tensorflow.keras.callbacks import EarlyStopping, ModelCheckpoint\n",
    "\n",
    "es = EarlyStopping(monitor='val_loss', patience=3, restore_best_weights=True)\n",
    "mc = ModelCheckpoint('best_model_mecab.h5', monitor='val_accuracy', save_best_only=True)\n",
    "\n",
    "history = model.fit(x_train, y_train,\n",
    "                    validation_data=(x_val, y_val),\n",
    "                    epochs=20,\n",
    "                    batch_size=64,\n",
    "                    callbacks=[es, mc])\n"
   ]
  },
  {
   "cell_type": "markdown",
   "id": "3606558d",
   "metadata": {},
   "source": [
    "- kkma"
   ]
  },
  {
   "cell_type": "code",
   "execution_count": 26,
   "id": "134f7eb7",
   "metadata": {},
   "outputs": [
    {
     "name": "stdout",
     "output_type": "stream",
     "text": [
      "[[   7 1675 1753  101    8 2319  381  469   87    8    5    0    0    0\n",
      "     0    0    0    0    0    0    0    0    0    0    0    0    0    0\n",
      "     0    0    0    0    0    0    0    0    0    0    0    0    0    0\n",
      "     0    0    0    0    0    0    0    0    0    0    0    0    0    0\n",
      "     0    0    0    0    0    0    0    0]\n",
      " [   7 1810 1267   35 6511    6 4407  684 5151    6    3    0    0    0\n",
      "     0    0    0    0    0    0    0    0    0    0    0    0    0    0\n",
      "     0    0    0    0    0    0    0    0    0    0    0    0    0    0\n",
      "     0    0    0    0    0    0    0    0    0    0    0    0    0    0\n",
      "     0    0    0    0    0    0    0    0]\n",
      " [  28 1507 2202 2928 2576  115  102   22 3638  354   30  148  462 2155\n",
      "     8  221  155  110 7664    8    3    0    0    0    0    0    0    0\n",
      "     0    0    0    0    0    0    0    0    0    0    0    0    0    0\n",
      "     0    0    0    0    0    0    0    0    0    0    0    0    0    0\n",
      "     0    0    0    0    0    0    0    0]]\n"
     ]
    }
   ],
   "source": []
  },
  {
   "cell_type": "markdown",
   "id": "d3ea760d",
   "metadata": {},
   "source": [
    "- Okt"
   ]
  },
  {
   "cell_type": "code",
   "execution_count": null,
   "id": "903ffdad",
   "metadata": {},
   "outputs": [],
   "source": []
  },
  {
   "cell_type": "markdown",
   "id": "aec6705e",
   "metadata": {},
   "source": []
  },
  {
   "cell_type": "markdown",
   "id": "3381b0a7",
   "metadata": {},
   "source": []
  },
  {
   "cell_type": "code",
   "execution_count": null,
   "id": "5a74d7ad",
   "metadata": {},
   "outputs": [],
   "source": []
  }
 ],
 "metadata": {
  "kernelspec": {
   "display_name": "Python 3 (ipykernel)",
   "language": "python",
   "name": "python3"
  },
  "language_info": {
   "codemirror_mode": {
    "name": "ipython",
    "version": 3
   },
   "file_extension": ".py",
   "mimetype": "text/x-python",
   "name": "python",
   "nbconvert_exporter": "python",
   "pygments_lexer": "ipython3",
   "version": "3.9.7"
  }
 },
 "nbformat": 4,
 "nbformat_minor": 5
}
