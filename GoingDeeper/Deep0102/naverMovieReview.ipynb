{
 "cells": [
  {
   "cell_type": "code",
   "execution_count": 4,
   "id": "9d930bd9",
   "metadata": {},
   "outputs": [],
   "source": [
    "import os\n",
    "import matplotlib.pyplot as plt\n",
    "import tensorflow as tf\n",
    "import numpy as np\n",
    "import konlpy\n",
    "import pandas as pd\n",
    "\n",
    "%matplotlib inline"
   ]
  },
  {
   "cell_type": "markdown",
   "id": "9ba68ed5",
   "metadata": {},
   "source": [
    "# 1. 데이터 로드, 전처리, 분석"
   ]
  },
  {
   "cell_type": "code",
   "execution_count": 2,
   "id": "1d1bbf14",
   "metadata": {},
   "outputs": [],
   "source": [
    "train_path = os.getenv('HOME') + '/aiffel/AIFFEL_quest_rs/GoingDeeper/Deep0102/data/ratings_train.txt'\n",
    "test_path = os.getenv('HOME') + '/aiffel/AIFFEL_quest_rs/GoingDeeper/Deep0102/data/ratings_test.txt'"
   ]
  },
  {
   "cell_type": "code",
   "execution_count": 25,
   "id": "6fedc897",
   "metadata": {},
   "outputs": [],
   "source": [
    "train_data = pd.read_table(train_path)\n",
    "test_data = pd.read_table(test_path)\n",
    "\n",
    "train = train_data['document']\n",
    "test = test_data['document']\n",
    "\n",
    "# 결측치 제거\n",
    "train = train.dropna(axis=0)\n",
    "test = test.dropna(axis=0)\n",
    "\n",
    "# 앞뒤 공백 제거\n",
    "train = train.apply(lambda x: x.strip())\n",
    "test = test.apply(lambda x: x.strip())\n",
    "\n",
    "# 중복 제거\n",
    "train = list(set(train))\n",
    "test = list(set(test))"
   ]
  },
  {
   "cell_type": "code",
   "execution_count": 28,
   "id": "7313fd88",
   "metadata": {},
   "outputs": [
    {
     "name": "stdout",
     "output_type": "stream",
     "text": [
      "문장의 최단 길이: 1\n",
      "문장의 최장 길이: 146\n",
      "문장의 평균 길이: 35\n"
     ]
    },
    {
     "data": {
      "image/png": "[encoded data removed]",
      "text/plain": [
       "<Figure size 432x288 with 1 Axes>"
      ]
     },
     "metadata": {
      "needs_background": "light"
     },
     "output_type": "display_data"
    }
   ],
   "source": [
    "# 문장 길이 확인\n",
    "min_len = 999\n",
    "max_len = 0\n",
    "sum_len = 0\n",
    "\n",
    "for sen in train:\n",
    "    length = len(sen)\n",
    "    if min_len > length: min_len = length\n",
    "    if max_len < length: max_len = length\n",
    "    sum_len += length\n",
    "\n",
    "print(\"문장의 최단 길이:\", min_len)\n",
    "print(\"문장의 최장 길이:\", max_len)\n",
    "print(\"문장의 평균 길이:\", sum_len // len(train))\n",
    "\n",
    "sentence_length = np.zeros((max_len), dtype=int)\n",
    "\n",
    "for sen in train:\n",
    "    sentence_length[len(sen)-1] += 1\n",
    "\n",
    "plt.bar(range(max_len), sentence_length, width=1.0)\n",
    "plt.title(\"Sentence Length Distribution\")\n",
    "plt.show()"
   ]
  },
  {
   "cell_type": "code",
   "execution_count": 30,
   "id": "e31a379a",
   "metadata": {},
   "outputs": [
    {
     "data": {
      "image/png": "[encoded data removed]",
      "text/plain": [
       "<Figure size 432x288 with 1 Axes>"
      ]
     },
     "metadata": {
      "needs_background": "light"
     },
     "output_type": "display_data"
    }
   ],
   "source": [
    "max_len = 110\n",
    "min_len = 5\n",
    "\n",
    "# 길이 조건에 맞는 문장만 선택합니다.\n",
    "train = [s for s in train if (len(s) < max_len) & (len(s) >= min_len)]\n",
    "\n",
    "# 분포도를 다시 그려봅니다.\n",
    "sentence_length = np.zeros((max_len), dtype=int)\n",
    "\n",
    "for sen in train:\n",
    "    sentence_length[len(sen)-1] += 1\n",
    "\n",
    "plt.bar(range(max_len), sentence_length, width=1.0)\n",
    "plt.title(\"Sentence Length Distribution\")\n",
    "plt.show()"
   ]
  },
  {
   "cell_type": "markdown",
   "id": "e342f867",
   "metadata": {},
   "source": [
    "# 2. SentencePiece 모델 학습"
   ]
  },
  {
   "cell_type": "code",
   "execution_count": null,
   "id": "62c97d33",
   "metadata": {},
   "outputs": [],
   "source": []
  },
  {
   "cell_type": "code",
   "execution_count": null,
   "id": "6712999c",
   "metadata": {},
   "outputs": [],
   "source": []
  },
  {
   "cell_type": "code",
   "execution_count": null,
   "id": "79c1caed",
   "metadata": {},
   "outputs": [],
   "source": []
  },
  {
   "cell_type": "code",
   "execution_count": null,
   "id": "5886d66a",
   "metadata": {},
   "outputs": [],
   "source": []
  },
  {
   "cell_type": "code",
   "execution_count": null,
   "id": "77afe6db",
   "metadata": {},
   "outputs": [],
   "source": []
  },
  {
   "cell_type": "markdown",
   "id": "b3db632a",
   "metadata": {},
   "source": [
    "# 3. Tokenizer"
   ]
  },
  {
   "cell_type": "code",
   "execution_count": null,
   "id": "67604c55",
   "metadata": {},
   "outputs": [],
   "source": []
  },
  {
   "cell_type": "code",
   "execution_count": null,
   "id": "65831e2d",
   "metadata": {},
   "outputs": [],
   "source": []
  },
  {
   "cell_type": "markdown",
   "id": "25062053",
   "metadata": {},
   "source": [
    "# 4. 네이버 영화리뷰 감적 분석 모델 재학습"
   ]
  },
  {
   "cell_type": "code",
   "execution_count": null,
   "id": "2614910c",
   "metadata": {},
   "outputs": [],
   "source": []
  },
  {
   "cell_type": "code",
   "execution_count": null,
   "id": "77734d9f",
   "metadata": {},
   "outputs": [],
   "source": []
  },
  {
   "cell_type": "code",
   "execution_count": null,
   "id": "93126214",
   "metadata": {},
   "outputs": [],
   "source": []
  },
  {
   "cell_type": "code",
   "execution_count": null,
   "id": "66f342aa",
   "metadata": {},
   "outputs": [],
   "source": []
  },
  {
   "cell_type": "code",
   "execution_count": null,
   "id": "78103758",
   "metadata": {},
   "outputs": [],
   "source": []
  },
  {
   "cell_type": "code",
   "execution_count": null,
   "id": "f93a81ff",
   "metadata": {},
   "outputs": [],
   "source": []
  },
  {
   "cell_type": "markdown",
   "id": "e7b63ee7",
   "metadata": {},
   "source": [
    "# 5. KoNLPy 형태소 분석기를 사용한 모델과 성능 비교"
   ]
  },
  {
   "cell_type": "markdown",
   "id": "7fb2d424",
   "metadata": {},
   "source": [
    "- Mecab"
   ]
  },
  {
   "cell_type": "code",
   "execution_count": null,
   "id": "cbe4e9ba",
   "metadata": {},
   "outputs": [],
   "source": []
  },
  {
   "cell_type": "markdown",
   "id": "669eb9aa",
   "metadata": {},
   "source": [
    "- kkma"
   ]
  },
  {
   "cell_type": "code",
   "execution_count": null,
   "id": "4c999ed7",
   "metadata": {},
   "outputs": [],
   "source": []
  },
  {
   "cell_type": "markdown",
   "id": "013f50c0",
   "metadata": {},
   "source": [
    "- Okt"
   ]
  },
  {
   "cell_type": "code",
   "execution_count": null,
   "id": "36876b2f",
   "metadata": {},
   "outputs": [],
   "source": []
  },
  {
   "cell_type": "markdown",
   "id": "9abeebed",
   "metadata": {},
   "source": [
    "# 6. SentencePiece 모델의 성능 개선"
   ]
  },
  {
   "cell_type": "markdown",
   "id": "48558afb",
   "metadata": {},
   "source": []
  }
 ],
 "metadata": {
  "kernelspec": {
   "display_name": "Python 3 (ipykernel)",
   "language": "python",
   "name": "python3"
  },
  "language_info": {
   "codemirror_mode": {
    "name": "ipython",
    "version": 3
   },
   "file_extension": ".py",
   "mimetype": "text/x-python",
   "name": "python",
   "nbconvert_exporter": "python",
   "pygments_lexer": "ipython3",
   "version": "3.9.7"
  }
 },
 "nbformat": 4,
 "nbformat_minor": 5
}
